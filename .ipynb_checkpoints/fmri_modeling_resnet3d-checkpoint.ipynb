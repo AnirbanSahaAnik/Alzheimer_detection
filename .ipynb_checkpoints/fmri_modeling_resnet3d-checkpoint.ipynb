{
 "cells": [
  {
   "cell_type": "code",
   "execution_count": 1,
   "id": "eedbc8ca-7366-4170-ab45-5f0e67b4beb3",
   "metadata": {},
   "outputs": [],
   "source": [
    "import pandas as pd"
   ]
  },
  {
   "cell_type": "code",
   "execution_count": 3,
   "id": "f8fc878c-119b-4e88-9bb5-17e4ed2a2bbe",
   "metadata": {},
   "outputs": [],
   "source": [
    "import os\n",
    "\n",
    "def find_folders_with_dcm(directory):\n",
    "    folders_with_dcm = []  # List to store folder paths\n",
    "    for root, dirs, files in os.walk(directory):  # Walk through the folder\n",
    "        if any(file.endswith('.dcm') for file in files):  # Check if any file ends with .dcm\n",
    "            folders_with_dcm.append(root)  # Add the folder path to the list\n",
    "    return folders_with_dcm\n",
    "\n",
    "\n"
   ]
  },
  {
   "cell_type": "code",
   "execution_count": 5,
   "id": "a31eb064-d7b0-4b79-8136-85c4492e44e5",
   "metadata": {},
   "outputs": [],
   "source": [
    "directory = r'C:\\Users\\SAIFUL_BADHON\\Downloads\\fMRI\\ADNI'  # Replace with your folder path\n",
    "folders = find_folders_with_dcm(directory)"
   ]
  },
  {
   "cell_type": "code",
   "execution_count": 6,
   "id": "812cf043-5254-471a-a771-39aec783ee49",
   "metadata": {},
   "outputs": [
    {
     "data": {
      "text/plain": [
       "['C:\\\\Users\\\\SAIFUL_BADHON\\\\Downloads\\\\fMRI\\\\ADNI\\\\002_S_0413\\\\Axial_MB_rsfMRI__Eyes_Open_\\\\2019-08-27_09_39_37.0\\\\I1221056',\n",
       " 'C:\\\\Users\\\\SAIFUL_BADHON\\\\Downloads\\\\fMRI\\\\ADNI\\\\002_S_0413\\\\Extended_Resting_State_fMRI\\\\2014-05-01_07_08_25.0\\\\I423209',\n",
       " 'C:\\\\Users\\\\SAIFUL_BADHON\\\\Downloads\\\\fMRI\\\\ADNI\\\\002_S_0413\\\\Extended_Resting_State_fMRI\\\\2015-06-09_07_01_52.0\\\\I569636',\n",
       " 'C:\\\\Users\\\\SAIFUL_BADHON\\\\Downloads\\\\fMRI\\\\ADNI\\\\002_S_0413\\\\Resting_State_fMRI\\\\2011-06-16_12_18_49.0\\\\I240811',\n",
       " 'C:\\\\Users\\\\SAIFUL_BADHON\\\\Downloads\\\\fMRI\\\\ADNI\\\\002_S_0413\\\\Resting_State_fMRI\\\\2012-05-15_16_38_28.0\\\\I304790',\n",
       " 'C:\\\\Users\\\\SAIFUL_BADHON\\\\Downloads\\\\fMRI\\\\ADNI\\\\002_S_0685\\\\Resting_State_fMRI\\\\2011-07-08_07_04_27.0\\\\I243902',\n",
       " 'C:\\\\Users\\\\SAIFUL_BADHON\\\\Downloads\\\\fMRI\\\\ADNI\\\\002_S_0729\\\\Resting_State_fMRI\\\\2012-08-07_07_21_09.0\\\\I322050',\n",
       " 'C:\\\\Users\\\\SAIFUL_BADHON\\\\Downloads\\\\fMRI\\\\ADNI\\\\002_S_1155\\\\Axial_rsfMRI__Eyes_Open_\\\\2017-04-24_13_21_32.0\\\\I843512',\n",
       " 'C:\\\\Users\\\\SAIFUL_BADHON\\\\Downloads\\\\fMRI\\\\ADNI\\\\002_S_1155\\\\Axial_rsfMRI__Eyes_Open_\\\\2018-05-08_13_06_40.0\\\\I995503',\n",
       " 'C:\\\\Users\\\\SAIFUL_BADHON\\\\Downloads\\\\fMRI\\\\ADNI\\\\002_S_1155\\\\Resting_State_fMRI\\\\2011-12-22_09_35_38.0\\\\I274147',\n",
       " 'C:\\\\Users\\\\SAIFUL_BADHON\\\\Downloads\\\\fMRI\\\\ADNI\\\\002_S_1155\\\\Resting_State_fMRI\\\\2012-12-20_12_16_12.0\\\\I352947',\n",
       " 'C:\\\\Users\\\\SAIFUL_BADHON\\\\Downloads\\\\fMRI\\\\ADNI\\\\002_S_1155\\\\Resting_State_fMRI\\\\2014-01-09_09_45_25.0\\\\I404373',\n",
       " 'C:\\\\Users\\\\SAIFUL_BADHON\\\\Downloads\\\\fMRI\\\\ADNI\\\\002_S_1261\\\\Axial_rsfMRI__Eyes_Open_\\\\2017-03-15_11_23_54.0\\\\I831069',\n",
       " 'C:\\\\Users\\\\SAIFUL_BADHON\\\\Downloads\\\\fMRI\\\\ADNI\\\\002_S_1261\\\\Extended_Resting_State_fMRI\\\\2014-03-13_14_02_51.0\\\\I418009',\n",
       " 'C:\\\\Users\\\\SAIFUL_BADHON\\\\Downloads\\\\fMRI\\\\ADNI\\\\002_S_1261\\\\Extended_Resting_State_fMRI\\\\2015-06-02_12_30_30.0\\\\I495943',\n",
       " 'C:\\\\Users\\\\SAIFUL_BADHON\\\\Downloads\\\\fMRI\\\\ADNI\\\\002_S_1261\\\\Resting_State_fMRI\\\\2011-03-14_16_04_31.0\\\\I223896',\n",
       " 'C:\\\\Users\\\\SAIFUL_BADHON\\\\Downloads\\\\fMRI\\\\ADNI\\\\002_S_1261\\\\Resting_State_fMRI\\\\2012-02-23_14_16_12.0\\\\I286519',\n",
       " 'C:\\\\Users\\\\SAIFUL_BADHON\\\\Downloads\\\\fMRI\\\\ADNI\\\\002_S_1261\\\\Resting_State_fMRI\\\\2013-02-27_16_29_11.0\\\\I361612',\n",
       " 'C:\\\\Users\\\\SAIFUL_BADHON\\\\Downloads\\\\fMRI\\\\ADNI\\\\002_S_1268\\\\Resting_State_fMRI\\\\2011-04-13_14_12_27.0\\\\I227595',\n",
       " 'C:\\\\Users\\\\SAIFUL_BADHON\\\\Downloads\\\\fMRI\\\\ADNI\\\\002_S_1268\\\\Resting_State_fMRI\\\\2012-03-22_08_12_04.0\\\\I292427',\n",
       " 'C:\\\\Users\\\\SAIFUL_BADHON\\\\Downloads\\\\fMRI\\\\ADNI\\\\002_S_1280\\\\Axial_MB_rsfMRI__Eyes_Open_\\\\2019-03-06_09_11_05.0\\\\I1140413',\n",
       " 'C:\\\\Users\\\\SAIFUL_BADHON\\\\Downloads\\\\fMRI\\\\ADNI\\\\002_S_1280\\\\Axial_rsfMRI__Eyes_Open_\\\\2017-03-13_13_38_31.0\\\\I829298',\n",
       " 'C:\\\\Users\\\\SAIFUL_BADHON\\\\Downloads\\\\fMRI\\\\ADNI\\\\002_S_1280\\\\Extended_Resting_State_fMRI\\\\2014-03-14_15_13_20.0\\\\I418025',\n",
       " 'C:\\\\Users\\\\SAIFUL_BADHON\\\\Downloads\\\\fMRI\\\\ADNI\\\\002_S_1280\\\\Resting_State_fMRI\\\\2011-05-04_13_26_34.0\\\\I233437',\n",
       " 'C:\\\\Users\\\\SAIFUL_BADHON\\\\Downloads\\\\fMRI\\\\ADNI\\\\002_S_1280\\\\Resting_State_fMRI\\\\2012-03-01_13_10_21.0\\\\I287493',\n",
       " 'C:\\\\Users\\\\SAIFUL_BADHON\\\\Downloads\\\\fMRI\\\\ADNI\\\\002_S_2010\\\\Resting_State_fMRI\\\\2010-06-24_14_21_28.0\\\\I180734',\n",
       " 'C:\\\\Users\\\\SAIFUL_BADHON\\\\Downloads\\\\fMRI\\\\ADNI\\\\002_S_2010\\\\Resting_State_fMRI\\\\2010-10-22_15_31_21.0\\\\I199148',\n",
       " 'C:\\\\Users\\\\SAIFUL_BADHON\\\\Downloads\\\\fMRI\\\\ADNI\\\\002_S_2010\\\\Resting_State_fMRI\\\\2011-01-22_12_31_55.0\\\\I213885',\n",
       " 'C:\\\\Users\\\\SAIFUL_BADHON\\\\Downloads\\\\fMRI\\\\ADNI\\\\002_S_2010\\\\Resting_State_fMRI\\\\2011-07-07_13_33_07.0\\\\I243875',\n",
       " 'C:\\\\Users\\\\SAIFUL_BADHON\\\\Downloads\\\\fMRI\\\\ADNI\\\\002_S_2010\\\\Resting_State_fMRI\\\\2012-07-11_16_41_06.0\\\\I316041',\n",
       " 'C:\\\\Users\\\\SAIFUL_BADHON\\\\Downloads\\\\fMRI\\\\ADNI\\\\002_S_2043\\\\Resting_State_fMRI\\\\2010-12-08_11_31_20.0\\\\I207955',\n",
       " 'C:\\\\Users\\\\SAIFUL_BADHON\\\\Downloads\\\\fMRI\\\\ADNI\\\\002_S_2043\\\\Resting_State_fMRI\\\\2011-09-16_17_12_05.0\\\\I256635',\n",
       " 'C:\\\\Users\\\\SAIFUL_BADHON\\\\Downloads\\\\fMRI\\\\ADNI\\\\002_S_2073\\\\Resting_State_fMRI\\\\2010-09-07_07_11_14.0\\\\I192250',\n",
       " 'C:\\\\Users\\\\SAIFUL_BADHON\\\\Downloads\\\\fMRI\\\\ADNI\\\\002_S_2073\\\\Resting_State_fMRI\\\\2010-12-06_14_18_46.0\\\\I207666',\n",
       " 'C:\\\\Users\\\\SAIFUL_BADHON\\\\Downloads\\\\fMRI\\\\ADNI\\\\002_S_2073\\\\Resting_State_fMRI\\\\2011-09-22_07_25_55.0\\\\I257487',\n",
       " 'C:\\\\Users\\\\SAIFUL_BADHON\\\\Downloads\\\\fMRI\\\\ADNI\\\\002_S_2073\\\\Resting_State_fMRI\\\\2012-09-11_07_02_16.0\\\\I332881',\n",
       " 'C:\\\\Users\\\\SAIFUL_BADHON\\\\Downloads\\\\fMRI\\\\ADNI\\\\002_S_2073\\\\Resting_State_fMRI\\\\2013-10-01_07_09_31.0\\\\I393007',\n",
       " 'C:\\\\Users\\\\SAIFUL_BADHON\\\\Downloads\\\\fMRI\\\\ADNI\\\\002_S_4171\\\\Resting_State_fMRI\\\\2011-08-08_17_17_00.0\\\\I249536',\n",
       " 'C:\\\\Users\\\\SAIFUL_BADHON\\\\Downloads\\\\fMRI\\\\ADNI\\\\002_S_4213\\\\Axial_MB_rsfMRI__Eyes_Open_\\\\2019-10-03_10_19_44.0\\\\I1236684',\n",
       " 'C:\\\\Users\\\\SAIFUL_BADHON\\\\Downloads\\\\fMRI\\\\ADNI\\\\002_S_4213\\\\Axial_rsfMRI__Eyes_Open_\\\\2017-08-14_12_57_28.0\\\\I888012',\n",
       " 'C:\\\\Users\\\\SAIFUL_BADHON\\\\Downloads\\\\fMRI\\\\ADNI\\\\002_S_4213\\\\Extended_Resting_State_fMRI\\\\2015-09-29_18_06_31.0\\\\I573757',\n",
       " 'C:\\\\Users\\\\SAIFUL_BADHON\\\\Downloads\\\\fMRI\\\\ADNI\\\\002_S_4213\\\\Resting_State_fMRI\\\\2011-09-02_18_27_31.0\\\\I254581',\n",
       " 'C:\\\\Users\\\\SAIFUL_BADHON\\\\Downloads\\\\fMRI\\\\ADNI\\\\002_S_4213\\\\Resting_State_fMRI\\\\2011-12-05_20_27_11.0\\\\I273218',\n",
       " 'C:\\\\Users\\\\SAIFUL_BADHON\\\\Downloads\\\\fMRI\\\\ADNI\\\\002_S_4213\\\\Resting_State_fMRI\\\\2012-09-19_15_07_17.0\\\\I335999',\n",
       " 'C:\\\\Users\\\\SAIFUL_BADHON\\\\Downloads\\\\fMRI\\\\ADNI\\\\002_S_4219\\\\Resting_State_fMRI\\\\2011-09-14_16_23_47.0\\\\I256148',\n",
       " 'C:\\\\Users\\\\SAIFUL_BADHON\\\\Downloads\\\\fMRI\\\\ADNI\\\\002_S_4219\\\\Resting_State_fMRI\\\\2011-12-15_14_33_58.0\\\\I273181',\n",
       " 'C:\\\\Users\\\\SAIFUL_BADHON\\\\Downloads\\\\fMRI\\\\ADNI\\\\002_S_4219\\\\Resting_State_fMRI\\\\2012-10-03_16_00_02.0\\\\I338109',\n",
       " 'C:\\\\Users\\\\SAIFUL_BADHON\\\\Downloads\\\\fMRI\\\\ADNI\\\\002_S_4225\\\\Axial_rsfMRI__Eyes_Open_\\\\2018-11-12_10_09_12.0\\\\I1075138',\n",
       " 'C:\\\\Users\\\\SAIFUL_BADHON\\\\Downloads\\\\fMRI\\\\ADNI\\\\002_S_4225\\\\Resting_State_fMRI\\\\2011-09-21_10_07_24.0\\\\I257275',\n",
       " 'C:\\\\Users\\\\SAIFUL_BADHON\\\\Downloads\\\\fMRI\\\\ADNI\\\\002_S_4225\\\\Resting_State_fMRI\\\\2011-12-26_12_06_23.0\\\\I274579',\n",
       " 'C:\\\\Users\\\\SAIFUL_BADHON\\\\Downloads\\\\fMRI\\\\ADNI\\\\002_S_4225\\\\Resting_State_fMRI\\\\2013-10-17_16_44_12.0\\\\I395105',\n",
       " 'C:\\\\Users\\\\SAIFUL_BADHON\\\\Downloads\\\\fMRI\\\\ADNI\\\\002_S_4229\\\\Resting_State_fMRI\\\\2011-09-21_16_35_10.0\\\\I257477',\n",
       " 'C:\\\\Users\\\\SAIFUL_BADHON\\\\Downloads\\\\fMRI\\\\ADNI\\\\002_S_4229\\\\Resting_State_fMRI\\\\2012-04-10_07_28_00.0\\\\I296652',\n",
       " 'C:\\\\Users\\\\SAIFUL_BADHON\\\\Downloads\\\\fMRI\\\\ADNI\\\\002_S_4229\\\\Resting_State_fMRI\\\\2012-09-18_12_07_30.0\\\\I335317',\n",
       " 'C:\\\\Users\\\\SAIFUL_BADHON\\\\Downloads\\\\fMRI\\\\ADNI\\\\002_S_4229\\\\Resting_State_fMRI\\\\2013-10-16_19_11_44.0\\\\I394820',\n",
       " 'C:\\\\Users\\\\SAIFUL_BADHON\\\\Downloads\\\\fMRI\\\\ADNI\\\\002_S_4237\\\\Resting_State_fMRI\\\\2011-09-26_15_43_40.0\\\\I258448',\n",
       " 'C:\\\\Users\\\\SAIFUL_BADHON\\\\Downloads\\\\fMRI\\\\ADNI\\\\002_S_4237\\\\Resting_State_fMRI\\\\2012-11-01_12_29_20.0\\\\I346233',\n",
       " 'C:\\\\Users\\\\SAIFUL_BADHON\\\\Downloads\\\\fMRI\\\\ADNI\\\\002_S_4251\\\\Resting_State_fMRI\\\\2011-09-26_22_11_05.0\\\\I258528',\n",
       " 'C:\\\\Users\\\\SAIFUL_BADHON\\\\Downloads\\\\fMRI\\\\ADNI\\\\002_S_4251\\\\Resting_State_fMRI\\\\2011-12-19_18_39_54.0\\\\I273556',\n",
       " 'C:\\\\Users\\\\SAIFUL_BADHON\\\\Downloads\\\\fMRI\\\\ADNI\\\\002_S_4251\\\\Resting_State_fMRI\\\\2012-04-17_17_22_07.0\\\\I298203',\n",
       " 'C:\\\\Users\\\\SAIFUL_BADHON\\\\Downloads\\\\fMRI\\\\ADNI\\\\002_S_4262\\\\Extended_Resting_State_fMRI\\\\2015-10-15_07_18_13.0\\\\I573585',\n",
       " 'C:\\\\Users\\\\SAIFUL_BADHON\\\\Downloads\\\\fMRI\\\\ADNI\\\\002_S_4262\\\\Resting_State_fMRI\\\\2011-10-05_07_24_30.0\\\\I259654',\n",
       " 'C:\\\\Users\\\\SAIFUL_BADHON\\\\Downloads\\\\fMRI\\\\ADNI\\\\002_S_4270\\\\Resting_State_fMRI\\\\2011-10-11_07_50_49.0\\\\I260580',\n",
       " 'C:\\\\Users\\\\SAIFUL_BADHON\\\\Downloads\\\\fMRI\\\\ADNI\\\\002_S_4270\\\\Resting_State_fMRI\\\\2012-01-10_07_17_39.0\\\\I277135',\n",
       " 'C:\\\\Users\\\\SAIFUL_BADHON\\\\Downloads\\\\fMRI\\\\ADNI\\\\002_S_4270\\\\Resting_State_fMRI\\\\2012-05-04_07_22_33.0\\\\I301757',\n",
       " 'C:\\\\Users\\\\SAIFUL_BADHON\\\\Downloads\\\\fMRI\\\\ADNI\\\\002_S_4270\\\\Resting_State_fMRI\\\\2012-11-14_15_18_28.0\\\\I346801',\n",
       " 'C:\\\\Users\\\\SAIFUL_BADHON\\\\Downloads\\\\fMRI\\\\ADNI\\\\002_S_4447\\\\Resting_State_fMRI\\\\2012-01-17_09_49_41.0\\\\I278818',\n",
       " 'C:\\\\Users\\\\SAIFUL_BADHON\\\\Downloads\\\\fMRI\\\\ADNI\\\\002_S_4447\\\\Resting_State_fMRI\\\\2013-01-30_06_56_38.0\\\\I361436',\n",
       " 'C:\\\\Users\\\\SAIFUL_BADHON\\\\Downloads\\\\fMRI\\\\ADNI\\\\002_S_4473\\\\Extended_Resting_State_fMRI\\\\2015-02-12_14_25_05.0\\\\I473874',\n",
       " 'C:\\\\Users\\\\SAIFUL_BADHON\\\\Downloads\\\\fMRI\\\\ADNI\\\\002_S_4473\\\\Resting_State_fMRI\\\\2012-05-17_12_09_20.0\\\\I305240',\n",
       " 'C:\\\\Users\\\\SAIFUL_BADHON\\\\Downloads\\\\fMRI\\\\ADNI\\\\002_S_4521\\\\Extended_Resting_State_fMRI\\\\2015-02-19_16_06_09.0\\\\I491173',\n",
       " 'C:\\\\Users\\\\SAIFUL_BADHON\\\\Downloads\\\\fMRI\\\\ADNI\\\\002_S_4521\\\\Extended_Resting_State_fMRI\\\\2016-03-24_06_54_58.0\\\\I662503',\n",
       " 'C:\\\\Users\\\\SAIFUL_BADHON\\\\Downloads\\\\fMRI\\\\ADNI\\\\002_S_4521\\\\Resting_State_fMRI\\\\2012-09-04_12_33_35.0\\\\I330179',\n",
       " 'C:\\\\Users\\\\SAIFUL_BADHON\\\\Downloads\\\\fMRI\\\\ADNI\\\\002_S_4521\\\\Resting_State_fMRI\\\\2013-03-15_16_04_42.0\\\\I363568',\n",
       " 'C:\\\\Users\\\\SAIFUL_BADHON\\\\Downloads\\\\fMRI\\\\ADNI\\\\002_S_4654\\\\Axial_rsfMRI__Eyes_Open_\\\\2018-05-22_09_29_29.0\\\\I1001982',\n",
       " 'C:\\\\Users\\\\SAIFUL_BADHON\\\\Downloads\\\\fMRI\\\\ADNI\\\\002_S_4654\\\\Resting_State_fMRI\\\\2012-04-05_09_35_24.0\\\\I296366',\n",
       " 'C:\\\\Users\\\\SAIFUL_BADHON\\\\Downloads\\\\fMRI\\\\ADNI\\\\002_S_4746\\\\Resting_State_fMRI\\\\2012-05-29_16_35_01.0\\\\I306889',\n",
       " 'C:\\\\Users\\\\SAIFUL_BADHON\\\\Downloads\\\\fMRI\\\\ADNI\\\\002_S_4746\\\\Resting_State_fMRI\\\\2013-06-03_15_00_48.0\\\\I375097',\n",
       " 'C:\\\\Users\\\\SAIFUL_BADHON\\\\Downloads\\\\fMRI\\\\ADNI\\\\002_S_4799\\\\Axial_MB_rsfMRI__Eyes_Open_\\\\2019-06-18_13_04_43.0\\\\I1270057',\n",
       " 'C:\\\\Users\\\\SAIFUL_BADHON\\\\Downloads\\\\fMRI\\\\ADNI\\\\002_S_4799\\\\Resting_State_fMRI\\\\2012-09-10_19_02_54.0\\\\I332859',\n",
       " 'C:\\\\Users\\\\SAIFUL_BADHON\\\\Downloads\\\\fMRI\\\\ADNI\\\\002_S_4799\\\\Resting_State_fMRI\\\\2013-07-02_06_57_42.0\\\\I379008',\n",
       " 'C:\\\\Users\\\\SAIFUL_BADHON\\\\Downloads\\\\fMRI\\\\ADNI\\\\002_S_5018\\\\Resting_State_fMRI\\\\2012-11-08_07_20_35.0\\\\I346237',\n",
       " 'C:\\\\Users\\\\SAIFUL_BADHON\\\\Downloads\\\\fMRI\\\\ADNI\\\\002_S_5018\\\\Resting_State_fMRI\\\\2013-05-16_12_20_33.0\\\\I372812',\n",
       " 'C:\\\\Users\\\\SAIFUL_BADHON\\\\Downloads\\\\fMRI\\\\ADNI\\\\002_S_5178\\\\Axial_MB_rsfMRI__Eyes_Open_\\\\2019-11-25_11_55_44.0\\\\I1270073',\n",
       " 'C:\\\\Users\\\\SAIFUL_BADHON\\\\Downloads\\\\fMRI\\\\ADNI\\\\002_S_5178\\\\Extended_Resting_State_fMRI\\\\2015-07-14_15_53_13.0\\\\I502023',\n",
       " 'C:\\\\Users\\\\SAIFUL_BADHON\\\\Downloads\\\\fMRI\\\\ADNI\\\\002_S_5178\\\\Resting_State_fMRI\\\\2013-08-06_15_23_18.0\\\\I384734',\n",
       " 'C:\\\\Users\\\\SAIFUL_BADHON\\\\Downloads\\\\fMRI\\\\ADNI\\\\002_S_5178\\\\Resting_State_fMRI\\\\2013-12-05_09_12_00.0\\\\I400330',\n",
       " 'C:\\\\Users\\\\SAIFUL_BADHON\\\\Downloads\\\\fMRI\\\\ADNI\\\\002_S_5230\\\\Axial_rsfMRI__Eyes_Open_\\\\2017-08-07_08_02_30.0\\\\I884810',\n",
       " 'C:\\\\Users\\\\SAIFUL_BADHON\\\\Downloads\\\\fMRI\\\\ADNI\\\\002_S_5230\\\\Extended_Resting_State_fMRI\\\\2015-12-01_06_53_48.0\\\\I573700',\n",
       " 'C:\\\\Users\\\\SAIFUL_BADHON\\\\Downloads\\\\fMRI\\\\ADNI\\\\002_S_5230\\\\Resting_State_fMRI\\\\2013-09-23_07_18_59.0\\\\I391667',\n",
       " 'C:\\\\Users\\\\SAIFUL_BADHON\\\\Downloads\\\\fMRI\\\\ADNI\\\\002_S_5230\\\\Resting_State_fMRI\\\\2014-01-24_08_46_08.0\\\\I407829',\n",
       " 'C:\\\\Users\\\\SAIFUL_BADHON\\\\Downloads\\\\fMRI\\\\ADNI\\\\002_S_5256\\\\Resting_State_fMRI\\\\2013-07-15_13_58_48.0\\\\I380899',\n",
       " 'C:\\\\Users\\\\SAIFUL_BADHON\\\\Downloads\\\\fMRI\\\\ADNI\\\\002_S_5256\\\\Resting_State_fMRI\\\\2014-02-19_18_37_24.0\\\\I414939',\n",
       " 'C:\\\\Users\\\\SAIFUL_BADHON\\\\Downloads\\\\fMRI\\\\ADNI\\\\002_S_6007\\\\Axial_MB_rsfMRI__Eyes_Open_\\\\2019-05-16_09_43_41.0\\\\I1270105',\n",
       " 'C:\\\\Users\\\\SAIFUL_BADHON\\\\Downloads\\\\fMRI\\\\ADNI\\\\002_S_6007\\\\Axial_rsfMRI__Eyes_Open_\\\\2017-03-31_10_40_49.0\\\\I835742',\n",
       " 'C:\\\\Users\\\\SAIFUL_BADHON\\\\Downloads\\\\fMRI\\\\ADNI\\\\002_S_6030\\\\Axial_rsfMRI__Eyes_Open_\\\\2017-06-15_13_30_22.0\\\\I861967',\n",
       " 'C:\\\\Users\\\\SAIFUL_BADHON\\\\Downloads\\\\fMRI\\\\ADNI\\\\002_S_6053\\\\Axial_MB_rsfMRI__Eyes_Open_\\\\2019-11-05_13_39_30.0\\\\I1255417',\n",
       " 'C:\\\\Users\\\\SAIFUL_BADHON\\\\Downloads\\\\fMRI\\\\ADNI\\\\002_S_6103\\\\Axial_rsfMRI__Eyes_Open_\\\\2017-11-20_07_51_34.0\\\\I938771',\n",
       " 'C:\\\\Users\\\\SAIFUL_BADHON\\\\Downloads\\\\fMRI\\\\ADNI\\\\002_S_6404\\\\Axial_rsfMRI__Eyes_Open_\\\\2018-05-29_11_59_34.0\\\\I1021535',\n",
       " 'C:\\\\Users\\\\SAIFUL_BADHON\\\\Downloads\\\\fMRI\\\\ADNI\\\\002_S_6456\\\\Axial_rsfMRI__Eyes_Open_\\\\2018-07-03_07_54_02.0\\\\I1017840',\n",
       " 'C:\\\\Users\\\\SAIFUL_BADHON\\\\Downloads\\\\fMRI\\\\ADNI\\\\002_S_6695\\\\Axial_MB_rsfMRI__Eyes_Open_\\\\2019-03-14_07_51_57.0\\\\I1270155',\n",
       " 'C:\\\\Users\\\\SAIFUL_BADHON\\\\Downloads\\\\fMRI\\\\ADNI\\\\002_S_6864\\\\Axial_MB_rsfMRI__Eyes_Open_\\\\2020-03-11_08_50_25.0\\\\I1303618',\n",
       " 'C:\\\\Users\\\\SAIFUL_BADHON\\\\Downloads\\\\fMRI\\\\ADNI\\\\003_S_0908\\\\Axial_rsfMRI__Eyes_Open_\\\\2019-10-29_13_33_43.0\\\\I1249283',\n",
       " 'C:\\\\Users\\\\SAIFUL_BADHON\\\\Downloads\\\\fMRI\\\\ADNI\\\\003_S_1122\\\\Axial_rsfMRI__Eyes_Open_\\\\2018-12-06_08_10_10.0\\\\I1083069',\n",
       " 'C:\\\\Users\\\\SAIFUL_BADHON\\\\Downloads\\\\fMRI\\\\ADNI\\\\003_S_1122\\\\Axial_rsfMRI__Eyes_Open_\\\\2019-05-07_10_25_03.0\\\\I1162385',\n",
       " 'C:\\\\Users\\\\SAIFUL_BADHON\\\\Downloads\\\\fMRI\\\\ADNI\\\\003_S_4288\\\\Axial_-_Advanced_fMRI_64_Channel\\\\2021-09-30_11_15_46.0\\\\I1498586',\n",
       " 'C:\\\\Users\\\\SAIFUL_BADHON\\\\Downloads\\\\fMRI\\\\ADNI\\\\003_S_4288\\\\Axial_rsfMRI__Eyes_Open_\\\\2017-10-03_13_13_05.0\\\\I915003',\n",
       " 'C:\\\\Users\\\\SAIFUL_BADHON\\\\Downloads\\\\fMRI\\\\ADNI\\\\003_S_4288\\\\Axial_rsfMRI__Eyes_Open_\\\\2019-09-12_13_44_02.0\\\\I1226310',\n",
       " 'C:\\\\Users\\\\SAIFUL_BADHON\\\\Downloads\\\\fMRI\\\\ADNI\\\\003_S_4354\\\\Axial_rsfMRI__Eyes_Open_\\\\2017-06-13_11_43_32.0\\\\I863647',\n",
       " 'C:\\\\Users\\\\SAIFUL_BADHON\\\\Downloads\\\\fMRI\\\\ADNI\\\\003_S_4354\\\\Axial_rsfMRI__Eyes_Open_\\\\2018-12-19_14_31_05.0\\\\I1091965',\n",
       " 'C:\\\\Users\\\\SAIFUL_BADHON\\\\Downloads\\\\fMRI\\\\ADNI\\\\003_S_4441\\\\Axial_rsfMRI__Eyes_Open_\\\\2019-04-10_12_56_15.0\\\\I1154574',\n",
       " 'C:\\\\Users\\\\SAIFUL_BADHON\\\\Downloads\\\\fMRI\\\\ADNI\\\\003_S_4644\\\\Axial_rsfMRI__Eyes_Open_\\\\2017-06-21_15_28_29.0\\\\I863255',\n",
       " 'C:\\\\Users\\\\SAIFUL_BADHON\\\\Downloads\\\\fMRI\\\\ADNI\\\\003_S_4644\\\\Axial_rsfMRI__Eyes_Open_\\\\2021-07-29_12_57_24.0\\\\I1477580',\n",
       " 'C:\\\\Users\\\\SAIFUL_BADHON\\\\Downloads\\\\fMRI\\\\ADNI\\\\003_S_4900\\\\Axial_rsfMRI__Eyes_Open_\\\\2019-11-08_13_01_36.0\\\\I1255148',\n",
       " 'C:\\\\Users\\\\SAIFUL_BADHON\\\\Downloads\\\\fMRI\\\\ADNI\\\\003_S_4900\\\\Axial_rsfMRI__Eyes_Open_\\\\2021-11-02_13_25_30.0\\\\I1513717',\n",
       " 'C:\\\\Users\\\\SAIFUL_BADHON\\\\Downloads\\\\fMRI\\\\ADNI\\\\003_S_6067\\\\Axial_rsfMRI__Eyes_Open_\\\\2017-08-18_11_15_35.0\\\\I912451',\n",
       " 'C:\\\\Users\\\\SAIFUL_BADHON\\\\Downloads\\\\fMRI\\\\ADNI\\\\003_S_6067\\\\Axial_rsfMRI__Eyes_Open_\\\\2021-10-27_10_08_28.0\\\\I1511203',\n",
       " 'C:\\\\Users\\\\SAIFUL_BADHON\\\\Downloads\\\\fMRI\\\\ADNI\\\\003_S_6256\\\\Axial_rsfMRI__Eyes_Open_\\\\2018-03-13_15_53_35.0\\\\I973282',\n",
       " 'C:\\\\Users\\\\SAIFUL_BADHON\\\\Downloads\\\\fMRI\\\\ADNI\\\\003_S_6256\\\\Axial_rsfMRI__Eyes_Open_\\\\2022-05-19_13_18_40.0\\\\I1582534',\n",
       " 'C:\\\\Users\\\\SAIFUL_BADHON\\\\Downloads\\\\fMRI\\\\ADNI\\\\003_S_6257\\\\Axial_rsfMRI__Eyes_Open_\\\\2018-03-15_15_02_27.0\\\\I974342',\n",
       " 'C:\\\\Users\\\\SAIFUL_BADHON\\\\Downloads\\\\fMRI\\\\ADNI\\\\003_S_6258\\\\Axial_rsfMRI__Eyes_Open_\\\\2019-05-02_11_25_07.0\\\\I1160994',\n",
       " 'C:\\\\Users\\\\SAIFUL_BADHON\\\\Downloads\\\\fMRI\\\\ADNI\\\\003_S_6258\\\\Axial_rsfMRI__Eyes_Open_\\\\2022-04-28_10_43_27.0\\\\I1574960',\n",
       " 'C:\\\\Users\\\\SAIFUL_BADHON\\\\Downloads\\\\fMRI\\\\ADNI\\\\003_S_6259\\\\Axial_rsfMRI__Eyes_Open_\\\\2018-03-23_16_20_17.0\\\\I977353',\n",
       " 'C:\\\\Users\\\\SAIFUL_BADHON\\\\Downloads\\\\fMRI\\\\ADNI\\\\003_S_6260\\\\Axial_rsfMRI__Eyes_Open_\\\\2019-07-09_13_06_56.0\\\\I1185114',\n",
       " 'C:\\\\Users\\\\SAIFUL_BADHON\\\\Downloads\\\\fMRI\\\\ADNI\\\\003_S_6307\\\\Axial_rsfMRI__Eyes_Open_\\\\2019-08-13_12_49_06.0\\\\I1205683',\n",
       " 'C:\\\\Users\\\\SAIFUL_BADHON\\\\Downloads\\\\fMRI\\\\ADNI\\\\003_S_6432\\\\Axial_rsfMRI__Eyes_Open_\\\\2018-06-27_14_24_37.0\\\\I1016027',\n",
       " 'C:\\\\Users\\\\SAIFUL_BADHON\\\\Downloads\\\\fMRI\\\\ADNI\\\\003_S_6479\\\\Axial_rsfMRI__Eyes_Open_\\\\2019-10-25_13_22_05.0\\\\I1246024',\n",
       " 'C:\\\\Users\\\\SAIFUL_BADHON\\\\Downloads\\\\fMRI\\\\ADNI\\\\003_S_6606\\\\Axial_rsfMRI__Eyes_Open_\\\\2020-01-08_15_05_07.0\\\\I1273715',\n",
       " 'C:\\\\Users\\\\SAIFUL_BADHON\\\\Downloads\\\\fMRI\\\\ADNI\\\\003_S_6644\\\\Axial_rsfMRI__Eyes_Open_\\\\2018-12-04_14_13_04.0\\\\I1083055',\n",
       " 'C:\\\\Users\\\\SAIFUL_BADHON\\\\Downloads\\\\fMRI\\\\ADNI\\\\003_S_6915\\\\Axial_rsfMRI__Eyes_Open_\\\\2021-03-19_14_57_14.0\\\\I1423377',\n",
       " 'C:\\\\Users\\\\SAIFUL_BADHON\\\\Downloads\\\\fMRI\\\\ADNI\\\\003_S_6954\\\\Axial_rsfMRI__Eyes_Open_\\\\2021-05-26_13_11_27.0\\\\I1448656',\n",
       " 'C:\\\\Users\\\\SAIFUL_BADHON\\\\Downloads\\\\fMRI\\\\ADNI\\\\003_S_6959\\\\Axial_rsfMRI__Eyes_Open_\\\\2021-06-16_13_11_48.0\\\\I1456318',\n",
       " 'C:\\\\Users\\\\SAIFUL_BADHON\\\\Downloads\\\\fMRI\\\\ADNI\\\\003_S_6996\\\\Axial_rsfMRI__Eyes_Open_\\\\2021-08-23_14_10_29.0\\\\I1483873',\n",
       " 'C:\\\\Users\\\\SAIFUL_BADHON\\\\Downloads\\\\fMRI\\\\ADNI\\\\003_S_7010\\\\Axial_rsfMRI__Eyes_Open_\\\\2021-09-23_15_17_14.0\\\\I1495821',\n",
       " 'C:\\\\Users\\\\SAIFUL_BADHON\\\\Downloads\\\\fMRI\\\\ADNI\\\\005_S_0602\\\\Axial_rsfMRI__Eyes_Open_\\\\2017-10-30_13_22_56.0\\\\I925142',\n",
       " 'C:\\\\Users\\\\SAIFUL_BADHON\\\\Downloads\\\\fMRI\\\\ADNI\\\\005_S_4185\\\\Axial_rsfMRI__Eyes_Open_\\\\2017-09-21_10_29_19.0\\\\I907428',\n",
       " 'C:\\\\Users\\\\SAIFUL_BADHON\\\\Downloads\\\\fMRI\\\\ADNI\\\\005_S_6084\\\\Axial_rsfMRI__Eyes_Open_\\\\2017-10-05_13_37_14.0\\\\I915207',\n",
       " 'C:\\\\Users\\\\SAIFUL_BADHON\\\\Downloads\\\\fMRI\\\\ADNI\\\\005_S_6393\\\\Axial_rsfMRI__Eyes_Open_\\\\2022-10-14_14_14_43.0\\\\I1630991',\n",
       " 'C:\\\\Users\\\\SAIFUL_BADHON\\\\Downloads\\\\fMRI\\\\ADNI\\\\006_S_0731\\\\Axial_fcMRI__EYES_OPEN_\\\\2018-10-10_10_59_11.0\\\\I1058017',\n",
       " 'C:\\\\Users\\\\SAIFUL_BADHON\\\\Downloads\\\\fMRI\\\\ADNI\\\\006_S_0731\\\\Axial_fcMRI__EYES_OPEN_\\\\2019-10-03_10_51_32.0\\\\I1236714',\n",
       " 'C:\\\\Users\\\\SAIFUL_BADHON\\\\Downloads\\\\fMRI\\\\ADNI\\\\006_S_4150\\\\Resting_State_fMRI\\\\2011-08-08_14_49_20.0\\\\I249406',\n",
       " 'C:\\\\Users\\\\SAIFUL_BADHON\\\\Downloads\\\\fMRI\\\\ADNI\\\\006_S_4150\\\\Resting_State_fMRI\\\\2011-08-08_14_49_20.0\\\\I249407',\n",
       " 'C:\\\\Users\\\\SAIFUL_BADHON\\\\Downloads\\\\fMRI\\\\ADNI\\\\006_S_4150\\\\Resting_State_fMRI\\\\2011-11-07_10_13_18.0\\\\I265125',\n",
       " 'C:\\\\Users\\\\SAIFUL_BADHON\\\\Downloads\\\\fMRI\\\\ADNI\\\\006_S_4150\\\\Resting_State_fMRI\\\\2011-11-07_10_13_18.0\\\\I265132',\n",
       " 'C:\\\\Users\\\\SAIFUL_BADHON\\\\Downloads\\\\fMRI\\\\ADNI\\\\006_S_4346\\\\Resting_State_fMRI\\\\2012-11-27_09_12_36.0\\\\I348071',\n",
       " 'C:\\\\Users\\\\SAIFUL_BADHON\\\\Downloads\\\\fMRI\\\\ADNI\\\\006_S_4357\\\\Axial_fcMRI__EYES_OPEN_\\\\2018-02-15_13_24_56.0\\\\I964844',\n",
       " 'C:\\\\Users\\\\SAIFUL_BADHON\\\\Downloads\\\\fMRI\\\\ADNI\\\\006_S_4357\\\\Extended_Resting_State_fMRI\\\\2015-12-09_09_31_32.0\\\\I574353',\n",
       " 'C:\\\\Users\\\\SAIFUL_BADHON\\\\Downloads\\\\fMRI\\\\ADNI\\\\006_S_4357\\\\Resting_State_fMRI\\\\2011-11-28_10_48_16.0\\\\I268914',\n",
       " 'C:\\\\Users\\\\SAIFUL_BADHON\\\\Downloads\\\\fMRI\\\\ADNI\\\\006_S_4357\\\\Resting_State_fMRI\\\\2011-11-28_10_48_16.0\\\\I268917',\n",
       " 'C:\\\\Users\\\\SAIFUL_BADHON\\\\Downloads\\\\fMRI\\\\ADNI\\\\006_S_4357\\\\Resting_State_fMRI\\\\2012-02-24_12_06_50.0\\\\I286461',\n",
       " 'C:\\\\Users\\\\SAIFUL_BADHON\\\\Downloads\\\\fMRI\\\\ADNI\\\\006_S_4357\\\\Resting_State_fMRI\\\\2012-02-24_12_06_50.0\\\\I286464',\n",
       " 'C:\\\\Users\\\\SAIFUL_BADHON\\\\Downloads\\\\fMRI\\\\ADNI\\\\006_S_4357\\\\Resting_State_fMRI\\\\2012-06-19_12_24_24.0\\\\I311258',\n",
       " 'C:\\\\Users\\\\SAIFUL_BADHON\\\\Downloads\\\\fMRI\\\\ADNI\\\\006_S_4357\\\\Resting_State_fMRI\\\\2014-01-22_10_48_19.0\\\\I405706',\n",
       " 'C:\\\\Users\\\\SAIFUL_BADHON\\\\Downloads\\\\fMRI\\\\ADNI\\\\006_S_4363\\\\Resting_State_fMRI\\\\2011-11-16_09_35_25.0\\\\I269253',\n",
       " 'C:\\\\Users\\\\SAIFUL_BADHON\\\\Downloads\\\\fMRI\\\\ADNI\\\\006_S_4363\\\\Resting_State_fMRI\\\\2011-11-16_09_35_25.0\\\\I269256',\n",
       " 'C:\\\\Users\\\\SAIFUL_BADHON\\\\Downloads\\\\fMRI\\\\ADNI\\\\006_S_4363\\\\Resting_State_fMRI\\\\2012-02-23_13_17_12.0\\\\I286378',\n",
       " 'C:\\\\Users\\\\SAIFUL_BADHON\\\\Downloads\\\\fMRI\\\\ADNI\\\\006_S_4363\\\\Resting_State_fMRI\\\\2012-12-14_10_40_54.0\\\\I351592',\n",
       " 'C:\\\\Users\\\\SAIFUL_BADHON\\\\Downloads\\\\fMRI\\\\ADNI\\\\006_S_4449\\\\Resting_State_fMRI\\\\2012-01-19_13_24_30.0\\\\I279472',\n",
       " 'C:\\\\Users\\\\SAIFUL_BADHON\\\\Downloads\\\\fMRI\\\\ADNI\\\\006_S_4449\\\\Resting_State_fMRI\\\\2012-04-19_10_26_50.0\\\\I298510',\n",
       " 'C:\\\\Users\\\\SAIFUL_BADHON\\\\Downloads\\\\fMRI\\\\ADNI\\\\006_S_4449\\\\Resting_State_fMRI\\\\2012-07-30_11_43_13.0\\\\I319632',\n",
       " 'C:\\\\Users\\\\SAIFUL_BADHON\\\\Downloads\\\\fMRI\\\\ADNI\\\\006_S_4485\\\\Resting_State_fMRI\\\\2012-02-01_09_29_32.0\\\\I281881',\n",
       " 'C:\\\\Users\\\\SAIFUL_BADHON\\\\Downloads\\\\fMRI\\\\ADNI\\\\006_S_4485\\\\Resting_State_fMRI\\\\2012-02-01_09_29_32.0\\\\I281887',\n",
       " 'C:\\\\Users\\\\SAIFUL_BADHON\\\\Downloads\\\\fMRI\\\\ADNI\\\\006_S_4485\\\\Resting_State_fMRI\\\\2012-05-11_09_49_24.0\\\\I303081',\n",
       " 'C:\\\\Users\\\\SAIFUL_BADHON\\\\Downloads\\\\fMRI\\\\ADNI\\\\006_S_4485\\\\Resting_State_fMRI\\\\2012-05-11_09_49_24.0\\\\I303083',\n",
       " 'C:\\\\Users\\\\SAIFUL_BADHON\\\\Downloads\\\\fMRI\\\\ADNI\\\\006_S_4485\\\\Resting_State_fMRI\\\\2012-08-24_11_45_03.0\\\\I326298',\n",
       " 'C:\\\\Users\\\\SAIFUL_BADHON\\\\Downloads\\\\fMRI\\\\ADNI\\\\006_S_4485\\\\Resting_State_fMRI\\\\2012-08-24_11_45_03.0\\\\I326301',\n",
       " 'C:\\\\Users\\\\SAIFUL_BADHON\\\\Downloads\\\\fMRI\\\\ADNI\\\\006_S_4515\\\\Resting_State_fMRI\\\\2012-02-07_10_58_41.0\\\\I283264',\n",
       " 'C:\\\\Users\\\\SAIFUL_BADHON\\\\Downloads\\\\fMRI\\\\ADNI\\\\006_S_4515\\\\Resting_State_fMRI\\\\2012-02-07_10_58_41.0\\\\I283267',\n",
       " 'C:\\\\Users\\\\SAIFUL_BADHON\\\\Downloads\\\\fMRI\\\\ADNI\\\\006_S_4515\\\\Resting_State_fMRI\\\\2012-05-11_12_53_26.0\\\\I303143',\n",
       " 'C:\\\\Users\\\\SAIFUL_BADHON\\\\Downloads\\\\fMRI\\\\ADNI\\\\006_S_4515\\\\Resting_State_fMRI\\\\2013-03-14_11_43_38.0\\\\I363293',\n",
       " 'C:\\\\Users\\\\SAIFUL_BADHON\\\\Downloads\\\\fMRI\\\\ADNI\\\\006_S_4546\\\\Resting_State_fMRI\\\\2012-03-05_13_45_58.0\\\\I287986',\n",
       " 'C:\\\\Users\\\\SAIFUL_BADHON\\\\Downloads\\\\fMRI\\\\ADNI\\\\006_S_4546\\\\Resting_State_fMRI\\\\2012-06-18_10_50_46.0\\\\I310925',\n",
       " 'C:\\\\Users\\\\SAIFUL_BADHON\\\\Downloads\\\\fMRI\\\\ADNI\\\\006_S_4546\\\\Resting_State_fMRI\\\\2012-06-18_10_50_46.0\\\\I310931',\n",
       " 'C:\\\\Users\\\\SAIFUL_BADHON\\\\Downloads\\\\fMRI\\\\ADNI\\\\006_S_4546\\\\Resting_State_fMRI\\\\2012-09-24_12_27_31.0\\\\I336551',\n",
       " 'C:\\\\Users\\\\SAIFUL_BADHON\\\\Downloads\\\\fMRI\\\\ADNI\\\\006_S_4546\\\\Resting_State_fMRI\\\\2012-09-24_12_27_31.0\\\\I336552',\n",
       " 'C:\\\\Users\\\\SAIFUL_BADHON\\\\Downloads\\\\fMRI\\\\ADNI\\\\006_S_4679\\\\Extended_Resting_State_fMRI\\\\2014-06-26_13_11_26.0\\\\I433042',\n",
       " 'C:\\\\Users\\\\SAIFUL_BADHON\\\\Downloads\\\\fMRI\\\\ADNI\\\\006_S_4679\\\\Resting_State_fMRI\\\\2012-06-01_09_10_10.0\\\\I307553',\n",
       " 'C:\\\\Users\\\\SAIFUL_BADHON\\\\Downloads\\\\fMRI\\\\ADNI\\\\006_S_4679\\\\Resting_State_fMRI\\\\2012-12-07_10_56_05.0\\\\I350113',\n",
       " 'C:\\\\Users\\\\SAIFUL_BADHON\\\\Downloads\\\\fMRI\\\\ADNI\\\\006_S_4679\\\\Resting_State_fMRI\\\\2012-12-07_10_56_05.0\\\\I350115',\n",
       " 'C:\\\\Users\\\\SAIFUL_BADHON\\\\Downloads\\\\fMRI\\\\ADNI\\\\006_S_4713\\\\Axial_fcMRI__EYES_OPEN_\\\\2021-08-19_13_09_43.0\\\\I1483606',\n",
       " 'C:\\\\Users\\\\SAIFUL_BADHON\\\\Downloads\\\\fMRI\\\\ADNI\\\\006_S_4713\\\\Extended_Resting_State_fMRI\\\\2014-06-06_13_42_29.0\\\\I430122',\n",
       " 'C:\\\\Users\\\\SAIFUL_BADHON\\\\Downloads\\\\fMRI\\\\ADNI\\\\006_S_4713\\\\Extended_Resting_State_fMRI\\\\2016-06-02_10_42_07.0\\\\I722885',\n",
       " 'C:\\\\Users\\\\SAIFUL_BADHON\\\\Downloads\\\\fMRI\\\\ADNI\\\\006_S_4713\\\\Resting_State_fMRI\\\\2012-05-14_14_19_16.0\\\\I303731',\n",
       " 'C:\\\\Users\\\\SAIFUL_BADHON\\\\Downloads\\\\fMRI\\\\ADNI\\\\006_S_4713\\\\Resting_State_fMRI\\\\2013-06-12_13_35_14.0\\\\I376286',\n",
       " 'C:\\\\Users\\\\SAIFUL_BADHON\\\\Downloads\\\\fMRI\\\\ADNI\\\\006_S_4867\\\\Resting_State_fMRI\\\\2012-08-07_10_31_52.0\\\\I322000',\n",
       " 'C:\\\\Users\\\\SAIFUL_BADHON\\\\Downloads\\\\fMRI\\\\ADNI\\\\006_S_4867\\\\Resting_State_fMRI\\\\2012-08-07_10_31_52.0\\\\I322009',\n",
       " 'C:\\\\Users\\\\SAIFUL_BADHON\\\\Downloads\\\\fMRI\\\\ADNI\\\\006_S_4867\\\\Resting_State_fMRI\\\\2012-11-13_11_10_28.0\\\\I346359',\n",
       " 'C:\\\\Users\\\\SAIFUL_BADHON\\\\Downloads\\\\fMRI\\\\ADNI\\\\006_S_4867\\\\Resting_State_fMRI\\\\2013-03-04_13_37_07.0\\\\I362021',\n",
       " 'C:\\\\Users\\\\SAIFUL_BADHON\\\\Downloads\\\\fMRI\\\\ADNI\\\\006_S_4960\\\\Axial_fcMRI__EYES_OPEN_\\\\2018-05-29_13_39_34.0\\\\I1003610',\n",
       " 'C:\\\\Users\\\\SAIFUL_BADHON\\\\Downloads\\\\fMRI\\\\ADNI\\\\006_S_4960\\\\Resting_State_fMRI\\\\2013-01-10_12_10_51.0\\\\I354587',\n",
       " 'C:\\\\Users\\\\SAIFUL_BADHON\\\\Downloads\\\\fMRI\\\\ADNI\\\\006_S_4960\\\\Resting_State_fMRI\\\\2013-11-06_13_43_59.0\\\\I397506',\n",
       " 'C:\\\\Users\\\\SAIFUL_BADHON\\\\Downloads\\\\fMRI\\\\ADNI\\\\006_S_5153\\\\Extended_Resting_State_fMRI\\\\2015-08-13_10_01_08.0\\\\I505120',\n",
       " 'C:\\\\Users\\\\SAIFUL_BADHON\\\\Downloads\\\\fMRI\\\\ADNI\\\\006_S_6209\\\\Axial_fcMRI__EYES_OPEN_\\\\2019-02-21_12_22_01.0\\\\I1133568',\n",
       " 'C:\\\\Users\\\\SAIFUL_BADHON\\\\Downloads\\\\fMRI\\\\ADNI\\\\006_S_6209\\\\Axial_fcMRI__EYES_OPEN_\\\\2020-03-09_11_55_40.0\\\\I1301148',\n",
       " 'C:\\\\Users\\\\SAIFUL_BADHON\\\\Downloads\\\\fMRI\\\\ADNI\\\\006_S_6243\\\\Axial_fcMRI__EYES_OPEN_\\\\2021-08-19_11_19_50.0\\\\I1483627',\n",
       " 'C:\\\\Users\\\\SAIFUL_BADHON\\\\Downloads\\\\fMRI\\\\ADNI\\\\006_S_6243\\\\Axial_fcMRI__EYES_OPEN_\\\\2022-10-19_13_58_23.0\\\\I1632975',\n",
       " 'C:\\\\Users\\\\SAIFUL_BADHON\\\\Downloads\\\\fMRI\\\\ADNI\\\\006_S_6252\\\\Axial_fcMRI__EYES_OPEN_\\\\2018-03-05_11_04_31.0\\\\I969776',\n",
       " 'C:\\\\Users\\\\SAIFUL_BADHON\\\\Downloads\\\\fMRI\\\\ADNI\\\\006_S_6277\\\\Axial_fcMRI__EYES_OPEN_\\\\2019-04-25_11_39_17.0\\\\I1158788',\n",
       " 'C:\\\\Users\\\\SAIFUL_BADHON\\\\Downloads\\\\fMRI\\\\ADNI\\\\006_S_6291\\\\Axial_fcMRI__EYES_OPEN_\\\\2022-10-27_12_51_31.0\\\\I1636866',\n",
       " 'C:\\\\Users\\\\SAIFUL_BADHON\\\\Downloads\\\\fMRI\\\\ADNI\\\\006_S_6375\\\\Axial_fcMRI__EYES_OPEN_\\\\2018-05-25_10_32_17.0\\\\I1003403',\n",
       " 'C:\\\\Users\\\\SAIFUL_BADHON\\\\Downloads\\\\fMRI\\\\ADNI\\\\006_S_6500\\\\Axial_fcMRI__EYES_OPEN_\\\\2018-07-30_09_30_13.0\\\\I1028502',\n",
       " 'C:\\\\Users\\\\SAIFUL_BADHON\\\\Downloads\\\\fMRI\\\\ADNI\\\\006_S_6500\\\\Axial_fcMRI__EYES_OPEN_\\\\2022-03-24_12_16_18.0\\\\I1560262',\n",
       " 'C:\\\\Users\\\\SAIFUL_BADHON\\\\Downloads\\\\fMRI\\\\ADNI\\\\006_S_6610\\\\Axial_fcMRI__EYES_OPEN_\\\\2019-11-26_11_35_36.0\\\\I1260257',\n",
       " 'C:\\\\Users\\\\SAIFUL_BADHON\\\\Downloads\\\\fMRI\\\\ADNI\\\\006_S_6610\\\\Axial_fcMRI__EYES_OPEN_\\\\2022-04-14_12_23_01.0\\\\I1569338',\n",
       " 'C:\\\\Users\\\\SAIFUL_BADHON\\\\Downloads\\\\fMRI\\\\ADNI\\\\006_S_6651\\\\Axial_fcMRI__EYES_OPEN_\\\\2022-04-28_13_05_41.0\\\\I1575208',\n",
       " 'C:\\\\Users\\\\SAIFUL_BADHON\\\\Downloads\\\\fMRI\\\\ADNI\\\\006_S_6657\\\\Axial_fcMRI__EYES_OPEN_\\\\2019-02-12_10_31_26.0\\\\I1131714',\n",
       " 'C:\\\\Users\\\\SAIFUL_BADHON\\\\Downloads\\\\fMRI\\\\ADNI\\\\006_S_6681\\\\Axial_fcMRI__EYES_OPEN_\\\\2019-02-12_13_30_31.0\\\\I1148835',\n",
       " 'C:\\\\Users\\\\SAIFUL_BADHON\\\\Downloads\\\\fMRI\\\\ADNI\\\\006_S_6681\\\\Axial_fcMRI__EYES_OPEN_\\\\2022-03-17_13_27_51.0\\\\I1557341',\n",
       " 'C:\\\\Users\\\\SAIFUL_BADHON\\\\Downloads\\\\fMRI\\\\ADNI\\\\006_S_6682\\\\Axial_fcMRI__EYES_OPEN_\\\\2021-11-04_13_04_59.0\\\\I1512677',\n",
       " 'C:\\\\Users\\\\SAIFUL_BADHON\\\\Downloads\\\\fMRI\\\\ADNI\\\\006_S_6689\\\\Axial_fcMRI__EYES_OPEN_\\\\2019-02-27_09_43_41.0\\\\I1137054',\n",
       " 'C:\\\\Users\\\\SAIFUL_BADHON\\\\Downloads\\\\fMRI\\\\ADNI\\\\006_S_6727\\\\Axial_fcMRI__EYES_OPEN_\\\\2019-05-07_12_53_30.0\\\\I1162444',\n",
       " 'C:\\\\Users\\\\SAIFUL_BADHON\\\\Downloads\\\\fMRI\\\\ADNI\\\\006_S_6770\\\\Axial_fcMRI__EYES_OPEN_\\\\2019-07-26_15_15_28.0\\\\I1192926',\n",
       " 'C:\\\\Users\\\\SAIFUL_BADHON\\\\Downloads\\\\fMRI\\\\ADNI\\\\006_S_6770\\\\Axial_fcMRI__EYES_OPEN_\\\\2021-09-01_12_26_09.0\\\\I1488075',\n",
       " 'C:\\\\Users\\\\SAIFUL_BADHON\\\\Downloads\\\\fMRI\\\\ADNI\\\\007_S_1222\\\\Axial_MB_rsfMRI__Eyes_Open_\\\\2018-01-17_14_02_10.0\\\\I955209',\n",
       " 'C:\\\\Users\\\\SAIFUL_BADHON\\\\Downloads\\\\fMRI\\\\ADNI\\\\007_S_2394\\\\Axial_MB_rsfMRI__Eyes_Open_\\\\2018-08-07_13_40_32.0\\\\I1037907',\n",
       " 'C:\\\\Users\\\\SAIFUL_BADHON\\\\Downloads\\\\fMRI\\\\ADNI\\\\007_S_2394\\\\Axial_rsfMRI__Eyes_Open__10_min__-PJ\\\\2015-07-13_11_50_44.0\\\\I680900',\n",
       " 'C:\\\\Users\\\\SAIFUL_BADHON\\\\Downloads\\\\fMRI\\\\ADNI\\\\007_S_4272\\\\Axial_MB_rsfMRI__Eyes_Open_\\\\2018-01-16_12_30_46.0\\\\I953864',\n",
       " 'C:\\\\Users\\\\SAIFUL_BADHON\\\\Downloads\\\\fMRI\\\\ADNI\\\\007_S_4272\\\\Axial_MB_rsfMRI__Eyes_Open_\\\\2019-01-08_13_07_35.0\\\\I1113405',\n",
       " 'C:\\\\Users\\\\SAIFUL_BADHON\\\\Downloads\\\\fMRI\\\\ADNI\\\\007_S_4387\\\\Axial_MB_rsfMRI__Eyes_Open_\\\\2018-10-24_13_33_30.0\\\\I1064239',\n",
       " 'C:\\\\Users\\\\SAIFUL_BADHON\\\\Downloads\\\\fMRI\\\\ADNI\\\\007_S_4488\\\\Axial_MB_rsfMRI__Eyes_Open_\\\\2017-09-12_16_01_48.0\\\\I902663',\n",
       " 'C:\\\\Users\\\\SAIFUL_BADHON\\\\Downloads\\\\fMRI\\\\ADNI\\\\007_S_4488\\\\Axial_MB_rsfMRI__Eyes_Open_\\\\2018-09-14_11_51_44.0\\\\I1060840',\n",
       " 'C:\\\\Users\\\\SAIFUL_BADHON\\\\Downloads\\\\fMRI\\\\ADNI\\\\007_S_4611\\\\Axial_rsfMRI__Eyes_Open__10_min__-PJ\\\\2016-04-26_12_51_00.0\\\\I695057',\n",
       " 'C:\\\\Users\\\\SAIFUL_BADHON\\\\Downloads\\\\fMRI\\\\ADNI\\\\007_S_4620\\\\Axial_MB_rsfMRI__Eyes_Open_\\\\2017-12-05_12_56_15.0\\\\I942912',\n",
       " 'C:\\\\Users\\\\SAIFUL_BADHON\\\\Downloads\\\\fMRI\\\\ADNI\\\\007_S_4620\\\\Axial_MB_rsfMRI__Eyes_Open_\\\\2018-12-11_15_13_16.0\\\\I1084938',\n",
       " 'C:\\\\Users\\\\SAIFUL_BADHON\\\\Downloads\\\\fMRI\\\\ADNI\\\\007_S_4637\\\\Axial_MB_rsfMRI__Eyes_Open_\\\\2018-10-16_13_01_45.0\\\\I1060807',\n",
       " 'C:\\\\Users\\\\SAIFUL_BADHON\\\\Downloads\\\\fMRI\\\\ADNI\\\\007_S_4637\\\\Axial_MB_rsfMRI__Eyes_Open_\\\\2019-10-23_08_34_07.0\\\\I1244532',\n",
       " 'C:\\\\Users\\\\SAIFUL_BADHON\\\\Downloads\\\\fMRI\\\\ADNI\\\\007_S_4637\\\\Axial_MB_rsfMRI__Eyes_Open_\\\\2022-10-20_10_09_55.0\\\\I1676709',\n",
       " 'C:\\\\Users\\\\SAIFUL_BADHON\\\\Downloads\\\\fMRI\\\\ADNI\\\\007_S_5265\\\\Axial_MB_rsfMRI__Eyes_Open_\\\\2017-09-18_13_37_05.0\\\\I905395',\n",
       " 'C:\\\\Users\\\\SAIFUL_BADHON\\\\Downloads\\\\fMRI\\\\ADNI\\\\007_S_5265\\\\Axial_rsfMRI__Eyes_Open__10_min__-PJ\\\\2015-08-25_12_25_50.0\\\\I680924',\n",
       " 'C:\\\\Users\\\\SAIFUL_BADHON\\\\Downloads\\\\fMRI\\\\ADNI\\\\007_S_6255\\\\Axial_MB_rsfMRI__Eyes_Open_\\\\2018-03-05_14_22_10.0\\\\I974760',\n",
       " 'C:\\\\Users\\\\SAIFUL_BADHON\\\\Downloads\\\\fMRI\\\\ADNI\\\\007_S_6255\\\\Axial_MB_rsfMRI__Eyes_Open_\\\\2020-07-27_11_49_30.0\\\\I1325573',\n",
       " 'C:\\\\Users\\\\SAIFUL_BADHON\\\\Downloads\\\\fMRI\\\\ADNI\\\\007_S_6310\\\\Axial_MB_rsfMRI__Eyes_Open_\\\\2020-08-05_11_57_46.0\\\\I1327196',\n",
       " 'C:\\\\Users\\\\SAIFUL_BADHON\\\\Downloads\\\\fMRI\\\\ADNI\\\\007_S_6341\\\\Axial_MB_rsfMRI__Eyes_Open_\\\\2018-04-30_13_47_08.0\\\\I990573',\n",
       " 'C:\\\\Users\\\\SAIFUL_BADHON\\\\Downloads\\\\fMRI\\\\ADNI\\\\007_S_6341\\\\Axial_MB_rsfMRI__Eyes_Open_\\\\2019-06-11_14_39_09.0\\\\I1178798']"
      ]
     },
     "execution_count": 6,
     "metadata": {},
     "output_type": "execute_result"
    }
   ],
   "source": [
    "folders"
   ]
  },
  {
   "cell_type": "code",
   "execution_count": 9,
   "id": "087cfa88-a3f3-494a-9259-42b3326b0a24",
   "metadata": {},
   "outputs": [
    {
     "data": {
      "text/plain": [
       "234"
      ]
     },
     "execution_count": 9,
     "metadata": {},
     "output_type": "execute_result"
    }
   ],
   "source": [
    "len(folders)"
   ]
  },
  {
   "cell_type": "code",
   "execution_count": 11,
   "id": "2935eeec-4ab9-4933-8d90-946ef3355bc8",
   "metadata": {},
   "outputs": [
    {
     "data": {
      "text/plain": [
       "'002_S_0413'"
      ]
     },
     "execution_count": 11,
     "metadata": {},
     "output_type": "execute_result"
    }
   ],
   "source": [
    "folders[0].split(\"\\\\\")[6]"
   ]
  },
  {
   "cell_type": "code",
   "execution_count": 13,
   "id": "e914ab29-3a91-4205-8013-6141abd09932",
   "metadata": {},
   "outputs": [],
   "source": [
    "file_path = (r\"‪C:\\Users\\SAIFUL_BADHON\\Downloads\\fMRI_3_24_2025.csv\")\n",
    "cleaned_path = file_path.split(\"\\u202a\")[1]\n",
    "data = pd.read_csv(cleaned_path)"
   ]
  },
  {
   "cell_type": "code",
   "execution_count": 15,
   "id": "c8b6b5c0-253a-4f55-9900-3d9468467562",
   "metadata": {},
   "outputs": [
    {
     "data": {
      "text/html": [
       "<div>\n",
       "<style scoped>\n",
       "    .dataframe tbody tr th:only-of-type {\n",
       "        vertical-align: middle;\n",
       "    }\n",
       "\n",
       "    .dataframe tbody tr th {\n",
       "        vertical-align: top;\n",
       "    }\n",
       "\n",
       "    .dataframe thead th {\n",
       "        text-align: right;\n",
       "    }\n",
       "</style>\n",
       "<table border=\"1\" class=\"dataframe\">\n",
       "  <thead>\n",
       "    <tr style=\"text-align: right;\">\n",
       "      <th></th>\n",
       "      <th>Image Data ID</th>\n",
       "      <th>Subject</th>\n",
       "      <th>Group</th>\n",
       "      <th>Sex</th>\n",
       "      <th>Age</th>\n",
       "      <th>Visit</th>\n",
       "      <th>Modality</th>\n",
       "      <th>Description</th>\n",
       "      <th>Type</th>\n",
       "      <th>Acq Date</th>\n",
       "      <th>Format</th>\n",
       "      <th>Downloaded</th>\n",
       "    </tr>\n",
       "  </thead>\n",
       "  <tbody>\n",
       "    <tr>\n",
       "      <th>0</th>\n",
       "      <td>I1178798</td>\n",
       "      <td>007_S_6341</td>\n",
       "      <td>MCI</td>\n",
       "      <td>M</td>\n",
       "      <td>68</td>\n",
       "      <td>y1</td>\n",
       "      <td>fMRI</td>\n",
       "      <td>Axial MB rsfMRI (Eyes Open)</td>\n",
       "      <td>Original</td>\n",
       "      <td>6/11/2019</td>\n",
       "      <td>DCM</td>\n",
       "      <td>NaN</td>\n",
       "    </tr>\n",
       "    <tr>\n",
       "      <th>1</th>\n",
       "      <td>I1461578</td>\n",
       "      <td>007_S_6341</td>\n",
       "      <td>MCI</td>\n",
       "      <td>M</td>\n",
       "      <td>70</td>\n",
       "      <td>y3</td>\n",
       "      <td>fMRI</td>\n",
       "      <td>Axial MB rsfMRI (Eyes Open)</td>\n",
       "      <td>Original</td>\n",
       "      <td>6/28/2021</td>\n",
       "      <td>DCM</td>\n",
       "      <td>NaN</td>\n",
       "    </tr>\n",
       "    <tr>\n",
       "      <th>2</th>\n",
       "      <td>I990573</td>\n",
       "      <td>007_S_6341</td>\n",
       "      <td>MCI</td>\n",
       "      <td>M</td>\n",
       "      <td>67</td>\n",
       "      <td>sc</td>\n",
       "      <td>fMRI</td>\n",
       "      <td>Axial MB rsfMRI (Eyes Open)</td>\n",
       "      <td>Original</td>\n",
       "      <td>4/30/2018</td>\n",
       "      <td>DCM</td>\n",
       "      <td>NaN</td>\n",
       "    </tr>\n",
       "    <tr>\n",
       "      <th>3</th>\n",
       "      <td>I1329727</td>\n",
       "      <td>007_S_6341</td>\n",
       "      <td>MCI</td>\n",
       "      <td>M</td>\n",
       "      <td>69</td>\n",
       "      <td>y2</td>\n",
       "      <td>fMRI</td>\n",
       "      <td>Axial MB rsfMRI (Eyes Open)</td>\n",
       "      <td>Original</td>\n",
       "      <td>8/18/2020</td>\n",
       "      <td>DCM</td>\n",
       "      <td>NaN</td>\n",
       "    </tr>\n",
       "    <tr>\n",
       "      <th>4</th>\n",
       "      <td>I1342539</td>\n",
       "      <td>007_S_6323</td>\n",
       "      <td>CN</td>\n",
       "      <td>M</td>\n",
       "      <td>69</td>\n",
       "      <td>y2</td>\n",
       "      <td>fMRI</td>\n",
       "      <td>Axial MB rsfMRI (Eyes Open)</td>\n",
       "      <td>Original</td>\n",
       "      <td>9/22/2020</td>\n",
       "      <td>DCM</td>\n",
       "      <td>NaN</td>\n",
       "    </tr>\n",
       "    <tr>\n",
       "      <th>...</th>\n",
       "      <td>...</td>\n",
       "      <td>...</td>\n",
       "      <td>...</td>\n",
       "      <td>...</td>\n",
       "      <td>...</td>\n",
       "      <td>...</td>\n",
       "      <td>...</td>\n",
       "      <td>...</td>\n",
       "      <td>...</td>\n",
       "      <td>...</td>\n",
       "      <td>...</td>\n",
       "      <td>...</td>\n",
       "    </tr>\n",
       "    <tr>\n",
       "      <th>460</th>\n",
       "      <td>I863058</td>\n",
       "      <td>002_S_0413</td>\n",
       "      <td>CN</td>\n",
       "      <td>F</td>\n",
       "      <td>87</td>\n",
       "      <td>init</td>\n",
       "      <td>fMRI</td>\n",
       "      <td>Axial rsfMRI (Eyes Open)</td>\n",
       "      <td>Original</td>\n",
       "      <td>6/21/2017</td>\n",
       "      <td>DCM</td>\n",
       "      <td>NaN</td>\n",
       "    </tr>\n",
       "    <tr>\n",
       "      <th>461</th>\n",
       "      <td>I240811</td>\n",
       "      <td>002_S_0413</td>\n",
       "      <td>CN</td>\n",
       "      <td>F</td>\n",
       "      <td>82</td>\n",
       "      <td>v06</td>\n",
       "      <td>fMRI</td>\n",
       "      <td>Resting State fMRI</td>\n",
       "      <td>Original</td>\n",
       "      <td>6/16/2011</td>\n",
       "      <td>DCM</td>\n",
       "      <td>NaN</td>\n",
       "    </tr>\n",
       "    <tr>\n",
       "      <th>462</th>\n",
       "      <td>I423209</td>\n",
       "      <td>002_S_0413</td>\n",
       "      <td>CN</td>\n",
       "      <td>F</td>\n",
       "      <td>84</td>\n",
       "      <td>v31</td>\n",
       "      <td>fMRI</td>\n",
       "      <td>Extended Resting State fMRI</td>\n",
       "      <td>Original</td>\n",
       "      <td>5/01/2014</td>\n",
       "      <td>DCM</td>\n",
       "      <td>NaN</td>\n",
       "    </tr>\n",
       "    <tr>\n",
       "      <th>463</th>\n",
       "      <td>I238623</td>\n",
       "      <td>002_S_0295</td>\n",
       "      <td>CN</td>\n",
       "      <td>M</td>\n",
       "      <td>90</td>\n",
       "      <td>v06</td>\n",
       "      <td>fMRI</td>\n",
       "      <td>Resting State fMRI</td>\n",
       "      <td>Original</td>\n",
       "      <td>6/02/2011</td>\n",
       "      <td>DCM</td>\n",
       "      <td>NaN</td>\n",
       "    </tr>\n",
       "    <tr>\n",
       "      <th>464</th>\n",
       "      <td>I303069</td>\n",
       "      <td>002_S_0295</td>\n",
       "      <td>CN</td>\n",
       "      <td>M</td>\n",
       "      <td>91</td>\n",
       "      <td>v11</td>\n",
       "      <td>fMRI</td>\n",
       "      <td>Resting State fMRI</td>\n",
       "      <td>Original</td>\n",
       "      <td>5/10/2012</td>\n",
       "      <td>DCM</td>\n",
       "      <td>NaN</td>\n",
       "    </tr>\n",
       "  </tbody>\n",
       "</table>\n",
       "<p>465 rows × 12 columns</p>\n",
       "</div>"
      ],
      "text/plain": [
       "    Image Data ID     Subject Group Sex  Age Visit Modality  \\\n",
       "0        I1178798  007_S_6341   MCI   M   68    y1     fMRI   \n",
       "1        I1461578  007_S_6341   MCI   M   70    y3     fMRI   \n",
       "2         I990573  007_S_6341   MCI   M   67    sc     fMRI   \n",
       "3        I1329727  007_S_6341   MCI   M   69    y2     fMRI   \n",
       "4        I1342539  007_S_6323    CN   M   69    y2     fMRI   \n",
       "..            ...         ...   ...  ..  ...   ...      ...   \n",
       "460       I863058  002_S_0413    CN   F   87  init     fMRI   \n",
       "461       I240811  002_S_0413    CN   F   82   v06     fMRI   \n",
       "462       I423209  002_S_0413    CN   F   84   v31     fMRI   \n",
       "463       I238623  002_S_0295    CN   M   90   v06     fMRI   \n",
       "464       I303069  002_S_0295    CN   M   91   v11     fMRI   \n",
       "\n",
       "                     Description      Type   Acq Date Format  Downloaded  \n",
       "0    Axial MB rsfMRI (Eyes Open)  Original  6/11/2019    DCM         NaN  \n",
       "1    Axial MB rsfMRI (Eyes Open)  Original  6/28/2021    DCM         NaN  \n",
       "2    Axial MB rsfMRI (Eyes Open)  Original  4/30/2018    DCM         NaN  \n",
       "3    Axial MB rsfMRI (Eyes Open)  Original  8/18/2020    DCM         NaN  \n",
       "4    Axial MB rsfMRI (Eyes Open)  Original  9/22/2020    DCM         NaN  \n",
       "..                           ...       ...        ...    ...         ...  \n",
       "460     Axial rsfMRI (Eyes Open)  Original  6/21/2017    DCM         NaN  \n",
       "461           Resting State fMRI  Original  6/16/2011    DCM         NaN  \n",
       "462  Extended Resting State fMRI  Original  5/01/2014    DCM         NaN  \n",
       "463           Resting State fMRI  Original  6/02/2011    DCM         NaN  \n",
       "464           Resting State fMRI  Original  5/10/2012    DCM         NaN  \n",
       "\n",
       "[465 rows x 12 columns]"
      ]
     },
     "execution_count": 15,
     "metadata": {},
     "output_type": "execute_result"
    }
   ],
   "source": [
    "data"
   ]
  },
  {
   "cell_type": "code",
   "execution_count": 17,
   "id": "eefc6053-e8c5-4826-a1e7-f4f77a37ce4f",
   "metadata": {},
   "outputs": [
    {
     "name": "stdout",
     "output_type": "stream",
     "text": [
      "Converted I1221056 to NIfTI at C:\\Users\\SAIFUL_BADHON\\Downloads\\fMRI\\output\\I1221056\n"
     ]
    },
    {
     "name": "stderr",
     "output_type": "stream",
     "text": [
      "C:\\Users\\SAIFUL_BADHON\\AppData\\Roaming\\Python\\Python312\\site-packages\\pydicom\\valuerep.py:440: UserWarning: Invalid value for VR UI: '2.16.124.113543.6006.99.07214950072184680951'. Please see <https://dicom.nema.org/medical/dicom/current/output/html/part05.html#table_6.2-1> for allowed values for each VR.\n",
      "  warn_and_log(msg)\n"
     ]
    },
    {
     "name": "stdout",
     "output_type": "stream",
     "text": [
      "Converted I423209 to NIfTI at C:\\Users\\SAIFUL_BADHON\\Downloads\\fMRI\\output\\I423209\n"
     ]
    },
    {
     "name": "stderr",
     "output_type": "stream",
     "text": [
      "Traceback (most recent call last):\n",
      "  File \"C:\\Users\\SAIFUL_BADHON\\AppData\\Roaming\\Python\\Python312\\site-packages\\dicom2nifti\\convert_philips.py\", line 348, in _singleframe_to_block\n",
      "    full_block = numpy.concatenate(data_blocks, axis=3)\n",
      "                 ^^^^^^^^^^^^^^^^^^^^^^^^^^^^^^^^^^^^^^\n",
      "ValueError: all the input array dimensions except for the concatenation axis must match exactly, but along dimension 2, the array at index 0 has size 45 and the array at index 57 has size 44\n",
      "Traceback (most recent call last):\n",
      "  File \"C:\\Users\\SAIFUL_BADHON\\AppData\\Roaming\\Python\\Python312\\site-packages\\dicom2nifti\\convert_philips.py\", line 348, in _singleframe_to_block\n",
      "    full_block = numpy.concatenate(data_blocks, axis=3)\n",
      "                 ^^^^^^^^^^^^^^^^^^^^^^^^^^^^^^^^^^^^^^\n",
      "ValueError: all the input array dimensions except for the concatenation axis must match exactly, but along dimension 2, the array at index 0 has size 45 and the array at index 57 has size 44\n",
      "\n",
      "During handling of the above exception, another exception occurred:\n",
      "\n",
      "Traceback (most recent call last):\n",
      "  File \"C:\\Users\\SAIFUL_BADHON\\AppData\\Roaming\\Python\\Python312\\site-packages\\dicom2nifti\\convert_dir.py\", line 86, in convert_directory\n",
      "    convert_dicom.dicom_array_to_nifti(dicom_input, nifti_file, reorient)\n",
      "  File \"C:\\Users\\SAIFUL_BADHON\\AppData\\Roaming\\Python\\Python312\\site-packages\\dicom2nifti\\convert_dicom.py\", line 125, in dicom_array_to_nifti\n",
      "    results = convert_philips.dicom_to_nifti(dicom_list, output_file)\n",
      "              ^^^^^^^^^^^^^^^^^^^^^^^^^^^^^^^^^^^^^^^^^^^^^^^^^^^^^^^\n",
      "  File \"C:\\Users\\SAIFUL_BADHON\\AppData\\Roaming\\Python\\Python312\\site-packages\\dicom2nifti\\convert_philips.py\", line 66, in dicom_to_nifti\n",
      "    return _singleframe_to_nifti(grouped_dicoms, output_file)\n",
      "           ^^^^^^^^^^^^^^^^^^^^^^^^^^^^^^^^^^^^^^^^^^^^^^^^^^\n",
      "  File \"C:\\Users\\SAIFUL_BADHON\\AppData\\Roaming\\Python\\Python312\\site-packages\\dicom2nifti\\convert_philips.py\", line 284, in _singleframe_to_nifti\n",
      "    full_block = _singleframe_to_block(grouped_dicoms)\n",
      "                 ^^^^^^^^^^^^^^^^^^^^^^^^^^^^^^^^^^^^^\n",
      "  File \"C:\\Users\\SAIFUL_BADHON\\AppData\\Roaming\\Python\\Python312\\site-packages\\dicom2nifti\\convert_philips.py\", line 351, in _singleframe_to_block\n",
      "    raise ConversionError(\"MISSING_DICOM_FILES\")\n",
      "dicom2nifti.exceptions.ConversionError: MISSING_DICOM_FILES\n"
     ]
    },
    {
     "name": "stdout",
     "output_type": "stream",
     "text": [
      "Converted I569636 to NIfTI at C:\\Users\\SAIFUL_BADHON\\Downloads\\fMRI\\output\\I569636\n"
     ]
    },
    {
     "name": "stderr",
     "output_type": "stream",
     "text": [
      "C:\\Users\\SAIFUL_BADHON\\AppData\\Roaming\\Python\\Python312\\site-packages\\pydicom\\valuerep.py:440: UserWarning: Invalid value for VR UI: '2.16.124.113543.6006.99.07270032189753688203'. Please see <https://dicom.nema.org/medical/dicom/current/output/html/part05.html#table_6.2-1> for allowed values for each VR.\n",
      "  warn_and_log(msg)\n"
     ]
    },
    {
     "name": "stdout",
     "output_type": "stream",
     "text": [
      "Converted I240811 to NIfTI at C:\\Users\\SAIFUL_BADHON\\Downloads\\fMRI\\output\\I240811\n"
     ]
    },
    {
     "name": "stderr",
     "output_type": "stream",
     "text": [
      "C:\\Users\\SAIFUL_BADHON\\AppData\\Roaming\\Python\\Python312\\site-packages\\pydicom\\valuerep.py:440: UserWarning: Invalid value for VR UI: '2.16.124.113543.6006.99.08164682669302537627'. Please see <https://dicom.nema.org/medical/dicom/current/output/html/part05.html#table_6.2-1> for allowed values for each VR.\n",
      "  warn_and_log(msg)\n"
     ]
    },
    {
     "name": "stdout",
     "output_type": "stream",
     "text": [
      "Converted I304790 to NIfTI at C:\\Users\\SAIFUL_BADHON\\Downloads\\fMRI\\output\\I304790\n",
      "Converted I243902 to NIfTI at C:\\Users\\SAIFUL_BADHON\\Downloads\\fMRI\\output\\I243902\n",
      "Skipping I322050: NIfTI already exists.\n",
      "Converted I843512 to NIfTI at C:\\Users\\SAIFUL_BADHON\\Downloads\\fMRI\\output\\I843512\n",
      "Converted I995503 to NIfTI at C:\\Users\\SAIFUL_BADHON\\Downloads\\fMRI\\output\\I995503\n"
     ]
    },
    {
     "name": "stderr",
     "output_type": "stream",
     "text": [
      "C:\\Users\\SAIFUL_BADHON\\AppData\\Roaming\\Python\\Python312\\site-packages\\pydicom\\valuerep.py:440: UserWarning: Invalid value for VR UI: '2.16.124.113543.6006.99.02338550060591211160'. Please see <https://dicom.nema.org/medical/dicom/current/output/html/part05.html#table_6.2-1> for allowed values for each VR.\n",
      "  warn_and_log(msg)\n"
     ]
    },
    {
     "name": "stdout",
     "output_type": "stream",
     "text": [
      "Converted I274147 to NIfTI at C:\\Users\\SAIFUL_BADHON\\Downloads\\fMRI\\output\\I274147\n"
     ]
    },
    {
     "name": "stderr",
     "output_type": "stream",
     "text": [
      "C:\\Users\\SAIFUL_BADHON\\AppData\\Roaming\\Python\\Python312\\site-packages\\pydicom\\valuerep.py:440: UserWarning: Invalid value for VR UI: '2.16.124.113543.6006.99.05659314684057579139'. Please see <https://dicom.nema.org/medical/dicom/current/output/html/part05.html#table_6.2-1> for allowed values for each VR.\n",
      "  warn_and_log(msg)\n"
     ]
    },
    {
     "name": "stdout",
     "output_type": "stream",
     "text": [
      "Converted I352947 to NIfTI at C:\\Users\\SAIFUL_BADHON\\Downloads\\fMRI\\output\\I352947\n"
     ]
    },
    {
     "name": "stderr",
     "output_type": "stream",
     "text": [
      "C:\\Users\\SAIFUL_BADHON\\AppData\\Roaming\\Python\\Python312\\site-packages\\pydicom\\valuerep.py:440: UserWarning: Invalid value for VR UI: '2.16.124.113543.6006.99.07321894202693130411'. Please see <https://dicom.nema.org/medical/dicom/current/output/html/part05.html#table_6.2-1> for allowed values for each VR.\n",
      "  warn_and_log(msg)\n"
     ]
    },
    {
     "name": "stdout",
     "output_type": "stream",
     "text": [
      "Converted I404373 to NIfTI at C:\\Users\\SAIFUL_BADHON\\Downloads\\fMRI\\output\\I404373\n",
      "Converted I831069 to NIfTI at C:\\Users\\SAIFUL_BADHON\\Downloads\\fMRI\\output\\I831069\n"
     ]
    },
    {
     "name": "stderr",
     "output_type": "stream",
     "text": [
      "Traceback (most recent call last):\n",
      "  File \"C:\\Users\\SAIFUL_BADHON\\AppData\\Roaming\\Python\\Python312\\site-packages\\dicom2nifti\\convert_philips.py\", line 348, in _singleframe_to_block\n",
      "    full_block = numpy.concatenate(data_blocks, axis=3)\n",
      "                 ^^^^^^^^^^^^^^^^^^^^^^^^^^^^^^^^^^^^^^\n",
      "ValueError: all the input array dimensions except for the concatenation axis must match exactly, but along dimension 2, the array at index 0 has size 6 and the array at index 46 has size 5\n",
      "Traceback (most recent call last):\n",
      "  File \"C:\\Users\\SAIFUL_BADHON\\AppData\\Roaming\\Python\\Python312\\site-packages\\dicom2nifti\\convert_philips.py\", line 348, in _singleframe_to_block\n",
      "    full_block = numpy.concatenate(data_blocks, axis=3)\n",
      "                 ^^^^^^^^^^^^^^^^^^^^^^^^^^^^^^^^^^^^^^\n",
      "ValueError: all the input array dimensions except for the concatenation axis must match exactly, but along dimension 2, the array at index 0 has size 6 and the array at index 46 has size 5\n",
      "\n",
      "During handling of the above exception, another exception occurred:\n",
      "\n",
      "Traceback (most recent call last):\n",
      "  File \"C:\\Users\\SAIFUL_BADHON\\AppData\\Roaming\\Python\\Python312\\site-packages\\dicom2nifti\\convert_dir.py\", line 86, in convert_directory\n",
      "    convert_dicom.dicom_array_to_nifti(dicom_input, nifti_file, reorient)\n",
      "  File \"C:\\Users\\SAIFUL_BADHON\\AppData\\Roaming\\Python\\Python312\\site-packages\\dicom2nifti\\convert_dicom.py\", line 125, in dicom_array_to_nifti\n",
      "    results = convert_philips.dicom_to_nifti(dicom_list, output_file)\n",
      "              ^^^^^^^^^^^^^^^^^^^^^^^^^^^^^^^^^^^^^^^^^^^^^^^^^^^^^^^\n",
      "  File \"C:\\Users\\SAIFUL_BADHON\\AppData\\Roaming\\Python\\Python312\\site-packages\\dicom2nifti\\convert_philips.py\", line 66, in dicom_to_nifti\n",
      "    return _singleframe_to_nifti(grouped_dicoms, output_file)\n",
      "           ^^^^^^^^^^^^^^^^^^^^^^^^^^^^^^^^^^^^^^^^^^^^^^^^^^\n",
      "  File \"C:\\Users\\SAIFUL_BADHON\\AppData\\Roaming\\Python\\Python312\\site-packages\\dicom2nifti\\convert_philips.py\", line 284, in _singleframe_to_nifti\n",
      "    full_block = _singleframe_to_block(grouped_dicoms)\n",
      "                 ^^^^^^^^^^^^^^^^^^^^^^^^^^^^^^^^^^^^^\n",
      "  File \"C:\\Users\\SAIFUL_BADHON\\AppData\\Roaming\\Python\\Python312\\site-packages\\dicom2nifti\\convert_philips.py\", line 351, in _singleframe_to_block\n",
      "    raise ConversionError(\"MISSING_DICOM_FILES\")\n",
      "dicom2nifti.exceptions.ConversionError: MISSING_DICOM_FILES\n",
      "C:\\Users\\SAIFUL_BADHON\\AppData\\Roaming\\Python\\Python312\\site-packages\\pydicom\\valuerep.py:440: UserWarning: Invalid value for VR UI: '2.16.124.113543.6006.99.06077548585266144345'. Please see <https://dicom.nema.org/medical/dicom/current/output/html/part05.html#table_6.2-1> for allowed values for each VR.\n",
      "  warn_and_log(msg)\n"
     ]
    },
    {
     "name": "stdout",
     "output_type": "stream",
     "text": [
      "Converted I418009 to NIfTI at C:\\Users\\SAIFUL_BADHON\\Downloads\\fMRI\\output\\I418009\n",
      "Converted I495943 to NIfTI at C:\\Users\\SAIFUL_BADHON\\Downloads\\fMRI\\output\\I495943\n",
      "Converted I223896 to NIfTI at C:\\Users\\SAIFUL_BADHON\\Downloads\\fMRI\\output\\I223896\n"
     ]
    },
    {
     "name": "stderr",
     "output_type": "stream",
     "text": [
      "C:\\Users\\SAIFUL_BADHON\\AppData\\Roaming\\Python\\Python312\\site-packages\\pydicom\\valuerep.py:440: UserWarning: Invalid value for VR UI: '2.16.124.113543.6006.99.09012702568518175430'. Please see <https://dicom.nema.org/medical/dicom/current/output/html/part05.html#table_6.2-1> for allowed values for each VR.\n",
      "  warn_and_log(msg)\n"
     ]
    },
    {
     "name": "stdout",
     "output_type": "stream",
     "text": [
      "Converted I286519 to NIfTI at C:\\Users\\SAIFUL_BADHON\\Downloads\\fMRI\\output\\I286519\n"
     ]
    },
    {
     "name": "stderr",
     "output_type": "stream",
     "text": [
      "C:\\Users\\SAIFUL_BADHON\\AppData\\Roaming\\Python\\Python312\\site-packages\\pydicom\\valuerep.py:440: UserWarning: Invalid value for VR UI: '2.16.124.113543.6006.99.06052168769803067337'. Please see <https://dicom.nema.org/medical/dicom/current/output/html/part05.html#table_6.2-1> for allowed values for each VR.\n",
      "  warn_and_log(msg)\n"
     ]
    },
    {
     "name": "stdout",
     "output_type": "stream",
     "text": [
      "Converted I361612 to NIfTI at C:\\Users\\SAIFUL_BADHON\\Downloads\\fMRI\\output\\I361612\n",
      "Converted I227595 to NIfTI at C:\\Users\\SAIFUL_BADHON\\Downloads\\fMRI\\output\\I227595\n",
      "Skipping I292427: NIfTI already exists.\n"
     ]
    },
    {
     "name": "stderr",
     "output_type": "stream",
     "text": [
      "C:\\Users\\SAIFUL_BADHON\\AppData\\Roaming\\Python\\Python312\\site-packages\\pydicom\\valuerep.py:440: UserWarning: Invalid value for VR UI: '2.16.124.113543.6006.99.01787749722019134121'. Please see <https://dicom.nema.org/medical/dicom/current/output/html/part05.html#table_6.2-1> for allowed values for each VR.\n",
      "  warn_and_log(msg)\n"
     ]
    },
    {
     "name": "stdout",
     "output_type": "stream",
     "text": [
      "Converted I1140413 to NIfTI at C:\\Users\\SAIFUL_BADHON\\Downloads\\fMRI\\output\\I1140413\n",
      "Skipping I829298: NIfTI already exists.\n",
      "Converted I418025 to NIfTI at C:\\Users\\SAIFUL_BADHON\\Downloads\\fMRI\\output\\I418025\n",
      "Skipping I233437: NIfTI already exists.\n"
     ]
    },
    {
     "name": "stderr",
     "output_type": "stream",
     "text": [
      "C:\\Users\\SAIFUL_BADHON\\AppData\\Roaming\\Python\\Python312\\site-packages\\pydicom\\valuerep.py:440: UserWarning: Invalid value for VR UI: '2.16.124.113543.6006.99.05499464211428833148'. Please see <https://dicom.nema.org/medical/dicom/current/output/html/part05.html#table_6.2-1> for allowed values for each VR.\n",
      "  warn_and_log(msg)\n"
     ]
    },
    {
     "name": "stdout",
     "output_type": "stream",
     "text": [
      "Converted I287493 to NIfTI at C:\\Users\\SAIFUL_BADHON\\Downloads\\fMRI\\output\\I287493\n",
      "Skipping I180734: NIfTI already exists.\n",
      "Converted I199148 to NIfTI at C:\\Users\\SAIFUL_BADHON\\Downloads\\fMRI\\output\\I199148\n",
      "Converted I213885 to NIfTI at C:\\Users\\SAIFUL_BADHON\\Downloads\\fMRI\\output\\I213885\n",
      "Converted I243875 to NIfTI at C:\\Users\\SAIFUL_BADHON\\Downloads\\fMRI\\output\\I243875\n",
      "Converted I316041 to NIfTI at C:\\Users\\SAIFUL_BADHON\\Downloads\\fMRI\\output\\I316041\n",
      "Converted I207955 to NIfTI at C:\\Users\\SAIFUL_BADHON\\Downloads\\fMRI\\output\\I207955\n"
     ]
    },
    {
     "name": "stderr",
     "output_type": "stream",
     "text": [
      "C:\\Users\\SAIFUL_BADHON\\AppData\\Roaming\\Python\\Python312\\site-packages\\pydicom\\valuerep.py:440: UserWarning: Invalid value for VR UI: '2.16.124.113543.6006.99.08559094676915487100'. Please see <https://dicom.nema.org/medical/dicom/current/output/html/part05.html#table_6.2-1> for allowed values for each VR.\n",
      "  warn_and_log(msg)\n"
     ]
    },
    {
     "name": "stdout",
     "output_type": "stream",
     "text": [
      "Converted I256635 to NIfTI at C:\\Users\\SAIFUL_BADHON\\Downloads\\fMRI\\output\\I256635\n"
     ]
    },
    {
     "name": "stderr",
     "output_type": "stream",
     "text": [
      "C:\\Users\\SAIFUL_BADHON\\AppData\\Roaming\\Python\\Python312\\site-packages\\pydicom\\valuerep.py:440: UserWarning: Invalid value for VR UI: '2.16.124.113543.6006.99.06317601239706860256'. Please see <https://dicom.nema.org/medical/dicom/current/output/html/part05.html#table_6.2-1> for allowed values for each VR.\n",
      "  warn_and_log(msg)\n"
     ]
    },
    {
     "name": "stdout",
     "output_type": "stream",
     "text": [
      "Converted I192250 to NIfTI at C:\\Users\\SAIFUL_BADHON\\Downloads\\fMRI\\output\\I192250\n",
      "Converted I207666 to NIfTI at C:\\Users\\SAIFUL_BADHON\\Downloads\\fMRI\\output\\I207666\n"
     ]
    },
    {
     "name": "stderr",
     "output_type": "stream",
     "text": [
      "C:\\Users\\SAIFUL_BADHON\\AppData\\Roaming\\Python\\Python312\\site-packages\\pydicom\\valuerep.py:440: UserWarning: Invalid value for VR UI: '2.16.124.113543.6006.99.0129060637726936183'. Please see <https://dicom.nema.org/medical/dicom/current/output/html/part05.html#table_6.2-1> for allowed values for each VR.\n",
      "  warn_and_log(msg)\n"
     ]
    },
    {
     "name": "stdout",
     "output_type": "stream",
     "text": [
      "Converted I257487 to NIfTI at C:\\Users\\SAIFUL_BADHON\\Downloads\\fMRI\\output\\I257487\n",
      "Converted I332881 to NIfTI at C:\\Users\\SAIFUL_BADHON\\Downloads\\fMRI\\output\\I332881\n",
      "Converted I393007 to NIfTI at C:\\Users\\SAIFUL_BADHON\\Downloads\\fMRI\\output\\I393007\n",
      "Converted I249536 to NIfTI at C:\\Users\\SAIFUL_BADHON\\Downloads\\fMRI\\output\\I249536\n",
      "Converted I1236684 to NIfTI at C:\\Users\\SAIFUL_BADHON\\Downloads\\fMRI\\output\\I1236684\n",
      "Converted I888012 to NIfTI at C:\\Users\\SAIFUL_BADHON\\Downloads\\fMRI\\output\\I888012\n"
     ]
    },
    {
     "name": "stderr",
     "output_type": "stream",
     "text": [
      "C:\\Users\\SAIFUL_BADHON\\AppData\\Roaming\\Python\\Python312\\site-packages\\pydicom\\valuerep.py:440: UserWarning: Invalid value for VR UI: '2.16.124.113543.6006.99.0772376447315713987'. Please see <https://dicom.nema.org/medical/dicom/current/output/html/part05.html#table_6.2-1> for allowed values for each VR.\n",
      "  warn_and_log(msg)\n"
     ]
    },
    {
     "name": "stdout",
     "output_type": "stream",
     "text": [
      "Converted I573757 to NIfTI at C:\\Users\\SAIFUL_BADHON\\Downloads\\fMRI\\output\\I573757\n"
     ]
    },
    {
     "name": "stderr",
     "output_type": "stream",
     "text": [
      "C:\\Users\\SAIFUL_BADHON\\AppData\\Roaming\\Python\\Python312\\site-packages\\pydicom\\valuerep.py:440: UserWarning: Invalid value for VR UI: '2.16.124.113543.6006.99.088694040874009911'. Please see <https://dicom.nema.org/medical/dicom/current/output/html/part05.html#table_6.2-1> for allowed values for each VR.\n",
      "  warn_and_log(msg)\n"
     ]
    },
    {
     "name": "stdout",
     "output_type": "stream",
     "text": [
      "Converted I254581 to NIfTI at C:\\Users\\SAIFUL_BADHON\\Downloads\\fMRI\\output\\I254581\n"
     ]
    },
    {
     "name": "stderr",
     "output_type": "stream",
     "text": [
      "C:\\Users\\SAIFUL_BADHON\\AppData\\Roaming\\Python\\Python312\\site-packages\\pydicom\\valuerep.py:440: UserWarning: Invalid value for VR UI: '2.16.124.113543.6006.99.02049202336390302714'. Please see <https://dicom.nema.org/medical/dicom/current/output/html/part05.html#table_6.2-1> for allowed values for each VR.\n",
      "  warn_and_log(msg)\n"
     ]
    },
    {
     "name": "stdout",
     "output_type": "stream",
     "text": [
      "Converted I273218 to NIfTI at C:\\Users\\SAIFUL_BADHON\\Downloads\\fMRI\\output\\I273218\n"
     ]
    },
    {
     "name": "stderr",
     "output_type": "stream",
     "text": [
      "C:\\Users\\SAIFUL_BADHON\\AppData\\Roaming\\Python\\Python312\\site-packages\\pydicom\\valuerep.py:440: UserWarning: Invalid value for VR UI: '2.16.124.113543.6006.99.06073219589034406695'. Please see <https://dicom.nema.org/medical/dicom/current/output/html/part05.html#table_6.2-1> for allowed values for each VR.\n",
      "  warn_and_log(msg)\n"
     ]
    },
    {
     "name": "stdout",
     "output_type": "stream",
     "text": [
      "Converted I335999 to NIfTI at C:\\Users\\SAIFUL_BADHON\\Downloads\\fMRI\\output\\I335999\n",
      "Skipping I256148: NIfTI already exists.\n",
      "Converted I273181 to NIfTI at C:\\Users\\SAIFUL_BADHON\\Downloads\\fMRI\\output\\I273181\n"
     ]
    },
    {
     "name": "stderr",
     "output_type": "stream",
     "text": [
      "C:\\Users\\SAIFUL_BADHON\\AppData\\Roaming\\Python\\Python312\\site-packages\\pydicom\\valuerep.py:440: UserWarning: Invalid value for VR UI: '2.16.124.113543.6006.99.01039475157829942503'. Please see <https://dicom.nema.org/medical/dicom/current/output/html/part05.html#table_6.2-1> for allowed values for each VR.\n",
      "  warn_and_log(msg)\n"
     ]
    },
    {
     "name": "stdout",
     "output_type": "stream",
     "text": [
      "Converted I338109 to NIfTI at C:\\Users\\SAIFUL_BADHON\\Downloads\\fMRI\\output\\I338109\n"
     ]
    },
    {
     "name": "stderr",
     "output_type": "stream",
     "text": [
      "C:\\Users\\SAIFUL_BADHON\\AppData\\Roaming\\Python\\Python312\\site-packages\\pydicom\\valuerep.py:440: UserWarning: Invalid value for VR UI: '2.16.124.113543.6006.99.07960876789641916922'. Please see <https://dicom.nema.org/medical/dicom/current/output/html/part05.html#table_6.2-1> for allowed values for each VR.\n",
      "  warn_and_log(msg)\n"
     ]
    },
    {
     "name": "stdout",
     "output_type": "stream",
     "text": [
      "Converted I1075138 to NIfTI at C:\\Users\\SAIFUL_BADHON\\Downloads\\fMRI\\output\\I1075138\n"
     ]
    },
    {
     "name": "stderr",
     "output_type": "stream",
     "text": [
      "Traceback (most recent call last):\n",
      "  File \"C:\\Users\\SAIFUL_BADHON\\AppData\\Roaming\\Python\\Python312\\site-packages\\dicom2nifti\\convert_philips.py\", line 348, in _singleframe_to_block\n",
      "    full_block = numpy.concatenate(data_blocks, axis=3)\n",
      "                 ^^^^^^^^^^^^^^^^^^^^^^^^^^^^^^^^^^^^^^\n",
      "ValueError: all the input array dimensions except for the concatenation axis must match exactly, but along dimension 2, the array at index 0 has size 48 and the array at index 3 has size 38\n",
      "Traceback (most recent call last):\n",
      "  File \"C:\\Users\\SAIFUL_BADHON\\AppData\\Roaming\\Python\\Python312\\site-packages\\dicom2nifti\\convert_philips.py\", line 348, in _singleframe_to_block\n",
      "    full_block = numpy.concatenate(data_blocks, axis=3)\n",
      "                 ^^^^^^^^^^^^^^^^^^^^^^^^^^^^^^^^^^^^^^\n",
      "ValueError: all the input array dimensions except for the concatenation axis must match exactly, but along dimension 2, the array at index 0 has size 48 and the array at index 3 has size 38\n",
      "\n",
      "During handling of the above exception, another exception occurred:\n",
      "\n",
      "Traceback (most recent call last):\n",
      "  File \"C:\\Users\\SAIFUL_BADHON\\AppData\\Roaming\\Python\\Python312\\site-packages\\dicom2nifti\\convert_dir.py\", line 86, in convert_directory\n",
      "    convert_dicom.dicom_array_to_nifti(dicom_input, nifti_file, reorient)\n",
      "  File \"C:\\Users\\SAIFUL_BADHON\\AppData\\Roaming\\Python\\Python312\\site-packages\\dicom2nifti\\convert_dicom.py\", line 125, in dicom_array_to_nifti\n",
      "    results = convert_philips.dicom_to_nifti(dicom_list, output_file)\n",
      "              ^^^^^^^^^^^^^^^^^^^^^^^^^^^^^^^^^^^^^^^^^^^^^^^^^^^^^^^\n",
      "  File \"C:\\Users\\SAIFUL_BADHON\\AppData\\Roaming\\Python\\Python312\\site-packages\\dicom2nifti\\convert_philips.py\", line 66, in dicom_to_nifti\n",
      "    return _singleframe_to_nifti(grouped_dicoms, output_file)\n",
      "           ^^^^^^^^^^^^^^^^^^^^^^^^^^^^^^^^^^^^^^^^^^^^^^^^^^\n",
      "  File \"C:\\Users\\SAIFUL_BADHON\\AppData\\Roaming\\Python\\Python312\\site-packages\\dicom2nifti\\convert_philips.py\", line 284, in _singleframe_to_nifti\n",
      "    full_block = _singleframe_to_block(grouped_dicoms)\n",
      "                 ^^^^^^^^^^^^^^^^^^^^^^^^^^^^^^^^^^^^^\n",
      "  File \"C:\\Users\\SAIFUL_BADHON\\AppData\\Roaming\\Python\\Python312\\site-packages\\dicom2nifti\\convert_philips.py\", line 351, in _singleframe_to_block\n",
      "    raise ConversionError(\"MISSING_DICOM_FILES\")\n",
      "dicom2nifti.exceptions.ConversionError: MISSING_DICOM_FILES\n"
     ]
    },
    {
     "name": "stdout",
     "output_type": "stream",
     "text": [
      "Converted I257275 to NIfTI at C:\\Users\\SAIFUL_BADHON\\Downloads\\fMRI\\output\\I257275\n",
      "Converted I274579 to NIfTI at C:\\Users\\SAIFUL_BADHON\\Downloads\\fMRI\\output\\I274579\n",
      "Converted I395105 to NIfTI at C:\\Users\\SAIFUL_BADHON\\Downloads\\fMRI\\output\\I395105\n"
     ]
    },
    {
     "name": "stderr",
     "output_type": "stream",
     "text": [
      "C:\\Users\\SAIFUL_BADHON\\AppData\\Roaming\\Python\\Python312\\site-packages\\pydicom\\valuerep.py:440: UserWarning: Invalid value for VR UI: '2.16.124.113543.6006.99.07533255331883312848'. Please see <https://dicom.nema.org/medical/dicom/current/output/html/part05.html#table_6.2-1> for allowed values for each VR.\n",
      "  warn_and_log(msg)\n"
     ]
    },
    {
     "name": "stdout",
     "output_type": "stream",
     "text": [
      "Converted I257477 to NIfTI at C:\\Users\\SAIFUL_BADHON\\Downloads\\fMRI\\output\\I257477\n",
      "Converted I296652 to NIfTI at C:\\Users\\SAIFUL_BADHON\\Downloads\\fMRI\\output\\I296652\n",
      "Converted I335317 to NIfTI at C:\\Users\\SAIFUL_BADHON\\Downloads\\fMRI\\output\\I335317\n"
     ]
    },
    {
     "name": "stderr",
     "output_type": "stream",
     "text": [
      "C:\\Users\\SAIFUL_BADHON\\AppData\\Roaming\\Python\\Python312\\site-packages\\pydicom\\valuerep.py:440: UserWarning: Invalid value for VR UI: '2.16.124.113543.6006.99.08421905239931854239'. Please see <https://dicom.nema.org/medical/dicom/current/output/html/part05.html#table_6.2-1> for allowed values for each VR.\n",
      "  warn_and_log(msg)\n"
     ]
    },
    {
     "name": "stdout",
     "output_type": "stream",
     "text": [
      "Converted I394820 to NIfTI at C:\\Users\\SAIFUL_BADHON\\Downloads\\fMRI\\output\\I394820\n"
     ]
    },
    {
     "name": "stderr",
     "output_type": "stream",
     "text": [
      "C:\\Users\\SAIFUL_BADHON\\AppData\\Roaming\\Python\\Python312\\site-packages\\pydicom\\valuerep.py:440: UserWarning: Invalid value for VR UI: '2.16.124.113543.6006.99.09142220095431518554'. Please see <https://dicom.nema.org/medical/dicom/current/output/html/part05.html#table_6.2-1> for allowed values for each VR.\n",
      "  warn_and_log(msg)\n"
     ]
    },
    {
     "name": "stdout",
     "output_type": "stream",
     "text": [
      "Converted I258448 to NIfTI at C:\\Users\\SAIFUL_BADHON\\Downloads\\fMRI\\output\\I258448\n",
      "Converted I346233 to NIfTI at C:\\Users\\SAIFUL_BADHON\\Downloads\\fMRI\\output\\I346233\n",
      "Converted I258528 to NIfTI at C:\\Users\\SAIFUL_BADHON\\Downloads\\fMRI\\output\\I258528\n",
      "Skipping I273556: NIfTI already exists.\n",
      "Converted I298203 to NIfTI at C:\\Users\\SAIFUL_BADHON\\Downloads\\fMRI\\output\\I298203\n"
     ]
    },
    {
     "name": "stderr",
     "output_type": "stream",
     "text": [
      "C:\\Users\\SAIFUL_BADHON\\AppData\\Roaming\\Python\\Python312\\site-packages\\pydicom\\valuerep.py:440: UserWarning: Invalid value for VR UI: '2.16.124.113543.6006.99.06684847049907852028'. Please see <https://dicom.nema.org/medical/dicom/current/output/html/part05.html#table_6.2-1> for allowed values for each VR.\n",
      "  warn_and_log(msg)\n"
     ]
    },
    {
     "name": "stdout",
     "output_type": "stream",
     "text": [
      "Converted I573585 to NIfTI at C:\\Users\\SAIFUL_BADHON\\Downloads\\fMRI\\output\\I573585\n"
     ]
    },
    {
     "name": "stderr",
     "output_type": "stream",
     "text": [
      "C:\\Users\\SAIFUL_BADHON\\AppData\\Roaming\\Python\\Python312\\site-packages\\pydicom\\valuerep.py:440: UserWarning: Invalid value for VR UI: '2.16.124.113543.6006.99.03825828622189895605'. Please see <https://dicom.nema.org/medical/dicom/current/output/html/part05.html#table_6.2-1> for allowed values for each VR.\n",
      "  warn_and_log(msg)\n"
     ]
    },
    {
     "name": "stdout",
     "output_type": "stream",
     "text": [
      "Converted I259654 to NIfTI at C:\\Users\\SAIFUL_BADHON\\Downloads\\fMRI\\output\\I259654\n",
      "Skipping I260580: NIfTI already exists.\n"
     ]
    },
    {
     "name": "stderr",
     "output_type": "stream",
     "text": [
      "C:\\Users\\SAIFUL_BADHON\\AppData\\Roaming\\Python\\Python312\\site-packages\\pydicom\\valuerep.py:440: UserWarning: Invalid value for VR UI: '2.16.124.113543.6006.99.09221928294544241880'. Please see <https://dicom.nema.org/medical/dicom/current/output/html/part05.html#table_6.2-1> for allowed values for each VR.\n",
      "  warn_and_log(msg)\n",
      "Traceback (most recent call last):\n",
      "  File \"C:\\Users\\SAIFUL_BADHON\\AppData\\Roaming\\Python\\Python312\\site-packages\\dicom2nifti\\convert_philips.py\", line 348, in _singleframe_to_block\n",
      "    full_block = numpy.concatenate(data_blocks, axis=3)\n",
      "                 ^^^^^^^^^^^^^^^^^^^^^^^^^^^^^^^^^^^^^^\n",
      "ValueError: all the input array dimensions except for the concatenation axis must match exactly, but along dimension 2, the array at index 0 has size 48 and the array at index 93 has size 47\n",
      "Traceback (most recent call last):\n",
      "  File \"C:\\Users\\SAIFUL_BADHON\\AppData\\Roaming\\Python\\Python312\\site-packages\\dicom2nifti\\convert_philips.py\", line 348, in _singleframe_to_block\n",
      "    full_block = numpy.concatenate(data_blocks, axis=3)\n",
      "                 ^^^^^^^^^^^^^^^^^^^^^^^^^^^^^^^^^^^^^^\n",
      "ValueError: all the input array dimensions except for the concatenation axis must match exactly, but along dimension 2, the array at index 0 has size 48 and the array at index 93 has size 47\n",
      "\n",
      "During handling of the above exception, another exception occurred:\n",
      "\n",
      "Traceback (most recent call last):\n",
      "  File \"C:\\Users\\SAIFUL_BADHON\\AppData\\Roaming\\Python\\Python312\\site-packages\\dicom2nifti\\convert_dir.py\", line 86, in convert_directory\n",
      "    convert_dicom.dicom_array_to_nifti(dicom_input, nifti_file, reorient)\n",
      "  File \"C:\\Users\\SAIFUL_BADHON\\AppData\\Roaming\\Python\\Python312\\site-packages\\dicom2nifti\\convert_dicom.py\", line 125, in dicom_array_to_nifti\n",
      "    results = convert_philips.dicom_to_nifti(dicom_list, output_file)\n",
      "              ^^^^^^^^^^^^^^^^^^^^^^^^^^^^^^^^^^^^^^^^^^^^^^^^^^^^^^^\n",
      "  File \"C:\\Users\\SAIFUL_BADHON\\AppData\\Roaming\\Python\\Python312\\site-packages\\dicom2nifti\\convert_philips.py\", line 66, in dicom_to_nifti\n",
      "    return _singleframe_to_nifti(grouped_dicoms, output_file)\n",
      "           ^^^^^^^^^^^^^^^^^^^^^^^^^^^^^^^^^^^^^^^^^^^^^^^^^^\n",
      "  File \"C:\\Users\\SAIFUL_BADHON\\AppData\\Roaming\\Python\\Python312\\site-packages\\dicom2nifti\\convert_philips.py\", line 284, in _singleframe_to_nifti\n",
      "    full_block = _singleframe_to_block(grouped_dicoms)\n",
      "                 ^^^^^^^^^^^^^^^^^^^^^^^^^^^^^^^^^^^^^\n",
      "  File \"C:\\Users\\SAIFUL_BADHON\\AppData\\Roaming\\Python\\Python312\\site-packages\\dicom2nifti\\convert_philips.py\", line 351, in _singleframe_to_block\n",
      "    raise ConversionError(\"MISSING_DICOM_FILES\")\n",
      "dicom2nifti.exceptions.ConversionError: MISSING_DICOM_FILES\n",
      "C:\\Users\\SAIFUL_BADHON\\AppData\\Roaming\\Python\\Python312\\site-packages\\pydicom\\valuerep.py:440: UserWarning: Invalid value for VR UI: '2.16.124.113543.6006.99.03075240958158977453'. Please see <https://dicom.nema.org/medical/dicom/current/output/html/part05.html#table_6.2-1> for allowed values for each VR.\n",
      "  warn_and_log(msg)\n"
     ]
    },
    {
     "name": "stdout",
     "output_type": "stream",
     "text": [
      "Converted I277135 to NIfTI at C:\\Users\\SAIFUL_BADHON\\Downloads\\fMRI\\output\\I277135\n",
      "Skipping I301757: NIfTI already exists.\n",
      "Converted I346801 to NIfTI at C:\\Users\\SAIFUL_BADHON\\Downloads\\fMRI\\output\\I346801\n"
     ]
    },
    {
     "name": "stderr",
     "output_type": "stream",
     "text": [
      "Traceback (most recent call last):\n",
      "  File \"C:\\Users\\SAIFUL_BADHON\\AppData\\Roaming\\Python\\Python312\\site-packages\\dicom2nifti\\convert_philips.py\", line 348, in _singleframe_to_block\n",
      "    full_block = numpy.concatenate(data_blocks, axis=3)\n",
      "                 ^^^^^^^^^^^^^^^^^^^^^^^^^^^^^^^^^^^^^^\n",
      "ValueError: all the input array dimensions except for the concatenation axis must match exactly, but along dimension 2, the array at index 0 has size 48 and the array at index 68 has size 47\n",
      "Traceback (most recent call last):\n",
      "  File \"C:\\Users\\SAIFUL_BADHON\\AppData\\Roaming\\Python\\Python312\\site-packages\\dicom2nifti\\convert_philips.py\", line 348, in _singleframe_to_block\n",
      "    full_block = numpy.concatenate(data_blocks, axis=3)\n",
      "                 ^^^^^^^^^^^^^^^^^^^^^^^^^^^^^^^^^^^^^^\n",
      "ValueError: all the input array dimensions except for the concatenation axis must match exactly, but along dimension 2, the array at index 0 has size 48 and the array at index 68 has size 47\n",
      "\n",
      "During handling of the above exception, another exception occurred:\n",
      "\n",
      "Traceback (most recent call last):\n",
      "  File \"C:\\Users\\SAIFUL_BADHON\\AppData\\Roaming\\Python\\Python312\\site-packages\\dicom2nifti\\convert_dir.py\", line 86, in convert_directory\n",
      "    convert_dicom.dicom_array_to_nifti(dicom_input, nifti_file, reorient)\n",
      "  File \"C:\\Users\\SAIFUL_BADHON\\AppData\\Roaming\\Python\\Python312\\site-packages\\dicom2nifti\\convert_dicom.py\", line 125, in dicom_array_to_nifti\n",
      "    results = convert_philips.dicom_to_nifti(dicom_list, output_file)\n",
      "              ^^^^^^^^^^^^^^^^^^^^^^^^^^^^^^^^^^^^^^^^^^^^^^^^^^^^^^^\n",
      "  File \"C:\\Users\\SAIFUL_BADHON\\AppData\\Roaming\\Python\\Python312\\site-packages\\dicom2nifti\\convert_philips.py\", line 66, in dicom_to_nifti\n",
      "    return _singleframe_to_nifti(grouped_dicoms, output_file)\n",
      "           ^^^^^^^^^^^^^^^^^^^^^^^^^^^^^^^^^^^^^^^^^^^^^^^^^^\n",
      "  File \"C:\\Users\\SAIFUL_BADHON\\AppData\\Roaming\\Python\\Python312\\site-packages\\dicom2nifti\\convert_philips.py\", line 284, in _singleframe_to_nifti\n",
      "    full_block = _singleframe_to_block(grouped_dicoms)\n",
      "                 ^^^^^^^^^^^^^^^^^^^^^^^^^^^^^^^^^^^^^\n",
      "  File \"C:\\Users\\SAIFUL_BADHON\\AppData\\Roaming\\Python\\Python312\\site-packages\\dicom2nifti\\convert_philips.py\", line 351, in _singleframe_to_block\n",
      "    raise ConversionError(\"MISSING_DICOM_FILES\")\n",
      "dicom2nifti.exceptions.ConversionError: MISSING_DICOM_FILES\n"
     ]
    },
    {
     "name": "stdout",
     "output_type": "stream",
     "text": [
      "Converted I278818 to NIfTI at C:\\Users\\SAIFUL_BADHON\\Downloads\\fMRI\\output\\I278818\n",
      "Skipping I361436: NIfTI already exists.\n",
      "Converted I473874 to NIfTI at C:\\Users\\SAIFUL_BADHON\\Downloads\\fMRI\\output\\I473874\n",
      "Skipping I305240: NIfTI already exists.\n"
     ]
    },
    {
     "name": "stderr",
     "output_type": "stream",
     "text": [
      "C:\\Users\\SAIFUL_BADHON\\AppData\\Roaming\\Python\\Python312\\site-packages\\pydicom\\valuerep.py:440: UserWarning: Invalid value for VR UI: '2.16.124.113543.6006.99.08751857200210838678'. Please see <https://dicom.nema.org/medical/dicom/current/output/html/part05.html#table_6.2-1> for allowed values for each VR.\n",
      "  warn_and_log(msg)\n"
     ]
    },
    {
     "name": "stdout",
     "output_type": "stream",
     "text": [
      "Converted I491173 to NIfTI at C:\\Users\\SAIFUL_BADHON\\Downloads\\fMRI\\output\\I491173\n"
     ]
    },
    {
     "name": "stderr",
     "output_type": "stream",
     "text": [
      "C:\\Users\\SAIFUL_BADHON\\AppData\\Roaming\\Python\\Python312\\site-packages\\pydicom\\valuerep.py:440: UserWarning: Invalid value for VR UI: '2.16.124.113543.6006.99.07113244417590873781'. Please see <https://dicom.nema.org/medical/dicom/current/output/html/part05.html#table_6.2-1> for allowed values for each VR.\n",
      "  warn_and_log(msg)\n"
     ]
    },
    {
     "name": "stdout",
     "output_type": "stream",
     "text": [
      "Converted I662503 to NIfTI at C:\\Users\\SAIFUL_BADHON\\Downloads\\fMRI\\output\\I662503\n"
     ]
    },
    {
     "name": "stderr",
     "output_type": "stream",
     "text": [
      "C:\\Users\\SAIFUL_BADHON\\AppData\\Roaming\\Python\\Python312\\site-packages\\pydicom\\valuerep.py:440: UserWarning: Invalid value for VR UI: '2.16.124.113543.6006.99.06784578159206377848'. Please see <https://dicom.nema.org/medical/dicom/current/output/html/part05.html#table_6.2-1> for allowed values for each VR.\n",
      "  warn_and_log(msg)\n"
     ]
    },
    {
     "name": "stdout",
     "output_type": "stream",
     "text": [
      "Converted I330179 to NIfTI at C:\\Users\\SAIFUL_BADHON\\Downloads\\fMRI\\output\\I330179\n",
      "Converted I363568 to NIfTI at C:\\Users\\SAIFUL_BADHON\\Downloads\\fMRI\\output\\I363568\n",
      "Converted I1001982 to NIfTI at C:\\Users\\SAIFUL_BADHON\\Downloads\\fMRI\\output\\I1001982\n"
     ]
    },
    {
     "name": "stderr",
     "output_type": "stream",
     "text": [
      "C:\\Users\\SAIFUL_BADHON\\AppData\\Roaming\\Python\\Python312\\site-packages\\pydicom\\valuerep.py:440: UserWarning: Invalid value for VR UI: '2.16.124.113543.6006.99.07708966022127374493'. Please see <https://dicom.nema.org/medical/dicom/current/output/html/part05.html#table_6.2-1> for allowed values for each VR.\n",
      "  warn_and_log(msg)\n"
     ]
    },
    {
     "name": "stdout",
     "output_type": "stream",
     "text": [
      "Converted I296366 to NIfTI at C:\\Users\\SAIFUL_BADHON\\Downloads\\fMRI\\output\\I296366\n"
     ]
    },
    {
     "name": "stderr",
     "output_type": "stream",
     "text": [
      "C:\\Users\\SAIFUL_BADHON\\AppData\\Roaming\\Python\\Python312\\site-packages\\pydicom\\valuerep.py:440: UserWarning: Invalid value for VR UI: '2.16.124.113543.6006.99.03304958380977582282'. Please see <https://dicom.nema.org/medical/dicom/current/output/html/part05.html#table_6.2-1> for allowed values for each VR.\n",
      "  warn_and_log(msg)\n"
     ]
    },
    {
     "name": "stdout",
     "output_type": "stream",
     "text": [
      "Converted I306889 to NIfTI at C:\\Users\\SAIFUL_BADHON\\Downloads\\fMRI\\output\\I306889\n"
     ]
    },
    {
     "name": "stderr",
     "output_type": "stream",
     "text": [
      "C:\\Users\\SAIFUL_BADHON\\AppData\\Roaming\\Python\\Python312\\site-packages\\pydicom\\valuerep.py:440: UserWarning: Invalid value for VR UI: '2.16.124.113543.6006.99.07767227950001850916'. Please see <https://dicom.nema.org/medical/dicom/current/output/html/part05.html#table_6.2-1> for allowed values for each VR.\n",
      "  warn_and_log(msg)\n"
     ]
    },
    {
     "name": "stdout",
     "output_type": "stream",
     "text": [
      "Converted I375097 to NIfTI at C:\\Users\\SAIFUL_BADHON\\Downloads\\fMRI\\output\\I375097\n"
     ]
    },
    {
     "name": "stderr",
     "output_type": "stream",
     "text": [
      "C:\\Users\\SAIFUL_BADHON\\AppData\\Roaming\\Python\\Python312\\site-packages\\pydicom\\valuerep.py:440: UserWarning: Invalid value for VR UI: '2.16.124.113543.6006.99.05512456517069720126'. Please see <https://dicom.nema.org/medical/dicom/current/output/html/part05.html#table_6.2-1> for allowed values for each VR.\n",
      "  warn_and_log(msg)\n"
     ]
    },
    {
     "name": "stdout",
     "output_type": "stream",
     "text": [
      "Converted I1270057 to NIfTI at C:\\Users\\SAIFUL_BADHON\\Downloads\\fMRI\\output\\I1270057\n",
      "Skipping I332859: NIfTI already exists.\n",
      "Converted I379008 to NIfTI at C:\\Users\\SAIFUL_BADHON\\Downloads\\fMRI\\output\\I379008\n",
      "Converted I346237 to NIfTI at C:\\Users\\SAIFUL_BADHON\\Downloads\\fMRI\\output\\I346237\n",
      "Skipping I372812: NIfTI already exists.\n",
      "Converted I1270073 to NIfTI at C:\\Users\\SAIFUL_BADHON\\Downloads\\fMRI\\output\\I1270073\n",
      "Skipping I502023: NIfTI already exists.\n",
      "Skipping I384734: NIfTI already exists.\n",
      "Converted I400330 to NIfTI at C:\\Users\\SAIFUL_BADHON\\Downloads\\fMRI\\output\\I400330\n",
      "Converted I884810 to NIfTI at C:\\Users\\SAIFUL_BADHON\\Downloads\\fMRI\\output\\I884810\n",
      "Skipping I573700: NIfTI already exists.\n"
     ]
    },
    {
     "name": "stderr",
     "output_type": "stream",
     "text": [
      "C:\\Users\\SAIFUL_BADHON\\AppData\\Roaming\\Python\\Python312\\site-packages\\pydicom\\valuerep.py:440: UserWarning: Invalid value for VR UI: '2.16.124.113543.6006.99.06404907757793415908'. Please see <https://dicom.nema.org/medical/dicom/current/output/html/part05.html#table_6.2-1> for allowed values for each VR.\n",
      "  warn_and_log(msg)\n"
     ]
    },
    {
     "name": "stdout",
     "output_type": "stream",
     "text": [
      "Converted I391667 to NIfTI at C:\\Users\\SAIFUL_BADHON\\Downloads\\fMRI\\output\\I391667\n",
      "Converted I407829 to NIfTI at C:\\Users\\SAIFUL_BADHON\\Downloads\\fMRI\\output\\I407829\n"
     ]
    },
    {
     "name": "stderr",
     "output_type": "stream",
     "text": [
      "C:\\Users\\SAIFUL_BADHON\\AppData\\Roaming\\Python\\Python312\\site-packages\\pydicom\\valuerep.py:440: UserWarning: Invalid value for VR UI: '2.16.124.113543.6006.99.03741886342078176367'. Please see <https://dicom.nema.org/medical/dicom/current/output/html/part05.html#table_6.2-1> for allowed values for each VR.\n",
      "  warn_and_log(msg)\n"
     ]
    },
    {
     "name": "stdout",
     "output_type": "stream",
     "text": [
      "Converted I380899 to NIfTI at C:\\Users\\SAIFUL_BADHON\\Downloads\\fMRI\\output\\I380899\n",
      "Skipping I414939: NIfTI already exists.\n",
      "Converted I1270105 to NIfTI at C:\\Users\\SAIFUL_BADHON\\Downloads\\fMRI\\output\\I1270105\n"
     ]
    },
    {
     "name": "stderr",
     "output_type": "stream",
     "text": [
      "C:\\Users\\SAIFUL_BADHON\\AppData\\Roaming\\Python\\Python312\\site-packages\\pydicom\\valuerep.py:440: UserWarning: Invalid value for VR UI: '2.16.124.113543.6006.99.03459362161217053351'. Please see <https://dicom.nema.org/medical/dicom/current/output/html/part05.html#table_6.2-1> for allowed values for each VR.\n",
      "  warn_and_log(msg)\n"
     ]
    },
    {
     "name": "stdout",
     "output_type": "stream",
     "text": [
      "Converted I835742 to NIfTI at C:\\Users\\SAIFUL_BADHON\\Downloads\\fMRI\\output\\I835742\n",
      "Skipping I861967: NIfTI already exists.\n"
     ]
    },
    {
     "name": "stderr",
     "output_type": "stream",
     "text": [
      "C:\\Users\\SAIFUL_BADHON\\AppData\\Roaming\\Python\\Python312\\site-packages\\pydicom\\valuerep.py:440: UserWarning: Invalid value for VR UI: '2.16.124.113543.6006.99.05675614695110091155'. Please see <https://dicom.nema.org/medical/dicom/current/output/html/part05.html#table_6.2-1> for allowed values for each VR.\n",
      "  warn_and_log(msg)\n"
     ]
    },
    {
     "name": "stdout",
     "output_type": "stream",
     "text": [
      "Converted I1255417 to NIfTI at C:\\Users\\SAIFUL_BADHON\\Downloads\\fMRI\\output\\I1255417\n",
      "Converted I938771 to NIfTI at C:\\Users\\SAIFUL_BADHON\\Downloads\\fMRI\\output\\I938771\n",
      "Skipping I1021535: NIfTI already exists.\n"
     ]
    },
    {
     "name": "stderr",
     "output_type": "stream",
     "text": [
      "C:\\Users\\SAIFUL_BADHON\\AppData\\Roaming\\Python\\Python312\\site-packages\\pydicom\\valuerep.py:440: UserWarning: Invalid value for VR UI: '2.16.124.113543.6006.99.02014122494016542874'. Please see <https://dicom.nema.org/medical/dicom/current/output/html/part05.html#table_6.2-1> for allowed values for each VR.\n",
      "  warn_and_log(msg)\n"
     ]
    },
    {
     "name": "stdout",
     "output_type": "stream",
     "text": [
      "Converted I1017840 to NIfTI at C:\\Users\\SAIFUL_BADHON\\Downloads\\fMRI\\output\\I1017840\n",
      "Skipping I1270155: NIfTI already exists.\n",
      "Converted I1303618 to NIfTI at C:\\Users\\SAIFUL_BADHON\\Downloads\\fMRI\\output\\I1303618\n",
      "Skipping I1249283: NIfTI already exists.\n",
      "Skipping I1083069: NIfTI already exists.\n",
      "Converted I1162385 to NIfTI at C:\\Users\\SAIFUL_BADHON\\Downloads\\fMRI\\output\\I1162385\n"
     ]
    },
    {
     "name": "stderr",
     "output_type": "stream",
     "text": [
      "C:\\Users\\SAIFUL_BADHON\\AppData\\Roaming\\Python\\Python312\\site-packages\\pydicom\\valuerep.py:440: UserWarning: Invalid value for VR UI: '2.16.124.113543.6006.99.08169907262276869061'. Please see <https://dicom.nema.org/medical/dicom/current/output/html/part05.html#table_6.2-1> for allowed values for each VR.\n",
      "  warn_and_log(msg)\n"
     ]
    },
    {
     "name": "stdout",
     "output_type": "stream",
     "text": [
      "Converted I1498586 to NIfTI at C:\\Users\\SAIFUL_BADHON\\Downloads\\fMRI\\output\\I1498586\n",
      "Converted I915003 to NIfTI at C:\\Users\\SAIFUL_BADHON\\Downloads\\fMRI\\output\\I915003\n",
      "Skipping I1226310: NIfTI already exists.\n"
     ]
    },
    {
     "name": "stderr",
     "output_type": "stream",
     "text": [
      "C:\\Users\\SAIFUL_BADHON\\AppData\\Roaming\\Python\\Python312\\site-packages\\pydicom\\valuerep.py:440: UserWarning: Invalid value for VR UI: '2.16.124.113543.6006.99.06447455778477874014'. Please see <https://dicom.nema.org/medical/dicom/current/output/html/part05.html#table_6.2-1> for allowed values for each VR.\n",
      "  warn_and_log(msg)\n"
     ]
    },
    {
     "name": "stdout",
     "output_type": "stream",
     "text": [
      "Converted I863647 to NIfTI at C:\\Users\\SAIFUL_BADHON\\Downloads\\fMRI\\output\\I863647\n",
      "Converted I1091965 to NIfTI at C:\\Users\\SAIFUL_BADHON\\Downloads\\fMRI\\output\\I1091965\n",
      "Skipping I1154574: NIfTI already exists.\n"
     ]
    },
    {
     "name": "stderr",
     "output_type": "stream",
     "text": [
      "C:\\Users\\SAIFUL_BADHON\\AppData\\Roaming\\Python\\Python312\\site-packages\\pydicom\\valuerep.py:440: UserWarning: Invalid value for VR UI: '2.16.124.113543.6006.99.08247251602692540444'. Please see <https://dicom.nema.org/medical/dicom/current/output/html/part05.html#table_6.2-1> for allowed values for each VR.\n",
      "  warn_and_log(msg)\n"
     ]
    },
    {
     "name": "stdout",
     "output_type": "stream",
     "text": [
      "Converted I863255 to NIfTI at C:\\Users\\SAIFUL_BADHON\\Downloads\\fMRI\\output\\I863255\n"
     ]
    },
    {
     "name": "stderr",
     "output_type": "stream",
     "text": [
      "C:\\Users\\SAIFUL_BADHON\\AppData\\Roaming\\Python\\Python312\\site-packages\\pydicom\\valuerep.py:440: UserWarning: Invalid value for VR UI: '2.16.124.113543.6006.99.0709812769088856581'. Please see <https://dicom.nema.org/medical/dicom/current/output/html/part05.html#table_6.2-1> for allowed values for each VR.\n",
      "  warn_and_log(msg)\n"
     ]
    },
    {
     "name": "stdout",
     "output_type": "stream",
     "text": [
      "Converted I1477580 to NIfTI at C:\\Users\\SAIFUL_BADHON\\Downloads\\fMRI\\output\\I1477580\n"
     ]
    },
    {
     "name": "stderr",
     "output_type": "stream",
     "text": [
      "C:\\Users\\SAIFUL_BADHON\\AppData\\Roaming\\Python\\Python312\\site-packages\\pydicom\\valuerep.py:440: UserWarning: Invalid value for VR UI: '2.16.124.113543.6006.99.0133502637182998508'. Please see <https://dicom.nema.org/medical/dicom/current/output/html/part05.html#table_6.2-1> for allowed values for each VR.\n",
      "  warn_and_log(msg)\n"
     ]
    },
    {
     "name": "stdout",
     "output_type": "stream",
     "text": [
      "Converted I1255148 to NIfTI at C:\\Users\\SAIFUL_BADHON\\Downloads\\fMRI\\output\\I1255148\n",
      "Converted I1513717 to NIfTI at C:\\Users\\SAIFUL_BADHON\\Downloads\\fMRI\\output\\I1513717\n",
      "Converted I912451 to NIfTI at C:\\Users\\SAIFUL_BADHON\\Downloads\\fMRI\\output\\I912451\n"
     ]
    },
    {
     "name": "stderr",
     "output_type": "stream",
     "text": [
      "C:\\Users\\SAIFUL_BADHON\\AppData\\Roaming\\Python\\Python312\\site-packages\\pydicom\\valuerep.py:440: UserWarning: Invalid value for VR UI: '2.16.124.113543.6006.99.01329628036543184179'. Please see <https://dicom.nema.org/medical/dicom/current/output/html/part05.html#table_6.2-1> for allowed values for each VR.\n",
      "  warn_and_log(msg)\n"
     ]
    },
    {
     "name": "stdout",
     "output_type": "stream",
     "text": [
      "Converted I1511203 to NIfTI at C:\\Users\\SAIFUL_BADHON\\Downloads\\fMRI\\output\\I1511203\n"
     ]
    },
    {
     "name": "stderr",
     "output_type": "stream",
     "text": [
      "C:\\Users\\SAIFUL_BADHON\\AppData\\Roaming\\Python\\Python312\\site-packages\\pydicom\\valuerep.py:440: UserWarning: Invalid value for VR UI: '2.16.124.113543.6006.99.0175038575617130587'. Please see <https://dicom.nema.org/medical/dicom/current/output/html/part05.html#table_6.2-1> for allowed values for each VR.\n",
      "  warn_and_log(msg)\n"
     ]
    },
    {
     "name": "stdout",
     "output_type": "stream",
     "text": [
      "Converted I973282 to NIfTI at C:\\Users\\SAIFUL_BADHON\\Downloads\\fMRI\\output\\I973282\n",
      "Converted I1582534 to NIfTI at C:\\Users\\SAIFUL_BADHON\\Downloads\\fMRI\\output\\I1582534\n",
      "Converted I974342 to NIfTI at C:\\Users\\SAIFUL_BADHON\\Downloads\\fMRI\\output\\I974342\n",
      "Converted I1160994 to NIfTI at C:\\Users\\SAIFUL_BADHON\\Downloads\\fMRI\\output\\I1160994\n",
      "Skipping I1574960: NIfTI already exists.\n",
      "Skipping I977353: NIfTI already exists.\n",
      "Converted I1185114 to NIfTI at C:\\Users\\SAIFUL_BADHON\\Downloads\\fMRI\\output\\I1185114\n",
      "Converted I1205683 to NIfTI at C:\\Users\\SAIFUL_BADHON\\Downloads\\fMRI\\output\\I1205683\n",
      "Converted I1016027 to NIfTI at C:\\Users\\SAIFUL_BADHON\\Downloads\\fMRI\\output\\I1016027\n"
     ]
    },
    {
     "name": "stderr",
     "output_type": "stream",
     "text": [
      "C:\\Users\\SAIFUL_BADHON\\AppData\\Roaming\\Python\\Python312\\site-packages\\pydicom\\valuerep.py:440: UserWarning: Invalid value for VR UI: '2.16.124.113543.6006.99.03252501860549712360'. Please see <https://dicom.nema.org/medical/dicom/current/output/html/part05.html#table_6.2-1> for allowed values for each VR.\n",
      "  warn_and_log(msg)\n"
     ]
    },
    {
     "name": "stdout",
     "output_type": "stream",
     "text": [
      "Converted I1246024 to NIfTI at C:\\Users\\SAIFUL_BADHON\\Downloads\\fMRI\\output\\I1246024\n"
     ]
    },
    {
     "name": "stderr",
     "output_type": "stream",
     "text": [
      "C:\\Users\\SAIFUL_BADHON\\AppData\\Roaming\\Python\\Python312\\site-packages\\pydicom\\valuerep.py:440: UserWarning: Invalid value for VR UI: '2.16.124.113543.6006.99.0969777478979072991'. Please see <https://dicom.nema.org/medical/dicom/current/output/html/part05.html#table_6.2-1> for allowed values for each VR.\n",
      "  warn_and_log(msg)\n"
     ]
    },
    {
     "name": "stdout",
     "output_type": "stream",
     "text": [
      "Converted I1273715 to NIfTI at C:\\Users\\SAIFUL_BADHON\\Downloads\\fMRI\\output\\I1273715\n",
      "Converted I1083055 to NIfTI at C:\\Users\\SAIFUL_BADHON\\Downloads\\fMRI\\output\\I1083055\n"
     ]
    },
    {
     "name": "stderr",
     "output_type": "stream",
     "text": [
      "C:\\Users\\SAIFUL_BADHON\\AppData\\Roaming\\Python\\Python312\\site-packages\\pydicom\\valuerep.py:440: UserWarning: Invalid value for VR UI: '2.16.124.113543.6006.99.06520070782097585780'. Please see <https://dicom.nema.org/medical/dicom/current/output/html/part05.html#table_6.2-1> for allowed values for each VR.\n",
      "  warn_and_log(msg)\n"
     ]
    },
    {
     "name": "stdout",
     "output_type": "stream",
     "text": [
      "Converted I1423377 to NIfTI at C:\\Users\\SAIFUL_BADHON\\Downloads\\fMRI\\output\\I1423377\n",
      "Converted I1448656 to NIfTI at C:\\Users\\SAIFUL_BADHON\\Downloads\\fMRI\\output\\I1448656\n"
     ]
    },
    {
     "name": "stderr",
     "output_type": "stream",
     "text": [
      "C:\\Users\\SAIFUL_BADHON\\AppData\\Roaming\\Python\\Python312\\site-packages\\pydicom\\valuerep.py:440: UserWarning: Invalid value for VR UI: '2.16.124.113543.6006.99.06060769002800932217'. Please see <https://dicom.nema.org/medical/dicom/current/output/html/part05.html#table_6.2-1> for allowed values for each VR.\n",
      "  warn_and_log(msg)\n"
     ]
    },
    {
     "name": "stdout",
     "output_type": "stream",
     "text": [
      "Converted I1456318 to NIfTI at C:\\Users\\SAIFUL_BADHON\\Downloads\\fMRI\\output\\I1456318\n",
      "Converted I1483873 to NIfTI at C:\\Users\\SAIFUL_BADHON\\Downloads\\fMRI\\output\\I1483873\n",
      "Converted I1495821 to NIfTI at C:\\Users\\SAIFUL_BADHON\\Downloads\\fMRI\\output\\I1495821\n",
      "Skipping I925142: NIfTI already exists.\n"
     ]
    },
    {
     "name": "stderr",
     "output_type": "stream",
     "text": [
      "C:\\Users\\SAIFUL_BADHON\\AppData\\Roaming\\Python\\Python312\\site-packages\\pydicom\\valuerep.py:440: UserWarning: Invalid value for VR UI: '2.16.124.113543.6006.99.09127897116218555666'. Please see <https://dicom.nema.org/medical/dicom/current/output/html/part05.html#table_6.2-1> for allowed values for each VR.\n",
      "  warn_and_log(msg)\n"
     ]
    },
    {
     "name": "stdout",
     "output_type": "stream",
     "text": [
      "Converted I907428 to NIfTI at C:\\Users\\SAIFUL_BADHON\\Downloads\\fMRI\\output\\I907428\n",
      "Converted I915207 to NIfTI at C:\\Users\\SAIFUL_BADHON\\Downloads\\fMRI\\output\\I915207\n",
      "Skipping I1630991: NIfTI already exists.\n"
     ]
    },
    {
     "name": "stderr",
     "output_type": "stream",
     "text": [
      "C:\\Users\\SAIFUL_BADHON\\AppData\\Roaming\\Python\\Python312\\site-packages\\pydicom\\valuerep.py:440: UserWarning: Invalid value for VR UI: '2.16.124.113543.6006.99.04312310865366130470'. Please see <https://dicom.nema.org/medical/dicom/current/output/html/part05.html#table_6.2-1> for allowed values for each VR.\n",
      "  warn_and_log(msg)\n",
      "Traceback (most recent call last):\n",
      "  File \"C:\\Users\\SAIFUL_BADHON\\AppData\\Roaming\\Python\\Python312\\site-packages\\dicom2nifti\\convert_philips.py\", line 348, in _singleframe_to_block\n",
      "    full_block = numpy.concatenate(data_blocks, axis=3)\n",
      "                 ^^^^^^^^^^^^^^^^^^^^^^^^^^^^^^^^^^^^^^\n",
      "ValueError: all the input array dimensions except for the concatenation axis must match exactly, but along dimension 2, the array at index 0 has size 27 and the array at index 169 has size 26\n",
      "Traceback (most recent call last):\n",
      "  File \"C:\\Users\\SAIFUL_BADHON\\AppData\\Roaming\\Python\\Python312\\site-packages\\dicom2nifti\\convert_philips.py\", line 348, in _singleframe_to_block\n",
      "    full_block = numpy.concatenate(data_blocks, axis=3)\n",
      "                 ^^^^^^^^^^^^^^^^^^^^^^^^^^^^^^^^^^^^^^\n",
      "ValueError: all the input array dimensions except for the concatenation axis must match exactly, but along dimension 2, the array at index 0 has size 27 and the array at index 169 has size 26\n",
      "\n",
      "During handling of the above exception, another exception occurred:\n",
      "\n",
      "Traceback (most recent call last):\n",
      "  File \"C:\\Users\\SAIFUL_BADHON\\AppData\\Roaming\\Python\\Python312\\site-packages\\dicom2nifti\\convert_dir.py\", line 86, in convert_directory\n",
      "    convert_dicom.dicom_array_to_nifti(dicom_input, nifti_file, reorient)\n",
      "  File \"C:\\Users\\SAIFUL_BADHON\\AppData\\Roaming\\Python\\Python312\\site-packages\\dicom2nifti\\convert_dicom.py\", line 125, in dicom_array_to_nifti\n",
      "    results = convert_philips.dicom_to_nifti(dicom_list, output_file)\n",
      "              ^^^^^^^^^^^^^^^^^^^^^^^^^^^^^^^^^^^^^^^^^^^^^^^^^^^^^^^\n",
      "  File \"C:\\Users\\SAIFUL_BADHON\\AppData\\Roaming\\Python\\Python312\\site-packages\\dicom2nifti\\convert_philips.py\", line 66, in dicom_to_nifti\n",
      "    return _singleframe_to_nifti(grouped_dicoms, output_file)\n",
      "           ^^^^^^^^^^^^^^^^^^^^^^^^^^^^^^^^^^^^^^^^^^^^^^^^^^\n",
      "  File \"C:\\Users\\SAIFUL_BADHON\\AppData\\Roaming\\Python\\Python312\\site-packages\\dicom2nifti\\convert_philips.py\", line 284, in _singleframe_to_nifti\n",
      "    full_block = _singleframe_to_block(grouped_dicoms)\n",
      "                 ^^^^^^^^^^^^^^^^^^^^^^^^^^^^^^^^^^^^^\n",
      "  File \"C:\\Users\\SAIFUL_BADHON\\AppData\\Roaming\\Python\\Python312\\site-packages\\dicom2nifti\\convert_philips.py\", line 351, in _singleframe_to_block\n",
      "    raise ConversionError(\"MISSING_DICOM_FILES\")\n",
      "dicom2nifti.exceptions.ConversionError: MISSING_DICOM_FILES\n"
     ]
    },
    {
     "name": "stdout",
     "output_type": "stream",
     "text": [
      "Converted I1058017 to NIfTI at C:\\Users\\SAIFUL_BADHON\\Downloads\\fMRI\\output\\I1058017\n",
      "Converted I1236714 to NIfTI at C:\\Users\\SAIFUL_BADHON\\Downloads\\fMRI\\output\\I1236714\n",
      "Converted I249406 to NIfTI at C:\\Users\\SAIFUL_BADHON\\Downloads\\fMRI\\output\\I249406\n",
      "Converted I249407 to NIfTI at C:\\Users\\SAIFUL_BADHON\\Downloads\\fMRI\\output\\I249407\n"
     ]
    },
    {
     "name": "stderr",
     "output_type": "stream",
     "text": [
      "C:\\Users\\SAIFUL_BADHON\\AppData\\Roaming\\Python\\Python312\\site-packages\\pydicom\\valuerep.py:440: UserWarning: Invalid value for VR UI: '2.16.124.113543.6006.99.0253729392414777115'. Please see <https://dicom.nema.org/medical/dicom/current/output/html/part05.html#table_6.2-1> for allowed values for each VR.\n",
      "  warn_and_log(msg)\n"
     ]
    },
    {
     "name": "stdout",
     "output_type": "stream",
     "text": [
      "Converted I265125 to NIfTI at C:\\Users\\SAIFUL_BADHON\\Downloads\\fMRI\\output\\I265125\n"
     ]
    },
    {
     "name": "stderr",
     "output_type": "stream",
     "text": [
      "C:\\Users\\SAIFUL_BADHON\\AppData\\Roaming\\Python\\Python312\\site-packages\\pydicom\\valuerep.py:440: UserWarning: Invalid value for VR UI: '2.16.124.113543.6006.99.03360611637596313332'. Please see <https://dicom.nema.org/medical/dicom/current/output/html/part05.html#table_6.2-1> for allowed values for each VR.\n",
      "  warn_and_log(msg)\n"
     ]
    },
    {
     "name": "stdout",
     "output_type": "stream",
     "text": [
      "Converted I265132 to NIfTI at C:\\Users\\SAIFUL_BADHON\\Downloads\\fMRI\\output\\I265132\n",
      "Converted I348071 to NIfTI at C:\\Users\\SAIFUL_BADHON\\Downloads\\fMRI\\output\\I348071\n",
      "Skipping I964844: NIfTI already exists.\n",
      "Converted I574353 to NIfTI at C:\\Users\\SAIFUL_BADHON\\Downloads\\fMRI\\output\\I574353\n",
      "Converted I268914 to NIfTI at C:\\Users\\SAIFUL_BADHON\\Downloads\\fMRI\\output\\I268914\n"
     ]
    },
    {
     "name": "stderr",
     "output_type": "stream",
     "text": [
      "C:\\Users\\SAIFUL_BADHON\\AppData\\Roaming\\Python\\Python312\\site-packages\\pydicom\\valuerep.py:440: UserWarning: Invalid value for VR UI: '2.16.124.113543.6006.99.03129770253794121806'. Please see <https://dicom.nema.org/medical/dicom/current/output/html/part05.html#table_6.2-1> for allowed values for each VR.\n",
      "  warn_and_log(msg)\n"
     ]
    },
    {
     "name": "stdout",
     "output_type": "stream",
     "text": [
      "Converted I268917 to NIfTI at C:\\Users\\SAIFUL_BADHON\\Downloads\\fMRI\\output\\I268917\n",
      "Skipping I286461: NIfTI already exists.\n",
      "Converted I286464 to NIfTI at C:\\Users\\SAIFUL_BADHON\\Downloads\\fMRI\\output\\I286464\n",
      "Skipping I311258: NIfTI already exists.\n",
      "Converted I405706 to NIfTI at C:\\Users\\SAIFUL_BADHON\\Downloads\\fMRI\\output\\I405706\n"
     ]
    },
    {
     "name": "stderr",
     "output_type": "stream",
     "text": [
      "Traceback (most recent call last):\n",
      "  File \"C:\\Users\\SAIFUL_BADHON\\AppData\\Roaming\\Python\\Python312\\site-packages\\dicom2nifti\\convert_philips.py\", line 348, in _singleframe_to_block\n",
      "    full_block = numpy.concatenate(data_blocks, axis=3)\n",
      "                 ^^^^^^^^^^^^^^^^^^^^^^^^^^^^^^^^^^^^^^\n",
      "ValueError: all the input array dimensions except for the concatenation axis must match exactly, but along dimension 2, the array at index 0 has size 48 and the array at index 98 has size 47\n",
      "Traceback (most recent call last):\n",
      "  File \"C:\\Users\\SAIFUL_BADHON\\AppData\\Roaming\\Python\\Python312\\site-packages\\dicom2nifti\\convert_philips.py\", line 348, in _singleframe_to_block\n",
      "    full_block = numpy.concatenate(data_blocks, axis=3)\n",
      "                 ^^^^^^^^^^^^^^^^^^^^^^^^^^^^^^^^^^^^^^\n",
      "ValueError: all the input array dimensions except for the concatenation axis must match exactly, but along dimension 2, the array at index 0 has size 48 and the array at index 98 has size 47\n",
      "\n",
      "During handling of the above exception, another exception occurred:\n",
      "\n",
      "Traceback (most recent call last):\n",
      "  File \"C:\\Users\\SAIFUL_BADHON\\AppData\\Roaming\\Python\\Python312\\site-packages\\dicom2nifti\\convert_dir.py\", line 86, in convert_directory\n",
      "    convert_dicom.dicom_array_to_nifti(dicom_input, nifti_file, reorient)\n",
      "  File \"C:\\Users\\SAIFUL_BADHON\\AppData\\Roaming\\Python\\Python312\\site-packages\\dicom2nifti\\convert_dicom.py\", line 125, in dicom_array_to_nifti\n",
      "    results = convert_philips.dicom_to_nifti(dicom_list, output_file)\n",
      "              ^^^^^^^^^^^^^^^^^^^^^^^^^^^^^^^^^^^^^^^^^^^^^^^^^^^^^^^\n",
      "  File \"C:\\Users\\SAIFUL_BADHON\\AppData\\Roaming\\Python\\Python312\\site-packages\\dicom2nifti\\convert_philips.py\", line 66, in dicom_to_nifti\n",
      "    return _singleframe_to_nifti(grouped_dicoms, output_file)\n",
      "           ^^^^^^^^^^^^^^^^^^^^^^^^^^^^^^^^^^^^^^^^^^^^^^^^^^\n",
      "  File \"C:\\Users\\SAIFUL_BADHON\\AppData\\Roaming\\Python\\Python312\\site-packages\\dicom2nifti\\convert_philips.py\", line 284, in _singleframe_to_nifti\n",
      "    full_block = _singleframe_to_block(grouped_dicoms)\n",
      "                 ^^^^^^^^^^^^^^^^^^^^^^^^^^^^^^^^^^^^^\n",
      "  File \"C:\\Users\\SAIFUL_BADHON\\AppData\\Roaming\\Python\\Python312\\site-packages\\dicom2nifti\\convert_philips.py\", line 351, in _singleframe_to_block\n",
      "    raise ConversionError(\"MISSING_DICOM_FILES\")\n",
      "dicom2nifti.exceptions.ConversionError: MISSING_DICOM_FILES\n"
     ]
    },
    {
     "name": "stdout",
     "output_type": "stream",
     "text": [
      "Converted I269253 to NIfTI at C:\\Users\\SAIFUL_BADHON\\Downloads\\fMRI\\output\\I269253\n",
      "Converted I269256 to NIfTI at C:\\Users\\SAIFUL_BADHON\\Downloads\\fMRI\\output\\I269256\n"
     ]
    },
    {
     "name": "stderr",
     "output_type": "stream",
     "text": [
      "Traceback (most recent call last):\n",
      "  File \"C:\\Users\\SAIFUL_BADHON\\AppData\\Roaming\\Python\\Python312\\site-packages\\dicom2nifti\\convert_philips.py\", line 348, in _singleframe_to_block\n",
      "    full_block = numpy.concatenate(data_blocks, axis=3)\n",
      "                 ^^^^^^^^^^^^^^^^^^^^^^^^^^^^^^^^^^^^^^\n",
      "ValueError: all the input array dimensions except for the concatenation axis must match exactly, but along dimension 2, the array at index 0 has size 48 and the array at index 73 has size 47\n",
      "Traceback (most recent call last):\n",
      "  File \"C:\\Users\\SAIFUL_BADHON\\AppData\\Roaming\\Python\\Python312\\site-packages\\dicom2nifti\\convert_philips.py\", line 348, in _singleframe_to_block\n",
      "    full_block = numpy.concatenate(data_blocks, axis=3)\n",
      "                 ^^^^^^^^^^^^^^^^^^^^^^^^^^^^^^^^^^^^^^\n",
      "ValueError: all the input array dimensions except for the concatenation axis must match exactly, but along dimension 2, the array at index 0 has size 48 and the array at index 73 has size 47\n",
      "\n",
      "During handling of the above exception, another exception occurred:\n",
      "\n",
      "Traceback (most recent call last):\n",
      "  File \"C:\\Users\\SAIFUL_BADHON\\AppData\\Roaming\\Python\\Python312\\site-packages\\dicom2nifti\\convert_dir.py\", line 86, in convert_directory\n",
      "    convert_dicom.dicom_array_to_nifti(dicom_input, nifti_file, reorient)\n",
      "  File \"C:\\Users\\SAIFUL_BADHON\\AppData\\Roaming\\Python\\Python312\\site-packages\\dicom2nifti\\convert_dicom.py\", line 125, in dicom_array_to_nifti\n",
      "    results = convert_philips.dicom_to_nifti(dicom_list, output_file)\n",
      "              ^^^^^^^^^^^^^^^^^^^^^^^^^^^^^^^^^^^^^^^^^^^^^^^^^^^^^^^\n",
      "  File \"C:\\Users\\SAIFUL_BADHON\\AppData\\Roaming\\Python\\Python312\\site-packages\\dicom2nifti\\convert_philips.py\", line 66, in dicom_to_nifti\n",
      "    return _singleframe_to_nifti(grouped_dicoms, output_file)\n",
      "           ^^^^^^^^^^^^^^^^^^^^^^^^^^^^^^^^^^^^^^^^^^^^^^^^^^\n",
      "  File \"C:\\Users\\SAIFUL_BADHON\\AppData\\Roaming\\Python\\Python312\\site-packages\\dicom2nifti\\convert_philips.py\", line 284, in _singleframe_to_nifti\n",
      "    full_block = _singleframe_to_block(grouped_dicoms)\n",
      "                 ^^^^^^^^^^^^^^^^^^^^^^^^^^^^^^^^^^^^^\n",
      "  File \"C:\\Users\\SAIFUL_BADHON\\AppData\\Roaming\\Python\\Python312\\site-packages\\dicom2nifti\\convert_philips.py\", line 351, in _singleframe_to_block\n",
      "    raise ConversionError(\"MISSING_DICOM_FILES\")\n",
      "dicom2nifti.exceptions.ConversionError: MISSING_DICOM_FILES\n"
     ]
    },
    {
     "name": "stdout",
     "output_type": "stream",
     "text": [
      "Converted I286378 to NIfTI at C:\\Users\\SAIFUL_BADHON\\Downloads\\fMRI\\output\\I286378\n",
      "Converted I351592 to NIfTI at C:\\Users\\SAIFUL_BADHON\\Downloads\\fMRI\\output\\I351592\n",
      "Converted I279472 to NIfTI at C:\\Users\\SAIFUL_BADHON\\Downloads\\fMRI\\output\\I279472\n"
     ]
    },
    {
     "name": "stderr",
     "output_type": "stream",
     "text": [
      "C:\\Users\\SAIFUL_BADHON\\AppData\\Roaming\\Python\\Python312\\site-packages\\pydicom\\valuerep.py:440: UserWarning: Invalid value for VR UI: '2.16.124.113543.6006.99.04047485920825592674'. Please see <https://dicom.nema.org/medical/dicom/current/output/html/part05.html#table_6.2-1> for allowed values for each VR.\n",
      "  warn_and_log(msg)\n"
     ]
    },
    {
     "name": "stdout",
     "output_type": "stream",
     "text": [
      "Converted I298510 to NIfTI at C:\\Users\\SAIFUL_BADHON\\Downloads\\fMRI\\output\\I298510\n"
     ]
    },
    {
     "name": "stderr",
     "output_type": "stream",
     "text": [
      "C:\\Users\\SAIFUL_BADHON\\AppData\\Roaming\\Python\\Python312\\site-packages\\pydicom\\valuerep.py:440: UserWarning: Invalid value for VR UI: '2.16.124.113543.6006.99.02936361566242624688'. Please see <https://dicom.nema.org/medical/dicom/current/output/html/part05.html#table_6.2-1> for allowed values for each VR.\n",
      "  warn_and_log(msg)\n"
     ]
    },
    {
     "name": "stdout",
     "output_type": "stream",
     "text": [
      "Converted I319632 to NIfTI at C:\\Users\\SAIFUL_BADHON\\Downloads\\fMRI\\output\\I319632\n",
      "Skipping I281881: NIfTI already exists.\n",
      "Converted I281887 to NIfTI at C:\\Users\\SAIFUL_BADHON\\Downloads\\fMRI\\output\\I281887\n"
     ]
    },
    {
     "name": "stderr",
     "output_type": "stream",
     "text": [
      "C:\\Users\\SAIFUL_BADHON\\AppData\\Roaming\\Python\\Python312\\site-packages\\pydicom\\valuerep.py:440: UserWarning: Invalid value for VR UI: '2.16.124.113543.6006.99.0815862333007739272'. Please see <https://dicom.nema.org/medical/dicom/current/output/html/part05.html#table_6.2-1> for allowed values for each VR.\n",
      "  warn_and_log(msg)\n"
     ]
    },
    {
     "name": "stdout",
     "output_type": "stream",
     "text": [
      "Converted I303081 to NIfTI at C:\\Users\\SAIFUL_BADHON\\Downloads\\fMRI\\output\\I303081\n"
     ]
    },
    {
     "name": "stderr",
     "output_type": "stream",
     "text": [
      "C:\\Users\\SAIFUL_BADHON\\AppData\\Roaming\\Python\\Python312\\site-packages\\pydicom\\valuerep.py:440: UserWarning: Invalid value for VR UI: '2.16.124.113543.6006.99.06579669008018017100'. Please see <https://dicom.nema.org/medical/dicom/current/output/html/part05.html#table_6.2-1> for allowed values for each VR.\n",
      "  warn_and_log(msg)\n"
     ]
    },
    {
     "name": "stdout",
     "output_type": "stream",
     "text": [
      "Converted I303083 to NIfTI at C:\\Users\\SAIFUL_BADHON\\Downloads\\fMRI\\output\\I303083\n"
     ]
    },
    {
     "name": "stderr",
     "output_type": "stream",
     "text": [
      "C:\\Users\\SAIFUL_BADHON\\AppData\\Roaming\\Python\\Python312\\site-packages\\pydicom\\valuerep.py:440: UserWarning: Invalid value for VR UI: '2.16.124.113543.6006.99.09151445089720285078'. Please see <https://dicom.nema.org/medical/dicom/current/output/html/part05.html#table_6.2-1> for allowed values for each VR.\n",
      "  warn_and_log(msg)\n"
     ]
    },
    {
     "name": "stdout",
     "output_type": "stream",
     "text": [
      "Converted I326298 to NIfTI at C:\\Users\\SAIFUL_BADHON\\Downloads\\fMRI\\output\\I326298\n",
      "Converted I326301 to NIfTI at C:\\Users\\SAIFUL_BADHON\\Downloads\\fMRI\\output\\I326301\n",
      "Converted I283264 to NIfTI at C:\\Users\\SAIFUL_BADHON\\Downloads\\fMRI\\output\\I283264\n",
      "Converted I283267 to NIfTI at C:\\Users\\SAIFUL_BADHON\\Downloads\\fMRI\\output\\I283267\n"
     ]
    },
    {
     "name": "stderr",
     "output_type": "stream",
     "text": [
      "C:\\Users\\SAIFUL_BADHON\\AppData\\Roaming\\Python\\Python312\\site-packages\\pydicom\\valuerep.py:440: UserWarning: Invalid value for VR UI: '2.16.124.113543.6006.99.06729537171151096545'. Please see <https://dicom.nema.org/medical/dicom/current/output/html/part05.html#table_6.2-1> for allowed values for each VR.\n",
      "  warn_and_log(msg)\n"
     ]
    },
    {
     "name": "stdout",
     "output_type": "stream",
     "text": [
      "Converted I303143 to NIfTI at C:\\Users\\SAIFUL_BADHON\\Downloads\\fMRI\\output\\I303143\n"
     ]
    },
    {
     "name": "stderr",
     "output_type": "stream",
     "text": [
      "C:\\Users\\SAIFUL_BADHON\\AppData\\Roaming\\Python\\Python312\\site-packages\\pydicom\\valuerep.py:440: UserWarning: Invalid value for VR UI: '2.16.124.113543.6006.99.01223463117416190815'. Please see <https://dicom.nema.org/medical/dicom/current/output/html/part05.html#table_6.2-1> for allowed values for each VR.\n",
      "  warn_and_log(msg)\n"
     ]
    },
    {
     "name": "stdout",
     "output_type": "stream",
     "text": [
      "Converted I363293 to NIfTI at C:\\Users\\SAIFUL_BADHON\\Downloads\\fMRI\\output\\I363293\n",
      "Converted I287986 to NIfTI at C:\\Users\\SAIFUL_BADHON\\Downloads\\fMRI\\output\\I287986\n"
     ]
    },
    {
     "name": "stderr",
     "output_type": "stream",
     "text": [
      "C:\\Users\\SAIFUL_BADHON\\AppData\\Roaming\\Python\\Python312\\site-packages\\pydicom\\valuerep.py:440: UserWarning: Invalid value for VR UI: '2.16.124.113543.6006.99.06850058693575732117'. Please see <https://dicom.nema.org/medical/dicom/current/output/html/part05.html#table_6.2-1> for allowed values for each VR.\n",
      "  warn_and_log(msg)\n"
     ]
    },
    {
     "name": "stdout",
     "output_type": "stream",
     "text": [
      "Converted I310925 to NIfTI at C:\\Users\\SAIFUL_BADHON\\Downloads\\fMRI\\output\\I310925\n"
     ]
    },
    {
     "name": "stderr",
     "output_type": "stream",
     "text": [
      "C:\\Users\\SAIFUL_BADHON\\AppData\\Roaming\\Python\\Python312\\site-packages\\pydicom\\valuerep.py:440: UserWarning: Invalid value for VR UI: '2.16.124.113543.6006.99.0165794609870387917'. Please see <https://dicom.nema.org/medical/dicom/current/output/html/part05.html#table_6.2-1> for allowed values for each VR.\n",
      "  warn_and_log(msg)\n"
     ]
    },
    {
     "name": "stdout",
     "output_type": "stream",
     "text": [
      "Converted I310931 to NIfTI at C:\\Users\\SAIFUL_BADHON\\Downloads\\fMRI\\output\\I310931\n",
      "Skipping I336551: NIfTI already exists.\n",
      "Converted I336552 to NIfTI at C:\\Users\\SAIFUL_BADHON\\Downloads\\fMRI\\output\\I336552\n",
      "Skipping I433042: NIfTI already exists.\n"
     ]
    },
    {
     "name": "stderr",
     "output_type": "stream",
     "text": [
      "C:\\Users\\SAIFUL_BADHON\\AppData\\Roaming\\Python\\Python312\\site-packages\\pydicom\\valuerep.py:440: UserWarning: Invalid value for VR UI: '2.16.124.113543.6006.99.08995666819742533871'. Please see <https://dicom.nema.org/medical/dicom/current/output/html/part05.html#table_6.2-1> for allowed values for each VR.\n",
      "  warn_and_log(msg)\n"
     ]
    },
    {
     "name": "stdout",
     "output_type": "stream",
     "text": [
      "Converted I307553 to NIfTI at C:\\Users\\SAIFUL_BADHON\\Downloads\\fMRI\\output\\I307553\n",
      "Converted I350113 to NIfTI at C:\\Users\\SAIFUL_BADHON\\Downloads\\fMRI\\output\\I350113\n",
      "Skipping I350115: NIfTI already exists.\n",
      "Skipping I1483606: NIfTI already exists.\n",
      "Converted I430122 to NIfTI at C:\\Users\\SAIFUL_BADHON\\Downloads\\fMRI\\output\\I430122\n",
      "Converted I722885 to NIfTI at C:\\Users\\SAIFUL_BADHON\\Downloads\\fMRI\\output\\I722885\n",
      "Converted I303731 to NIfTI at C:\\Users\\SAIFUL_BADHON\\Downloads\\fMRI\\output\\I303731\n",
      "Converted I376286 to NIfTI at C:\\Users\\SAIFUL_BADHON\\Downloads\\fMRI\\output\\I376286\n",
      "Converted I322000 to NIfTI at C:\\Users\\SAIFUL_BADHON\\Downloads\\fMRI\\output\\I322000\n",
      "Converted I322009 to NIfTI at C:\\Users\\SAIFUL_BADHON\\Downloads\\fMRI\\output\\I322009\n",
      "Skipping I346359: NIfTI already exists.\n"
     ]
    },
    {
     "name": "stderr",
     "output_type": "stream",
     "text": [
      "C:\\Users\\SAIFUL_BADHON\\AppData\\Roaming\\Python\\Python312\\site-packages\\pydicom\\valuerep.py:440: UserWarning: Invalid value for VR UI: '2.16.124.113543.6006.99.02496040912903515767'. Please see <https://dicom.nema.org/medical/dicom/current/output/html/part05.html#table_6.2-1> for allowed values for each VR.\n",
      "  warn_and_log(msg)\n"
     ]
    },
    {
     "name": "stdout",
     "output_type": "stream",
     "text": [
      "Converted I362021 to NIfTI at C:\\Users\\SAIFUL_BADHON\\Downloads\\fMRI\\output\\I362021\n"
     ]
    },
    {
     "name": "stderr",
     "output_type": "stream",
     "text": [
      "C:\\Users\\SAIFUL_BADHON\\AppData\\Roaming\\Python\\Python312\\site-packages\\pydicom\\valuerep.py:440: UserWarning: Invalid value for VR UI: '2.16.124.113543.6006.99.028792892968676938'. Please see <https://dicom.nema.org/medical/dicom/current/output/html/part05.html#table_6.2-1> for allowed values for each VR.\n",
      "  warn_and_log(msg)\n"
     ]
    },
    {
     "name": "stdout",
     "output_type": "stream",
     "text": [
      "Converted I1003610 to NIfTI at C:\\Users\\SAIFUL_BADHON\\Downloads\\fMRI\\output\\I1003610\n",
      "Converted I354587 to NIfTI at C:\\Users\\SAIFUL_BADHON\\Downloads\\fMRI\\output\\I354587\n",
      "Skipping I397506: NIfTI already exists.\n"
     ]
    },
    {
     "name": "stderr",
     "output_type": "stream",
     "text": [
      "C:\\Users\\SAIFUL_BADHON\\AppData\\Roaming\\Python\\Python312\\site-packages\\pydicom\\valuerep.py:440: UserWarning: Invalid value for VR UI: '2.16.124.113543.6006.99.010908268797645926'. Please see <https://dicom.nema.org/medical/dicom/current/output/html/part05.html#table_6.2-1> for allowed values for each VR.\n",
      "  warn_and_log(msg)\n"
     ]
    },
    {
     "name": "stdout",
     "output_type": "stream",
     "text": [
      "Converted I505120 to NIfTI at C:\\Users\\SAIFUL_BADHON\\Downloads\\fMRI\\output\\I505120\n",
      "Converted I1133568 to NIfTI at C:\\Users\\SAIFUL_BADHON\\Downloads\\fMRI\\output\\I1133568\n"
     ]
    },
    {
     "name": "stderr",
     "output_type": "stream",
     "text": [
      "C:\\Users\\SAIFUL_BADHON\\AppData\\Roaming\\Python\\Python312\\site-packages\\pydicom\\valuerep.py:440: UserWarning: Invalid value for VR UI: '2.16.124.113543.6006.99.06140725318111166709'. Please see <https://dicom.nema.org/medical/dicom/current/output/html/part05.html#table_6.2-1> for allowed values for each VR.\n",
      "  warn_and_log(msg)\n"
     ]
    },
    {
     "name": "stdout",
     "output_type": "stream",
     "text": [
      "Converted I1301148 to NIfTI at C:\\Users\\SAIFUL_BADHON\\Downloads\\fMRI\\output\\I1301148\n"
     ]
    },
    {
     "name": "stderr",
     "output_type": "stream",
     "text": [
      "C:\\Users\\SAIFUL_BADHON\\AppData\\Roaming\\Python\\Python312\\site-packages\\pydicom\\valuerep.py:440: UserWarning: Invalid value for VR UI: '2.16.124.113543.6006.99.06618746941548721133'. Please see <https://dicom.nema.org/medical/dicom/current/output/html/part05.html#table_6.2-1> for allowed values for each VR.\n",
      "  warn_and_log(msg)\n"
     ]
    },
    {
     "name": "stdout",
     "output_type": "stream",
     "text": [
      "Converted I1483627 to NIfTI at C:\\Users\\SAIFUL_BADHON\\Downloads\\fMRI\\output\\I1483627\n",
      "Converted I1632975 to NIfTI at C:\\Users\\SAIFUL_BADHON\\Downloads\\fMRI\\output\\I1632975\n"
     ]
    },
    {
     "name": "stderr",
     "output_type": "stream",
     "text": [
      "C:\\Users\\SAIFUL_BADHON\\AppData\\Roaming\\Python\\Python312\\site-packages\\pydicom\\valuerep.py:440: UserWarning: Invalid value for VR UI: '2.16.124.113543.6006.99.03776893693403094704'. Please see <https://dicom.nema.org/medical/dicom/current/output/html/part05.html#table_6.2-1> for allowed values for each VR.\n",
      "  warn_and_log(msg)\n"
     ]
    },
    {
     "name": "stdout",
     "output_type": "stream",
     "text": [
      "Converted I969776 to NIfTI at C:\\Users\\SAIFUL_BADHON\\Downloads\\fMRI\\output\\I969776\n"
     ]
    },
    {
     "name": "stderr",
     "output_type": "stream",
     "text": [
      "Traceback (most recent call last):\n",
      "  File \"C:\\Users\\SAIFUL_BADHON\\AppData\\Roaming\\Python\\Python312\\site-packages\\dicom2nifti\\convert_philips.py\", line 348, in _singleframe_to_block\n",
      "    full_block = numpy.concatenate(data_blocks, axis=3)\n",
      "                 ^^^^^^^^^^^^^^^^^^^^^^^^^^^^^^^^^^^^^^\n",
      "ValueError: all the input array dimensions except for the concatenation axis must match exactly, but along dimension 2, the array at index 0 has size 48 and the array at index 196 has size 47\n",
      "Traceback (most recent call last):\n",
      "  File \"C:\\Users\\SAIFUL_BADHON\\AppData\\Roaming\\Python\\Python312\\site-packages\\dicom2nifti\\convert_philips.py\", line 348, in _singleframe_to_block\n",
      "    full_block = numpy.concatenate(data_blocks, axis=3)\n",
      "                 ^^^^^^^^^^^^^^^^^^^^^^^^^^^^^^^^^^^^^^\n",
      "ValueError: all the input array dimensions except for the concatenation axis must match exactly, but along dimension 2, the array at index 0 has size 48 and the array at index 196 has size 47\n",
      "\n",
      "During handling of the above exception, another exception occurred:\n",
      "\n",
      "Traceback (most recent call last):\n",
      "  File \"C:\\Users\\SAIFUL_BADHON\\AppData\\Roaming\\Python\\Python312\\site-packages\\dicom2nifti\\convert_dir.py\", line 86, in convert_directory\n",
      "    convert_dicom.dicom_array_to_nifti(dicom_input, nifti_file, reorient)\n",
      "  File \"C:\\Users\\SAIFUL_BADHON\\AppData\\Roaming\\Python\\Python312\\site-packages\\dicom2nifti\\convert_dicom.py\", line 125, in dicom_array_to_nifti\n",
      "    results = convert_philips.dicom_to_nifti(dicom_list, output_file)\n",
      "              ^^^^^^^^^^^^^^^^^^^^^^^^^^^^^^^^^^^^^^^^^^^^^^^^^^^^^^^\n",
      "  File \"C:\\Users\\SAIFUL_BADHON\\AppData\\Roaming\\Python\\Python312\\site-packages\\dicom2nifti\\convert_philips.py\", line 66, in dicom_to_nifti\n",
      "    return _singleframe_to_nifti(grouped_dicoms, output_file)\n",
      "           ^^^^^^^^^^^^^^^^^^^^^^^^^^^^^^^^^^^^^^^^^^^^^^^^^^\n",
      "  File \"C:\\Users\\SAIFUL_BADHON\\AppData\\Roaming\\Python\\Python312\\site-packages\\dicom2nifti\\convert_philips.py\", line 284, in _singleframe_to_nifti\n",
      "    full_block = _singleframe_to_block(grouped_dicoms)\n",
      "                 ^^^^^^^^^^^^^^^^^^^^^^^^^^^^^^^^^^^^^\n",
      "  File \"C:\\Users\\SAIFUL_BADHON\\AppData\\Roaming\\Python\\Python312\\site-packages\\dicom2nifti\\convert_philips.py\", line 351, in _singleframe_to_block\n",
      "    raise ConversionError(\"MISSING_DICOM_FILES\")\n",
      "dicom2nifti.exceptions.ConversionError: MISSING_DICOM_FILES\n"
     ]
    },
    {
     "name": "stdout",
     "output_type": "stream",
     "text": [
      "Converted I1158788 to NIfTI at C:\\Users\\SAIFUL_BADHON\\Downloads\\fMRI\\output\\I1158788\n",
      "Converted I1636866 to NIfTI at C:\\Users\\SAIFUL_BADHON\\Downloads\\fMRI\\output\\I1636866\n",
      "Skipping I1003403: NIfTI already exists.\n"
     ]
    },
    {
     "name": "stderr",
     "output_type": "stream",
     "text": [
      "Traceback (most recent call last):\n",
      "  File \"C:\\Users\\SAIFUL_BADHON\\AppData\\Roaming\\Python\\Python312\\site-packages\\dicom2nifti\\convert_philips.py\", line 348, in _singleframe_to_block\n",
      "    full_block = numpy.concatenate(data_blocks, axis=3)\n",
      "                 ^^^^^^^^^^^^^^^^^^^^^^^^^^^^^^^^^^^^^^\n",
      "ValueError: all the input array dimensions except for the concatenation axis must match exactly, but along dimension 2, the array at index 0 has size 46 and the array at index 44 has size 45\n",
      "Traceback (most recent call last):\n",
      "  File \"C:\\Users\\SAIFUL_BADHON\\AppData\\Roaming\\Python\\Python312\\site-packages\\dicom2nifti\\convert_philips.py\", line 348, in _singleframe_to_block\n",
      "    full_block = numpy.concatenate(data_blocks, axis=3)\n",
      "                 ^^^^^^^^^^^^^^^^^^^^^^^^^^^^^^^^^^^^^^\n",
      "ValueError: all the input array dimensions except for the concatenation axis must match exactly, but along dimension 2, the array at index 0 has size 46 and the array at index 44 has size 45\n",
      "\n",
      "During handling of the above exception, another exception occurred:\n",
      "\n",
      "Traceback (most recent call last):\n",
      "  File \"C:\\Users\\SAIFUL_BADHON\\AppData\\Roaming\\Python\\Python312\\site-packages\\dicom2nifti\\convert_dir.py\", line 86, in convert_directory\n",
      "    convert_dicom.dicom_array_to_nifti(dicom_input, nifti_file, reorient)\n",
      "  File \"C:\\Users\\SAIFUL_BADHON\\AppData\\Roaming\\Python\\Python312\\site-packages\\dicom2nifti\\convert_dicom.py\", line 125, in dicom_array_to_nifti\n",
      "    results = convert_philips.dicom_to_nifti(dicom_list, output_file)\n",
      "              ^^^^^^^^^^^^^^^^^^^^^^^^^^^^^^^^^^^^^^^^^^^^^^^^^^^^^^^\n",
      "  File \"C:\\Users\\SAIFUL_BADHON\\AppData\\Roaming\\Python\\Python312\\site-packages\\dicom2nifti\\convert_philips.py\", line 66, in dicom_to_nifti\n",
      "    return _singleframe_to_nifti(grouped_dicoms, output_file)\n",
      "           ^^^^^^^^^^^^^^^^^^^^^^^^^^^^^^^^^^^^^^^^^^^^^^^^^^\n",
      "  File \"C:\\Users\\SAIFUL_BADHON\\AppData\\Roaming\\Python\\Python312\\site-packages\\dicom2nifti\\convert_philips.py\", line 284, in _singleframe_to_nifti\n",
      "    full_block = _singleframe_to_block(grouped_dicoms)\n",
      "                 ^^^^^^^^^^^^^^^^^^^^^^^^^^^^^^^^^^^^^\n",
      "  File \"C:\\Users\\SAIFUL_BADHON\\AppData\\Roaming\\Python\\Python312\\site-packages\\dicom2nifti\\convert_philips.py\", line 351, in _singleframe_to_block\n",
      "    raise ConversionError(\"MISSING_DICOM_FILES\")\n",
      "dicom2nifti.exceptions.ConversionError: MISSING_DICOM_FILES\n"
     ]
    },
    {
     "name": "stdout",
     "output_type": "stream",
     "text": [
      "Converted I1028502 to NIfTI at C:\\Users\\SAIFUL_BADHON\\Downloads\\fMRI\\output\\I1028502\n"
     ]
    },
    {
     "name": "stderr",
     "output_type": "stream",
     "text": [
      "C:\\Users\\SAIFUL_BADHON\\AppData\\Roaming\\Python\\Python312\\site-packages\\pydicom\\valuerep.py:440: UserWarning: Invalid value for VR UI: '2.16.124.113543.6006.99.01482425627315947124'. Please see <https://dicom.nema.org/medical/dicom/current/output/html/part05.html#table_6.2-1> for allowed values for each VR.\n",
      "  warn_and_log(msg)\n"
     ]
    },
    {
     "name": "stdout",
     "output_type": "stream",
     "text": [
      "Converted I1560262 to NIfTI at C:\\Users\\SAIFUL_BADHON\\Downloads\\fMRI\\output\\I1560262\n"
     ]
    },
    {
     "name": "stderr",
     "output_type": "stream",
     "text": [
      "Traceback (most recent call last):\n",
      "  File \"C:\\Users\\SAIFUL_BADHON\\AppData\\Roaming\\Python\\Python312\\site-packages\\dicom2nifti\\convert_philips.py\", line 348, in _singleframe_to_block\n",
      "    full_block = numpy.concatenate(data_blocks, axis=3)\n",
      "                 ^^^^^^^^^^^^^^^^^^^^^^^^^^^^^^^^^^^^^^\n",
      "ValueError: all the input array dimensions except for the concatenation axis must match exactly, but along dimension 2, the array at index 0 has size 48 and the array at index 196 has size 47\n",
      "Traceback (most recent call last):\n",
      "  File \"C:\\Users\\SAIFUL_BADHON\\AppData\\Roaming\\Python\\Python312\\site-packages\\dicom2nifti\\convert_philips.py\", line 348, in _singleframe_to_block\n",
      "    full_block = numpy.concatenate(data_blocks, axis=3)\n",
      "                 ^^^^^^^^^^^^^^^^^^^^^^^^^^^^^^^^^^^^^^\n",
      "ValueError: all the input array dimensions except for the concatenation axis must match exactly, but along dimension 2, the array at index 0 has size 48 and the array at index 196 has size 47\n",
      "\n",
      "During handling of the above exception, another exception occurred:\n",
      "\n",
      "Traceback (most recent call last):\n",
      "  File \"C:\\Users\\SAIFUL_BADHON\\AppData\\Roaming\\Python\\Python312\\site-packages\\dicom2nifti\\convert_dir.py\", line 86, in convert_directory\n",
      "    convert_dicom.dicom_array_to_nifti(dicom_input, nifti_file, reorient)\n",
      "  File \"C:\\Users\\SAIFUL_BADHON\\AppData\\Roaming\\Python\\Python312\\site-packages\\dicom2nifti\\convert_dicom.py\", line 125, in dicom_array_to_nifti\n",
      "    results = convert_philips.dicom_to_nifti(dicom_list, output_file)\n",
      "              ^^^^^^^^^^^^^^^^^^^^^^^^^^^^^^^^^^^^^^^^^^^^^^^^^^^^^^^\n",
      "  File \"C:\\Users\\SAIFUL_BADHON\\AppData\\Roaming\\Python\\Python312\\site-packages\\dicom2nifti\\convert_philips.py\", line 66, in dicom_to_nifti\n",
      "    return _singleframe_to_nifti(grouped_dicoms, output_file)\n",
      "           ^^^^^^^^^^^^^^^^^^^^^^^^^^^^^^^^^^^^^^^^^^^^^^^^^^\n",
      "  File \"C:\\Users\\SAIFUL_BADHON\\AppData\\Roaming\\Python\\Python312\\site-packages\\dicom2nifti\\convert_philips.py\", line 284, in _singleframe_to_nifti\n",
      "    full_block = _singleframe_to_block(grouped_dicoms)\n",
      "                 ^^^^^^^^^^^^^^^^^^^^^^^^^^^^^^^^^^^^^\n",
      "  File \"C:\\Users\\SAIFUL_BADHON\\AppData\\Roaming\\Python\\Python312\\site-packages\\dicom2nifti\\convert_philips.py\", line 351, in _singleframe_to_block\n",
      "    raise ConversionError(\"MISSING_DICOM_FILES\")\n",
      "dicom2nifti.exceptions.ConversionError: MISSING_DICOM_FILES\n"
     ]
    },
    {
     "name": "stdout",
     "output_type": "stream",
     "text": [
      "Converted I1260257 to NIfTI at C:\\Users\\SAIFUL_BADHON\\Downloads\\fMRI\\output\\I1260257\n",
      "Skipping I1569338: NIfTI already exists.\n",
      "Converted I1575208 to NIfTI at C:\\Users\\SAIFUL_BADHON\\Downloads\\fMRI\\output\\I1575208\n",
      "Skipping I1131714: NIfTI already exists.\n"
     ]
    },
    {
     "name": "stderr",
     "output_type": "stream",
     "text": [
      "Traceback (most recent call last):\n",
      "  File \"C:\\Users\\SAIFUL_BADHON\\AppData\\Roaming\\Python\\Python312\\site-packages\\dicom2nifti\\convert_philips.py\", line 348, in _singleframe_to_block\n",
      "    full_block = numpy.concatenate(data_blocks, axis=3)\n",
      "                 ^^^^^^^^^^^^^^^^^^^^^^^^^^^^^^^^^^^^^^\n",
      "ValueError: all the input array dimensions except for the concatenation axis must match exactly, but along dimension 2, the array at index 0 has size 31 and the array at index 64 has size 30\n",
      "Traceback (most recent call last):\n",
      "  File \"C:\\Users\\SAIFUL_BADHON\\AppData\\Roaming\\Python\\Python312\\site-packages\\dicom2nifti\\convert_philips.py\", line 348, in _singleframe_to_block\n",
      "    full_block = numpy.concatenate(data_blocks, axis=3)\n",
      "                 ^^^^^^^^^^^^^^^^^^^^^^^^^^^^^^^^^^^^^^\n",
      "ValueError: all the input array dimensions except for the concatenation axis must match exactly, but along dimension 2, the array at index 0 has size 31 and the array at index 64 has size 30\n",
      "\n",
      "During handling of the above exception, another exception occurred:\n",
      "\n",
      "Traceback (most recent call last):\n",
      "  File \"C:\\Users\\SAIFUL_BADHON\\AppData\\Roaming\\Python\\Python312\\site-packages\\dicom2nifti\\convert_dir.py\", line 86, in convert_directory\n",
      "    convert_dicom.dicom_array_to_nifti(dicom_input, nifti_file, reorient)\n",
      "  File \"C:\\Users\\SAIFUL_BADHON\\AppData\\Roaming\\Python\\Python312\\site-packages\\dicom2nifti\\convert_dicom.py\", line 125, in dicom_array_to_nifti\n",
      "    results = convert_philips.dicom_to_nifti(dicom_list, output_file)\n",
      "              ^^^^^^^^^^^^^^^^^^^^^^^^^^^^^^^^^^^^^^^^^^^^^^^^^^^^^^^\n",
      "  File \"C:\\Users\\SAIFUL_BADHON\\AppData\\Roaming\\Python\\Python312\\site-packages\\dicom2nifti\\convert_philips.py\", line 66, in dicom_to_nifti\n",
      "    return _singleframe_to_nifti(grouped_dicoms, output_file)\n",
      "           ^^^^^^^^^^^^^^^^^^^^^^^^^^^^^^^^^^^^^^^^^^^^^^^^^^\n",
      "  File \"C:\\Users\\SAIFUL_BADHON\\AppData\\Roaming\\Python\\Python312\\site-packages\\dicom2nifti\\convert_philips.py\", line 284, in _singleframe_to_nifti\n",
      "    full_block = _singleframe_to_block(grouped_dicoms)\n",
      "                 ^^^^^^^^^^^^^^^^^^^^^^^^^^^^^^^^^^^^^\n",
      "  File \"C:\\Users\\SAIFUL_BADHON\\AppData\\Roaming\\Python\\Python312\\site-packages\\dicom2nifti\\convert_philips.py\", line 351, in _singleframe_to_block\n",
      "    raise ConversionError(\"MISSING_DICOM_FILES\")\n",
      "dicom2nifti.exceptions.ConversionError: MISSING_DICOM_FILES\n"
     ]
    },
    {
     "name": "stdout",
     "output_type": "stream",
     "text": [
      "Converted I1148835 to NIfTI at C:\\Users\\SAIFUL_BADHON\\Downloads\\fMRI\\output\\I1148835\n",
      "Skipping I1557341: NIfTI already exists.\n",
      "Skipping I1512677: NIfTI already exists.\n"
     ]
    },
    {
     "name": "stderr",
     "output_type": "stream",
     "text": [
      "C:\\Users\\SAIFUL_BADHON\\AppData\\Roaming\\Python\\Python312\\site-packages\\pydicom\\valuerep.py:440: UserWarning: Invalid value for VR UI: '2.16.124.113543.6006.99.05505304396633433545'. Please see <https://dicom.nema.org/medical/dicom/current/output/html/part05.html#table_6.2-1> for allowed values for each VR.\n",
      "  warn_and_log(msg)\n"
     ]
    },
    {
     "name": "stdout",
     "output_type": "stream",
     "text": [
      "Converted I1137054 to NIfTI at C:\\Users\\SAIFUL_BADHON\\Downloads\\fMRI\\output\\I1137054\n"
     ]
    },
    {
     "name": "stderr",
     "output_type": "stream",
     "text": [
      "Traceback (most recent call last):\n",
      "  File \"C:\\Users\\SAIFUL_BADHON\\AppData\\Roaming\\Python\\Python312\\site-packages\\dicom2nifti\\convert_philips.py\", line 348, in _singleframe_to_block\n",
      "    full_block = numpy.concatenate(data_blocks, axis=3)\n",
      "                 ^^^^^^^^^^^^^^^^^^^^^^^^^^^^^^^^^^^^^^\n",
      "ValueError: all the input array dimensions except for the concatenation axis must match exactly, but along dimension 2, the array at index 0 has size 48 and the array at index 196 has size 47\n",
      "Traceback (most recent call last):\n",
      "  File \"C:\\Users\\SAIFUL_BADHON\\AppData\\Roaming\\Python\\Python312\\site-packages\\dicom2nifti\\convert_philips.py\", line 348, in _singleframe_to_block\n",
      "    full_block = numpy.concatenate(data_blocks, axis=3)\n",
      "                 ^^^^^^^^^^^^^^^^^^^^^^^^^^^^^^^^^^^^^^\n",
      "ValueError: all the input array dimensions except for the concatenation axis must match exactly, but along dimension 2, the array at index 0 has size 48 and the array at index 196 has size 47\n",
      "\n",
      "During handling of the above exception, another exception occurred:\n",
      "\n",
      "Traceback (most recent call last):\n",
      "  File \"C:\\Users\\SAIFUL_BADHON\\AppData\\Roaming\\Python\\Python312\\site-packages\\dicom2nifti\\convert_dir.py\", line 86, in convert_directory\n",
      "    convert_dicom.dicom_array_to_nifti(dicom_input, nifti_file, reorient)\n",
      "  File \"C:\\Users\\SAIFUL_BADHON\\AppData\\Roaming\\Python\\Python312\\site-packages\\dicom2nifti\\convert_dicom.py\", line 125, in dicom_array_to_nifti\n",
      "    results = convert_philips.dicom_to_nifti(dicom_list, output_file)\n",
      "              ^^^^^^^^^^^^^^^^^^^^^^^^^^^^^^^^^^^^^^^^^^^^^^^^^^^^^^^\n",
      "  File \"C:\\Users\\SAIFUL_BADHON\\AppData\\Roaming\\Python\\Python312\\site-packages\\dicom2nifti\\convert_philips.py\", line 66, in dicom_to_nifti\n",
      "    return _singleframe_to_nifti(grouped_dicoms, output_file)\n",
      "           ^^^^^^^^^^^^^^^^^^^^^^^^^^^^^^^^^^^^^^^^^^^^^^^^^^\n",
      "  File \"C:\\Users\\SAIFUL_BADHON\\AppData\\Roaming\\Python\\Python312\\site-packages\\dicom2nifti\\convert_philips.py\", line 284, in _singleframe_to_nifti\n",
      "    full_block = _singleframe_to_block(grouped_dicoms)\n",
      "                 ^^^^^^^^^^^^^^^^^^^^^^^^^^^^^^^^^^^^^\n",
      "  File \"C:\\Users\\SAIFUL_BADHON\\AppData\\Roaming\\Python\\Python312\\site-packages\\dicom2nifti\\convert_philips.py\", line 351, in _singleframe_to_block\n",
      "    raise ConversionError(\"MISSING_DICOM_FILES\")\n",
      "dicom2nifti.exceptions.ConversionError: MISSING_DICOM_FILES\n",
      "C:\\Users\\SAIFUL_BADHON\\AppData\\Roaming\\Python\\Python312\\site-packages\\pydicom\\valuerep.py:440: UserWarning: Invalid value for VR UI: '2.16.124.113543.6006.99.0666751561785399972'. Please see <https://dicom.nema.org/medical/dicom/current/output/html/part05.html#table_6.2-1> for allowed values for each VR.\n",
      "  warn_and_log(msg)\n"
     ]
    },
    {
     "name": "stdout",
     "output_type": "stream",
     "text": [
      "Converted I1162444 to NIfTI at C:\\Users\\SAIFUL_BADHON\\Downloads\\fMRI\\output\\I1162444\n",
      "Converted I1192926 to NIfTI at C:\\Users\\SAIFUL_BADHON\\Downloads\\fMRI\\output\\I1192926\n",
      "Converted I1488075 to NIfTI at C:\\Users\\SAIFUL_BADHON\\Downloads\\fMRI\\output\\I1488075\n",
      "Converted I955209 to NIfTI at C:\\Users\\SAIFUL_BADHON\\Downloads\\fMRI\\output\\I955209\n",
      "Converted I1037907 to NIfTI at C:\\Users\\SAIFUL_BADHON\\Downloads\\fMRI\\output\\I1037907\n",
      "Converted I680900 to NIfTI at C:\\Users\\SAIFUL_BADHON\\Downloads\\fMRI\\output\\I680900\n",
      "Converted I953864 to NIfTI at C:\\Users\\SAIFUL_BADHON\\Downloads\\fMRI\\output\\I953864\n"
     ]
    },
    {
     "name": "stderr",
     "output_type": "stream",
     "text": [
      "C:\\Users\\SAIFUL_BADHON\\AppData\\Roaming\\Python\\Python312\\site-packages\\pydicom\\valuerep.py:440: UserWarning: Invalid value for VR UI: '2.16.124.113543.6006.99.06599116437738849996'. Please see <https://dicom.nema.org/medical/dicom/current/output/html/part05.html#table_6.2-1> for allowed values for each VR.\n",
      "  warn_and_log(msg)\n"
     ]
    },
    {
     "name": "stdout",
     "output_type": "stream",
     "text": [
      "Converted I1113405 to NIfTI at C:\\Users\\SAIFUL_BADHON\\Downloads\\fMRI\\output\\I1113405\n",
      "Converted I1064239 to NIfTI at C:\\Users\\SAIFUL_BADHON\\Downloads\\fMRI\\output\\I1064239\n",
      "Converted I902663 to NIfTI at C:\\Users\\SAIFUL_BADHON\\Downloads\\fMRI\\output\\I902663\n",
      "Skipping I1060840: NIfTI already exists.\n",
      "Converted I695057 to NIfTI at C:\\Users\\SAIFUL_BADHON\\Downloads\\fMRI\\output\\I695057\n"
     ]
    },
    {
     "name": "stderr",
     "output_type": "stream",
     "text": [
      "C:\\Users\\SAIFUL_BADHON\\AppData\\Roaming\\Python\\Python312\\site-packages\\pydicom\\valuerep.py:440: UserWarning: Invalid value for VR UI: '2.16.124.113543.6006.99.03684407851522423442'. Please see <https://dicom.nema.org/medical/dicom/current/output/html/part05.html#table_6.2-1> for allowed values for each VR.\n",
      "  warn_and_log(msg)\n"
     ]
    },
    {
     "name": "stdout",
     "output_type": "stream",
     "text": [
      "Converted I942912 to NIfTI at C:\\Users\\SAIFUL_BADHON\\Downloads\\fMRI\\output\\I942912\n",
      "Converted I1084938 to NIfTI at C:\\Users\\SAIFUL_BADHON\\Downloads\\fMRI\\output\\I1084938\n"
     ]
    },
    {
     "name": "stderr",
     "output_type": "stream",
     "text": [
      "C:\\Users\\SAIFUL_BADHON\\AppData\\Roaming\\Python\\Python312\\site-packages\\pydicom\\valuerep.py:440: UserWarning: Invalid value for VR UI: '2.16.124.113543.6006.99.07386985718055232072'. Please see <https://dicom.nema.org/medical/dicom/current/output/html/part05.html#table_6.2-1> for allowed values for each VR.\n",
      "  warn_and_log(msg)\n"
     ]
    },
    {
     "name": "stdout",
     "output_type": "stream",
     "text": [
      "Converted I1060807 to NIfTI at C:\\Users\\SAIFUL_BADHON\\Downloads\\fMRI\\output\\I1060807\n"
     ]
    },
    {
     "name": "stderr",
     "output_type": "stream",
     "text": [
      "C:\\Users\\SAIFUL_BADHON\\AppData\\Roaming\\Python\\Python312\\site-packages\\pydicom\\valuerep.py:440: UserWarning: Invalid value for VR UI: '2.16.124.113543.6006.99.02742062743280333733'. Please see <https://dicom.nema.org/medical/dicom/current/output/html/part05.html#table_6.2-1> for allowed values for each VR.\n",
      "  warn_and_log(msg)\n"
     ]
    },
    {
     "name": "stdout",
     "output_type": "stream",
     "text": [
      "Converted I1244532 to NIfTI at C:\\Users\\SAIFUL_BADHON\\Downloads\\fMRI\\output\\I1244532\n"
     ]
    },
    {
     "name": "stderr",
     "output_type": "stream",
     "text": [
      "C:\\Users\\SAIFUL_BADHON\\AppData\\Roaming\\Python\\Python312\\site-packages\\pydicom\\valuerep.py:440: UserWarning: Invalid value for VR UI: '2.16.124.113543.6006.99.04914456266460730901'. Please see <https://dicom.nema.org/medical/dicom/current/output/html/part05.html#table_6.2-1> for allowed values for each VR.\n",
      "  warn_and_log(msg)\n"
     ]
    },
    {
     "name": "stdout",
     "output_type": "stream",
     "text": [
      "Converted I1676709 to NIfTI at C:\\Users\\SAIFUL_BADHON\\Downloads\\fMRI\\output\\I1676709\n",
      "Skipping I905395: NIfTI already exists.\n",
      "Skipping I680924: NIfTI already exists.\n"
     ]
    },
    {
     "name": "stderr",
     "output_type": "stream",
     "text": [
      "C:\\Users\\SAIFUL_BADHON\\AppData\\Roaming\\Python\\Python312\\site-packages\\pydicom\\valuerep.py:440: UserWarning: Invalid value for VR UI: '2.16.124.113543.6006.99.02512173821539974784'. Please see <https://dicom.nema.org/medical/dicom/current/output/html/part05.html#table_6.2-1> for allowed values for each VR.\n",
      "  warn_and_log(msg)\n"
     ]
    },
    {
     "name": "stdout",
     "output_type": "stream",
     "text": [
      "Converted I974760 to NIfTI at C:\\Users\\SAIFUL_BADHON\\Downloads\\fMRI\\output\\I974760\n"
     ]
    },
    {
     "name": "stderr",
     "output_type": "stream",
     "text": [
      "C:\\Users\\SAIFUL_BADHON\\AppData\\Roaming\\Python\\Python312\\site-packages\\pydicom\\valuerep.py:440: UserWarning: Invalid value for VR UI: '2.16.124.113543.6006.99.06205607434200403191'. Please see <https://dicom.nema.org/medical/dicom/current/output/html/part05.html#table_6.2-1> for allowed values for each VR.\n",
      "  warn_and_log(msg)\n"
     ]
    },
    {
     "name": "stdout",
     "output_type": "stream",
     "text": [
      "Converted I1325573 to NIfTI at C:\\Users\\SAIFUL_BADHON\\Downloads\\fMRI\\output\\I1325573\n"
     ]
    },
    {
     "name": "stderr",
     "output_type": "stream",
     "text": [
      "C:\\Users\\SAIFUL_BADHON\\AppData\\Roaming\\Python\\Python312\\site-packages\\pydicom\\valuerep.py:440: UserWarning: Invalid value for VR UI: '2.16.124.113543.6006.99.01073048669706301686'. Please see <https://dicom.nema.org/medical/dicom/current/output/html/part05.html#table_6.2-1> for allowed values for each VR.\n",
      "  warn_and_log(msg)\n"
     ]
    },
    {
     "name": "stdout",
     "output_type": "stream",
     "text": [
      "Converted I1327196 to NIfTI at C:\\Users\\SAIFUL_BADHON\\Downloads\\fMRI\\output\\I1327196\n",
      "Converted I990573 to NIfTI at C:\\Users\\SAIFUL_BADHON\\Downloads\\fMRI\\output\\I990573\n",
      "Skipping I1178798: NIfTI already exists.\n"
     ]
    }
   ],
   "source": [
    "# import nibabel as nib\n",
    "# import dicom2nifti\n",
    "# import numpy as np\n",
    "# import os\n",
    "\n",
    "# # Assuming folders is a list of directories where DICOM files are stored\n",
    "# # for i in folders:\n",
    "    \n",
    "# # Define DICOM folder path\n",
    "# for i in folders:\n",
    "#     file_name = i.split(\"\\\\\")[-1]  # Extract a part of the folder name for the NIfTI file name\n",
    "#     dicom_folder = i\n",
    "#     nifti_output = os.path.join(r\"C:\\Users\\SAIFUL_BADHON\\Downloads\\fMRI\\output\", f\"{file_name}\") # Use the extracted file_name for the NIfTI file name\n",
    "    \n",
    "#     if not os.path.exists(nifti_output):\n",
    "#         os.makedirs(nifti_output)\n",
    "        \n",
    "    \n",
    "#     # Convert DICOM folder to NIfTI\n",
    "#     dicom2nifti.convert_directory(dicom_folder, nifti_output)  # Directly provide the full output path\n",
    "    \n",
    "#     print(f\"NIfTI file saved at {nifti_output}\")\n",
    "\n",
    "\n",
    "\n",
    "import os\n",
    "import nibabel as nib\n",
    "import dicom2nifti\n",
    "import numpy as np\n",
    "\n",
    "\n",
    "\n",
    "output_root = r\"C:\\Users\\SAIFUL_BADHON\\Downloads\\fMRI\\output\"\n",
    "\n",
    "for i in folders:\n",
    "    folder_name = i.split(\"\\\\\")[-1]  # Get the last part of the path\n",
    "    nifti_output_folder = os.path.join(output_root, folder_name)\n",
    "\n",
    "    # Skip if output folder exists and contains a .nii or .nii.gz file\n",
    "    if os.path.exists(nifti_output_folder):\n",
    "        nifti_files = [f for f in os.listdir(nifti_output_folder) if f.endswith('.nii') or f.endswith('.nii.gz')]\n",
    "        if nifti_files:\n",
    "            print(f\"Skipping {folder_name}: NIfTI already exists.\")\n",
    "            continue\n",
    "    else:\n",
    "        os.makedirs(nifti_output_folder)\n",
    "\n",
    "    # Convert DICOM to NIfTI\n",
    "    try:\n",
    "        dicom2nifti.convert_directory(i, nifti_output_folder)\n",
    "        print(f\"Converted {folder_name} to NIfTI at {nifti_output_folder}\")\n",
    "    except Exception as e:\n",
    "        print(f\"Failed to convert {folder_name}: {e}\")\n",
    "\n"
   ]
  },
  {
   "cell_type": "code",
   "execution_count": null,
   "id": "2ca647ee-4a63-47bd-90b8-6437ddeb1aee",
   "metadata": {},
   "outputs": [],
   "source": [
    "# # Define DICOM folder path\n",
    "# dicom_folder = r\"C:\\Users\\SAIFUL_BADHON\\Downloads\\fMRI\\ADNI\\006_S_4546\\Resting_State_fMRI\\2012-09-24_12_27_31.0\\I336551\"  # Folder containing multiple DICOM files\n",
    "# nifti_output = r\"C:\\Users\\SAIFUL_BADHON\\Downloads\\fMRI\\output\"\n",
    "\n",
    "# # Convert DICOM folder to NIfTI\n",
    "# dicom2nifti.convert_directory(dicom_folder, os.path.dirname(nifti_output))\n",
    "# print(f\"NIfTI file saved at {nifti_output}\")\n"
   ]
  },
  {
   "cell_type": "code",
   "execution_count": 1,
   "id": "0d76476b-5639-400c-9d10-97b0a9a86149",
   "metadata": {},
   "outputs": [],
   "source": [
    "import os\n",
    "import numpy as np\n",
    "import nibabel as nib\n",
    "import pandas as pd\n",
    "from sklearn.model_selection import train_test_split\n",
    "from sklearn.preprocessing import LabelEncoder\n",
    "from torch.utils.data import Dataset, DataLoader\n",
    "import torch\n",
    "import torch.nn as nn\n",
    "import torch.nn.functional as F\n",
    "from torchvision import transforms\n",
    "from tqdm import tqdm\n",
    "import torchvision.transforms.functional as TF\n"
   ]
  },
  {
   "cell_type": "code",
   "execution_count": 2,
   "id": "d036b7ea-5dce-4512-9604-3dcda320bd17",
   "metadata": {},
   "outputs": [],
   "source": [
    "# Configuration\n",
    "fmri_root_folder = r'C:\\Users\\SAIFUL_BADHON\\Downloads\\fMRI\\output'  # Top-level folder containing subfolders\n",
    "csv_path = r'C:\\Users\\SAIFUL_BADHON\\Downloads\\fMRI_3_24_2025.csv'\n",
    "img_size = (64, 64, 64)\n",
    "batch_size = 8\n",
    "num_epochs = 10\n",
    "lr = 0.001"
   ]
  },
  {
   "cell_type": "code",
   "execution_count": 5,
   "id": "0707285a-5995-43f4-a5e7-16c3c588cd5c",
   "metadata": {},
   "outputs": [],
   "source": [
    "\n",
    "# Step 1: Load metadata\n",
    "df = pd.read_csv(csv_path)\n",
    "# label_encoder = LabelEncoder()\n",
    "# df['label'] = label_encoder.fit_transform(df['Group'])  # Converts Group to 0-5 labels\n"
   ]
  },
  {
   "cell_type": "code",
   "execution_count": 9,
   "id": "a9dd9c1a-5923-44bf-aee7-2ed13ff19c60",
   "metadata": {},
   "outputs": [
    {
     "name": "stdout",
     "output_type": "stream",
     "text": [
      "Encoded label values: [1 0]\n"
     ]
    }
   ],
   "source": [
    "def check_valid_nii_exists(image_id, root_folder):\n",
    "    folder = os.path.join(root_folder, str(image_id))\n",
    "    if not os.path.isdir(folder):\n",
    "        return False\n",
    "    for file in os.listdir(folder):\n",
    "        if file.endswith('.nii') or file.endswith('.nii.gz'):\n",
    "            return True\n",
    "    return False\n",
    "\n",
    "df['has_file'] = df['Image Data ID'].apply(lambda x: check_valid_nii_exists(x, fmri_root_folder))\n",
    "df = df[df['has_file']].reset_index(drop=True)\n",
    "\n",
    "def map_to_binary(group):\n",
    "    if group in ['CN', 'SMC']:\n",
    "        return 0\n",
    "    else:\n",
    "        return 1\n",
    "\n",
    "df['label'] = df['Group'].apply(map_to_binary)\n",
    "# # ✅ Step 2: Encode labels *after* filtering so they match the actual data\n",
    "# label_encoder = LabelEncoder()\n",
    "# df['label'] = label_encoder.fit_transform(df['Group'])\n",
    "\n",
    "# Debug check\n",
    "# print(\"Final label classes used:\", list(label_encoder.classes_))\n",
    "print(\"Encoded label values:\", df['label'].unique())"
   ]
  },
  {
   "cell_type": "code",
   "execution_count": 11,
   "id": "4e706326-4cc1-4755-801e-84c5e1d3e8e7",
   "metadata": {},
   "outputs": [
    {
     "data": {
      "text/html": [
       "<div>\n",
       "<style scoped>\n",
       "    .dataframe tbody tr th:only-of-type {\n",
       "        vertical-align: middle;\n",
       "    }\n",
       "\n",
       "    .dataframe tbody tr th {\n",
       "        vertical-align: top;\n",
       "    }\n",
       "\n",
       "    .dataframe thead th {\n",
       "        text-align: right;\n",
       "    }\n",
       "</style>\n",
       "<table border=\"1\" class=\"dataframe\">\n",
       "  <thead>\n",
       "    <tr style=\"text-align: right;\">\n",
       "      <th></th>\n",
       "      <th>Image Data ID</th>\n",
       "      <th>Subject</th>\n",
       "      <th>Group</th>\n",
       "      <th>Sex</th>\n",
       "      <th>Age</th>\n",
       "      <th>Visit</th>\n",
       "      <th>Modality</th>\n",
       "      <th>Description</th>\n",
       "      <th>Type</th>\n",
       "      <th>Acq Date</th>\n",
       "      <th>Format</th>\n",
       "      <th>Downloaded</th>\n",
       "      <th>has_file</th>\n",
       "      <th>label</th>\n",
       "    </tr>\n",
       "  </thead>\n",
       "  <tbody>\n",
       "    <tr>\n",
       "      <th>0</th>\n",
       "      <td>I1178798</td>\n",
       "      <td>007_S_6341</td>\n",
       "      <td>MCI</td>\n",
       "      <td>M</td>\n",
       "      <td>68</td>\n",
       "      <td>y1</td>\n",
       "      <td>fMRI</td>\n",
       "      <td>Axial MB rsfMRI (Eyes Open)</td>\n",
       "      <td>Original</td>\n",
       "      <td>6/11/2019</td>\n",
       "      <td>DCM</td>\n",
       "      <td>NaN</td>\n",
       "      <td>True</td>\n",
       "      <td>1</td>\n",
       "    </tr>\n",
       "    <tr>\n",
       "      <th>1</th>\n",
       "      <td>I990573</td>\n",
       "      <td>007_S_6341</td>\n",
       "      <td>MCI</td>\n",
       "      <td>M</td>\n",
       "      <td>67</td>\n",
       "      <td>sc</td>\n",
       "      <td>fMRI</td>\n",
       "      <td>Axial MB rsfMRI (Eyes Open)</td>\n",
       "      <td>Original</td>\n",
       "      <td>4/30/2018</td>\n",
       "      <td>DCM</td>\n",
       "      <td>NaN</td>\n",
       "      <td>True</td>\n",
       "      <td>1</td>\n",
       "    </tr>\n",
       "    <tr>\n",
       "      <th>2</th>\n",
       "      <td>I1327196</td>\n",
       "      <td>007_S_6310</td>\n",
       "      <td>CN</td>\n",
       "      <td>F</td>\n",
       "      <td>70</td>\n",
       "      <td>y2</td>\n",
       "      <td>fMRI</td>\n",
       "      <td>Axial MB rsfMRI (Eyes Open)</td>\n",
       "      <td>Original</td>\n",
       "      <td>8/05/2020</td>\n",
       "      <td>DCM</td>\n",
       "      <td>NaN</td>\n",
       "      <td>True</td>\n",
       "      <td>0</td>\n",
       "    </tr>\n",
       "    <tr>\n",
       "      <th>3</th>\n",
       "      <td>I974760</td>\n",
       "      <td>007_S_6255</td>\n",
       "      <td>CN</td>\n",
       "      <td>F</td>\n",
       "      <td>75</td>\n",
       "      <td>sc</td>\n",
       "      <td>fMRI</td>\n",
       "      <td>Axial MB rsfMRI (Eyes Open)</td>\n",
       "      <td>Original</td>\n",
       "      <td>3/05/2018</td>\n",
       "      <td>DCM</td>\n",
       "      <td>NaN</td>\n",
       "      <td>True</td>\n",
       "      <td>0</td>\n",
       "    </tr>\n",
       "    <tr>\n",
       "      <th>4</th>\n",
       "      <td>I1325573</td>\n",
       "      <td>007_S_6255</td>\n",
       "      <td>CN</td>\n",
       "      <td>F</td>\n",
       "      <td>78</td>\n",
       "      <td>y2</td>\n",
       "      <td>fMRI</td>\n",
       "      <td>Axial MB rsfMRI (Eyes Open)</td>\n",
       "      <td>Original</td>\n",
       "      <td>7/27/2020</td>\n",
       "      <td>DCM</td>\n",
       "      <td>NaN</td>\n",
       "      <td>True</td>\n",
       "      <td>0</td>\n",
       "    </tr>\n",
       "    <tr>\n",
       "      <th>...</th>\n",
       "      <td>...</td>\n",
       "      <td>...</td>\n",
       "      <td>...</td>\n",
       "      <td>...</td>\n",
       "      <td>...</td>\n",
       "      <td>...</td>\n",
       "      <td>...</td>\n",
       "      <td>...</td>\n",
       "      <td>...</td>\n",
       "      <td>...</td>\n",
       "      <td>...</td>\n",
       "      <td>...</td>\n",
       "      <td>...</td>\n",
       "      <td>...</td>\n",
       "    </tr>\n",
       "    <tr>\n",
       "      <th>216</th>\n",
       "      <td>I243902</td>\n",
       "      <td>002_S_0685</td>\n",
       "      <td>CN</td>\n",
       "      <td>F</td>\n",
       "      <td>95</td>\n",
       "      <td>v06</td>\n",
       "      <td>fMRI</td>\n",
       "      <td>Resting State fMRI</td>\n",
       "      <td>Original</td>\n",
       "      <td>7/08/2011</td>\n",
       "      <td>DCM</td>\n",
       "      <td>NaN</td>\n",
       "      <td>True</td>\n",
       "      <td>0</td>\n",
       "    </tr>\n",
       "    <tr>\n",
       "      <th>217</th>\n",
       "      <td>I1221056</td>\n",
       "      <td>002_S_0413</td>\n",
       "      <td>CN</td>\n",
       "      <td>F</td>\n",
       "      <td>90</td>\n",
       "      <td>y2</td>\n",
       "      <td>fMRI</td>\n",
       "      <td>Axial MB rsfMRI (Eyes Open)</td>\n",
       "      <td>Original</td>\n",
       "      <td>8/27/2019</td>\n",
       "      <td>DCM</td>\n",
       "      <td>NaN</td>\n",
       "      <td>True</td>\n",
       "      <td>0</td>\n",
       "    </tr>\n",
       "    <tr>\n",
       "      <th>218</th>\n",
       "      <td>I304790</td>\n",
       "      <td>002_S_0413</td>\n",
       "      <td>CN</td>\n",
       "      <td>F</td>\n",
       "      <td>82</td>\n",
       "      <td>v11</td>\n",
       "      <td>fMRI</td>\n",
       "      <td>Resting State fMRI</td>\n",
       "      <td>Original</td>\n",
       "      <td>5/15/2012</td>\n",
       "      <td>DCM</td>\n",
       "      <td>NaN</td>\n",
       "      <td>True</td>\n",
       "      <td>0</td>\n",
       "    </tr>\n",
       "    <tr>\n",
       "      <th>219</th>\n",
       "      <td>I240811</td>\n",
       "      <td>002_S_0413</td>\n",
       "      <td>CN</td>\n",
       "      <td>F</td>\n",
       "      <td>82</td>\n",
       "      <td>v06</td>\n",
       "      <td>fMRI</td>\n",
       "      <td>Resting State fMRI</td>\n",
       "      <td>Original</td>\n",
       "      <td>6/16/2011</td>\n",
       "      <td>DCM</td>\n",
       "      <td>NaN</td>\n",
       "      <td>True</td>\n",
       "      <td>0</td>\n",
       "    </tr>\n",
       "    <tr>\n",
       "      <th>220</th>\n",
       "      <td>I423209</td>\n",
       "      <td>002_S_0413</td>\n",
       "      <td>CN</td>\n",
       "      <td>F</td>\n",
       "      <td>84</td>\n",
       "      <td>v31</td>\n",
       "      <td>fMRI</td>\n",
       "      <td>Extended Resting State fMRI</td>\n",
       "      <td>Original</td>\n",
       "      <td>5/01/2014</td>\n",
       "      <td>DCM</td>\n",
       "      <td>NaN</td>\n",
       "      <td>True</td>\n",
       "      <td>0</td>\n",
       "    </tr>\n",
       "  </tbody>\n",
       "</table>\n",
       "<p>221 rows × 14 columns</p>\n",
       "</div>"
      ],
      "text/plain": [
       "    Image Data ID     Subject Group Sex  Age Visit Modality  \\\n",
       "0        I1178798  007_S_6341   MCI   M   68    y1     fMRI   \n",
       "1         I990573  007_S_6341   MCI   M   67    sc     fMRI   \n",
       "2        I1327196  007_S_6310    CN   F   70    y2     fMRI   \n",
       "3         I974760  007_S_6255    CN   F   75    sc     fMRI   \n",
       "4        I1325573  007_S_6255    CN   F   78    y2     fMRI   \n",
       "..            ...         ...   ...  ..  ...   ...      ...   \n",
       "216       I243902  002_S_0685    CN   F   95   v06     fMRI   \n",
       "217      I1221056  002_S_0413    CN   F   90    y2     fMRI   \n",
       "218       I304790  002_S_0413    CN   F   82   v11     fMRI   \n",
       "219       I240811  002_S_0413    CN   F   82   v06     fMRI   \n",
       "220       I423209  002_S_0413    CN   F   84   v31     fMRI   \n",
       "\n",
       "                     Description      Type   Acq Date Format  Downloaded  \\\n",
       "0    Axial MB rsfMRI (Eyes Open)  Original  6/11/2019    DCM         NaN   \n",
       "1    Axial MB rsfMRI (Eyes Open)  Original  4/30/2018    DCM         NaN   \n",
       "2    Axial MB rsfMRI (Eyes Open)  Original  8/05/2020    DCM         NaN   \n",
       "3    Axial MB rsfMRI (Eyes Open)  Original  3/05/2018    DCM         NaN   \n",
       "4    Axial MB rsfMRI (Eyes Open)  Original  7/27/2020    DCM         NaN   \n",
       "..                           ...       ...        ...    ...         ...   \n",
       "216           Resting State fMRI  Original  7/08/2011    DCM         NaN   \n",
       "217  Axial MB rsfMRI (Eyes Open)  Original  8/27/2019    DCM         NaN   \n",
       "218           Resting State fMRI  Original  5/15/2012    DCM         NaN   \n",
       "219           Resting State fMRI  Original  6/16/2011    DCM         NaN   \n",
       "220  Extended Resting State fMRI  Original  5/01/2014    DCM         NaN   \n",
       "\n",
       "     has_file  label  \n",
       "0        True      1  \n",
       "1        True      1  \n",
       "2        True      0  \n",
       "3        True      0  \n",
       "4        True      0  \n",
       "..        ...    ...  \n",
       "216      True      0  \n",
       "217      True      0  \n",
       "218      True      0  \n",
       "219      True      0  \n",
       "220      True      0  \n",
       "\n",
       "[221 rows x 14 columns]"
      ]
     },
     "execution_count": 11,
     "metadata": {},
     "output_type": "execute_result"
    }
   ],
   "source": [
    "df"
   ]
  },
  {
   "cell_type": "code",
   "execution_count": 13,
   "id": "f6dc04c9-a23a-48ed-9bb2-35e445c3a5f7",
   "metadata": {},
   "outputs": [
    {
     "data": {
      "text/plain": [
       "Group\n",
       "CN      104\n",
       "MCI      41\n",
       "LMCI     32\n",
       "EMCI     25\n",
       "AD       12\n",
       "SMC       7\n",
       "Name: count, dtype: int64"
      ]
     },
     "execution_count": 13,
     "metadata": {},
     "output_type": "execute_result"
    }
   ],
   "source": [
    "df[\"Group\"].value_counts()"
   ]
  },
  {
   "cell_type": "code",
   "execution_count": 15,
   "id": "bdabdb15-2f85-4717-9c0f-b5c8e5a3467d",
   "metadata": {},
   "outputs": [
    {
     "data": {
      "text/plain": [
       "label\n",
       "0    111\n",
       "1    110\n",
       "Name: count, dtype: int64"
      ]
     },
     "execution_count": 15,
     "metadata": {},
     "output_type": "execute_result"
    }
   ],
   "source": [
    "df[\"label\"].value_counts()"
   ]
  },
  {
   "cell_type": "code",
   "execution_count": 27,
   "id": "48a22087-4f85-4404-97f4-b6cfff841abd",
   "metadata": {},
   "outputs": [],
   "source": [
    "# Step 2: Preprocess fMRI images (4D -> 3D)\n",
    "def load_and_preprocess_nifti_from_folder(folder_path):\n",
    "    nii_file = None\n",
    "    for file in os.listdir(folder_path):\n",
    "        if file.endswith('.nii') or file.endswith('.nii.gz'):\n",
    "            nii_file = os.path.join(folder_path, file)\n",
    "            break\n",
    "    if nii_file is None:\n",
    "        raise FileNotFoundError(f\"No NIfTI file found in {folder_path}\")\n",
    "    img = nib.load(nii_file)\n",
    "    data = img.get_fdata()\n",
    "    mean_3d = np.mean(data, axis=3)  # 4D -> 3D\n",
    "    return mean_3d\n",
    "\n",
    "def resize_volume(img, size=img_size):\n",
    "    import scipy.ndimage\n",
    "    zoom_factors = [s / float(img.shape[i]) for i, s in enumerate(size)]\n",
    "    return scipy.ndimage.zoom(img, zoom=zoom_factors, order=1)"
   ]
  },
  {
   "cell_type": "code",
   "execution_count": 29,
   "id": "aad8c7b5-08b2-4aaf-8427-784cb3a7dcab",
   "metadata": {},
   "outputs": [],
   "source": [
    "# Step 3: PyTorch Dataset\n",
    "class FMRIDataset(Dataset):\n",
    "    def __init__(self, dataframe, data_root, transform=None):\n",
    "        self.df = dataframe\n",
    "        self.data_root = data_root\n",
    "        self.transform = transform\n",
    "\n",
    "    def __len__(self):\n",
    "        return len(self.df)\n",
    "\n",
    "    def __getitem__(self, idx):\n",
    "        row = self.df.iloc[idx]\n",
    "        img_id = str(row['Image Data ID'])\n",
    "        label = int(row['label'])\n",
    "        folder_path = os.path.join(self.data_root, img_id)\n",
    "        volume = load_and_preprocess_nifti_from_folder(folder_path)\n",
    "        volume = resize_volume(volume)\n",
    "        volume = (volume - volume.mean()) / (volume.std() + 1e-5)\n",
    "        volume = np.expand_dims(volume, axis=0)  # Shape: (1, D, H, W)\n",
    "        return torch.tensor(volume, dtype=torch.float32), torch.tensor(label)"
   ]
  },
  {
   "cell_type": "code",
   "execution_count": 31,
   "id": "2642474e-36c8-420e-aa1a-54aad72890cf",
   "metadata": {},
   "outputs": [],
   "source": [
    "# Step 4: Train/test split\n",
    "train_df, test_df = train_test_split(df, test_size=0.2, stratify=df['label'], random_state=42)\n",
    "train_dataset = FMRIDataset(train_df, fmri_root_folder)\n",
    "test_dataset = FMRIDataset(test_df, fmri_root_folder)\n",
    "train_loader = DataLoader(train_dataset, batch_size=batch_size, shuffle=True)\n",
    "test_loader = DataLoader(test_dataset, batch_size=batch_size)"
   ]
  },
  {
   "cell_type": "code",
   "execution_count": 33,
   "id": "d0e73195-68f1-4db8-8e76-ab8dcb993edf",
   "metadata": {},
   "outputs": [],
   "source": [
    "# Step 5: Updated 3D CNN Model\n",
    "class Simple3DCNN(nn.Module):\n",
    "    def __init__(self, num_classes=2):\n",
    "        super(Simple3DCNN, self).__init__()\n",
    "        self.conv1 = nn.Conv3d(1, 8, kernel_size=3, padding=1)\n",
    "        self.pool1 = nn.MaxPool3d(2)\n",
    "        self.conv2 = nn.Conv3d(8, 16, kernel_size=3, padding=1)\n",
    "        self.pool2 = nn.MaxPool3d(2)\n",
    "        self.fc1 = nn.Linear(16 * 16 * 16 * 16, 64)\n",
    "        self.fc2 = nn.Linear(64, num_classes)\n",
    "\n",
    "    def forward(self, x):\n",
    "        x = self.pool1(F.relu(self.conv1(x)))  # -> (8, 32, 32, 32)\n",
    "        x = self.pool2(F.relu(self.conv2(x)))  # -> (16, 16, 16, 16)\n",
    "        x = x.view(x.size(0), -1)\n",
    "        x = F.relu(self.fc1(x))\n",
    "        return self.fc2(x)\n"
   ]
  },
  {
   "cell_type": "code",
   "execution_count": 35,
   "id": "c272c215-3a6f-4d5f-b855-10c3a5a178f9",
   "metadata": {},
   "outputs": [
    {
     "name": "stderr",
     "output_type": "stream",
     "text": [
      "Epoch 1/10: 100%|██████████████████████████████████████████████████████████████████████| 22/22 [03:08<00:00,  8.57s/it]\n"
     ]
    },
    {
     "name": "stdout",
     "output_type": "stream",
     "text": [
      "Epoch 1 Loss: 0.9425\n"
     ]
    },
    {
     "name": "stderr",
     "output_type": "stream",
     "text": [
      "Epoch 2/10: 100%|██████████████████████████████████████████████████████████████████████| 22/22 [03:08<00:00,  8.58s/it]\n"
     ]
    },
    {
     "name": "stdout",
     "output_type": "stream",
     "text": [
      "Epoch 2 Loss: 0.6603\n"
     ]
    },
    {
     "name": "stderr",
     "output_type": "stream",
     "text": [
      "Epoch 3/10: 100%|██████████████████████████████████████████████████████████████████████| 22/22 [03:07<00:00,  8.53s/it]\n"
     ]
    },
    {
     "name": "stdout",
     "output_type": "stream",
     "text": [
      "Epoch 3 Loss: 0.5717\n"
     ]
    },
    {
     "name": "stderr",
     "output_type": "stream",
     "text": [
      "Epoch 4/10: 100%|██████████████████████████████████████████████████████████████████████| 22/22 [03:08<00:00,  8.55s/it]\n"
     ]
    },
    {
     "name": "stdout",
     "output_type": "stream",
     "text": [
      "Epoch 4 Loss: 0.4555\n"
     ]
    },
    {
     "name": "stderr",
     "output_type": "stream",
     "text": [
      "Epoch 5/10: 100%|██████████████████████████████████████████████████████████████████████| 22/22 [03:12<00:00,  8.74s/it]\n"
     ]
    },
    {
     "name": "stdout",
     "output_type": "stream",
     "text": [
      "Epoch 5 Loss: 0.2862\n"
     ]
    },
    {
     "name": "stderr",
     "output_type": "stream",
     "text": [
      "Epoch 6/10: 100%|██████████████████████████████████████████████████████████████████████| 22/22 [03:08<00:00,  8.55s/it]\n"
     ]
    },
    {
     "name": "stdout",
     "output_type": "stream",
     "text": [
      "Epoch 6 Loss: 0.1833\n"
     ]
    },
    {
     "name": "stderr",
     "output_type": "stream",
     "text": [
      "Epoch 7/10: 100%|██████████████████████████████████████████████████████████████████████| 22/22 [02:55<00:00,  7.98s/it]\n"
     ]
    },
    {
     "name": "stdout",
     "output_type": "stream",
     "text": [
      "Epoch 7 Loss: 0.1449\n"
     ]
    },
    {
     "name": "stderr",
     "output_type": "stream",
     "text": [
      "Epoch 8/10: 100%|██████████████████████████████████████████████████████████████████████| 22/22 [02:51<00:00,  7.78s/it]\n"
     ]
    },
    {
     "name": "stdout",
     "output_type": "stream",
     "text": [
      "Epoch 8 Loss: 0.0731\n"
     ]
    },
    {
     "name": "stderr",
     "output_type": "stream",
     "text": [
      "Epoch 9/10: 100%|██████████████████████████████████████████████████████████████████████| 22/22 [02:52<00:00,  7.82s/it]\n"
     ]
    },
    {
     "name": "stdout",
     "output_type": "stream",
     "text": [
      "Epoch 9 Loss: 0.0346\n"
     ]
    },
    {
     "name": "stderr",
     "output_type": "stream",
     "text": [
      "Epoch 10/10: 100%|█████████████████████████████████████████████████████████████████████| 22/22 [03:07<00:00,  8.52s/it]"
     ]
    },
    {
     "name": "stdout",
     "output_type": "stream",
     "text": [
      "Epoch 10 Loss: 0.0152\n"
     ]
    },
    {
     "name": "stderr",
     "output_type": "stream",
     "text": [
      "\n"
     ]
    }
   ],
   "source": [
    "\n",
    "# Step 6: Training loop\n",
    "device = torch.device('cuda' if torch.cuda.is_available() else 'cpu')\n",
    "model = Simple3DCNN(num_classes=2).to(device)\n",
    "criterion = nn.CrossEntropyLoss()\n",
    "optimizer = torch.optim.Adam(model.parameters(), lr=lr)\n",
    "\n",
    "for epoch in range(num_epochs):\n",
    "    model.train()\n",
    "    running_loss = 0\n",
    "    for inputs, labels in tqdm(train_loader, desc=f\"Epoch {epoch+1}/{num_epochs}\"):\n",
    "        inputs, labels = inputs.to(device), labels.to(device)\n",
    "        optimizer.zero_grad()\n",
    "        outputs = model(inputs)\n",
    "        loss = criterion(outputs, labels)\n",
    "        loss.backward()\n",
    "        optimizer.step()\n",
    "        running_loss += loss.item()\n",
    "    print(f\"Epoch {epoch+1} Loss: {running_loss/len(train_loader):.4f}\")\n",
    "\n"
   ]
  },
  {
   "cell_type": "code",
   "execution_count": 39,
   "id": "fd92245a-acc8-44d7-bb51-40e8bbc49992",
   "metadata": {},
   "outputs": [
    {
     "name": "stdout",
     "output_type": "stream",
     "text": [
      "Classification Report:\n",
      "\n",
      "              precision    recall  f1-score   support\n",
      "\n",
      "           0       0.83      0.83      0.83        23\n",
      "           1       0.82      0.82      0.82        22\n",
      "\n",
      "    accuracy                           0.82        45\n",
      "   macro avg       0.82      0.82      0.82        45\n",
      "weighted avg       0.82      0.82      0.82        45\n",
      "\n"
     ]
    }
   ],
   "source": [
    "from sklearn.metrics import classification_report\n",
    "\n",
    "model.eval()\n",
    "all_preds = []\n",
    "all_labels = []\n",
    "\n",
    "with torch.no_grad():\n",
    "    for inputs, labels in test_loader:\n",
    "        inputs, labels = inputs.to(device), labels.to(device)\n",
    "        outputs = model(inputs)\n",
    "        _, predicted = torch.max(outputs, 1)\n",
    "        all_preds.extend(predicted.cpu().numpy())\n",
    "        all_labels.extend(labels.cpu().numpy())\n",
    "\n",
    "# Report precision, recall, f1-score for each class\n",
    "\n",
    "report = classification_report(all_labels, all_preds)\n",
    "print(\"Classification Report:\\n\")\n",
    "print(report)\n"
   ]
  },
  {
   "cell_type": "code",
   "execution_count": null,
   "id": "a590dc04-809d-4117-a17d-501ac477ff90",
   "metadata": {},
   "outputs": [],
   "source": []
  }
 ],
 "metadata": {
  "kernelspec": {
   "display_name": "Python 3 (ipykernel)",
   "language": "python",
   "name": "python3"
  },
  "language_info": {
   "codemirror_mode": {
    "name": "ipython",
    "version": 3
   },
   "file_extension": ".py",
   "mimetype": "text/x-python",
   "name": "python",
   "nbconvert_exporter": "python",
   "pygments_lexer": "ipython3",
   "version": "3.12.4"
  }
 },
 "nbformat": 4,
 "nbformat_minor": 5
}
